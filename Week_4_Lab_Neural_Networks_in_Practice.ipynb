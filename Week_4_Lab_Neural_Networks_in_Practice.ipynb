{
  "nbformat": 4,
  "nbformat_minor": 0,
  "metadata": {
    "anaconda-cloud": {},
    "colab": {
      "name": "Week_4_Lab_Neural_Networks_in_Practice.ipynb",
      "provenance": [],
      "include_colab_link": true
    },
    "kernelspec": {
      "display_name": "Python 3",
      "language": "python",
      "name": "python3"
    },
    "language_info": {
      "codemirror_mode": {
        "name": "ipython",
        "version": 3
      },
      "file_extension": ".py",
      "mimetype": "text/x-python",
      "name": "python",
      "nbconvert_exporter": "python",
      "pygments_lexer": "ipython3",
      "version": "3.7.0"
    }
  },
  "cells": [
    {
      "cell_type": "markdown",
      "metadata": {
        "id": "view-in-github",
        "colab_type": "text"
      },
      "source": [
        "<a href=\"https://colab.research.google.com/github/ChandraMaddikunta/Week-4-lab/blob/master/Week_4_Lab_Neural_Networks_in_Practice.ipynb\" target=\"_parent\"><img src=\"https://colab.research.google.com/assets/colab-badge.svg\" alt=\"Open In Colab\"/></a>"
      ]
    },
    {
      "cell_type": "markdown",
      "metadata": {
        "colab_type": "text",
        "id": "jE7Q3E9i9Evd"
      },
      "source": [
        "# Week 4 Lab: Neural Networks in practice"
      ]
    },
    {
      "cell_type": "markdown",
      "metadata": {
        "id": "X18UmT47bkBr",
        "colab_type": "text"
      },
      "source": [
        "# Chandra Maddikunta\n",
        "* EAI6000"
      ]
    },
    {
      "cell_type": "code",
      "metadata": {
        "colab_type": "code",
        "hide_input": false,
        "id": "gWDjQyV59Evg",
        "outputId": "a1aa2cf2-2d54-4bad-c7f9-e209fa87a6f1",
        "colab": {
          "base_uri": "https://localhost:8080/",
          "height": 96
        }
      },
      "source": [
        "# Global imports and settings\n",
        "\n",
        "from IPython.display import set_matplotlib_formats, display\n",
        "import pandas as pd\n",
        "import numpy as np\n",
        "import matplotlib.pyplot as plt\n",
        "from cycler import cycler\n",
        "import keras\n",
        "print(\"Using Keras\",keras.__version__)\n",
        "%matplotlib inline\n",
        "plt.rcParams['figure.dpi'] = 125 # Use 300 for PDF, 100 for slides\n"
      ],
      "execution_count": 1,
      "outputs": [
        {
          "output_type": "stream",
          "text": [
            "Using TensorFlow backend.\n"
          ],
          "name": "stderr"
        },
        {
          "output_type": "display_data",
          "data": {
            "text/html": [
              "<p style=\"color: red;\">\n",
              "The default version of TensorFlow in Colab will soon switch to TensorFlow 2.x.<br>\n",
              "We recommend you <a href=\"https://www.tensorflow.org/guide/migrate\" target=\"_blank\">upgrade</a> now \n",
              "or ensure your notebook will continue to use TensorFlow 1.x via the <code>%tensorflow_version 1.x</code> magic:\n",
              "<a href=\"https://colab.research.google.com/notebooks/tensorflow_version.ipynb\" target=\"_blank\">more info</a>.</p>\n"
            ],
            "text/plain": [
              "<IPython.core.display.HTML object>"
            ]
          },
          "metadata": {
            "tags": []
          }
        },
        {
          "output_type": "stream",
          "text": [
            "Using Keras 2.2.5\n"
          ],
          "name": "stdout"
        }
      ]
    },
    {
      "cell_type": "markdown",
      "metadata": {
        "cell_style": "center",
        "colab_type": "text",
        "id": "QJdIHypq9Evk"
      },
      "source": [
        "### Overview\n",
        "* Solving basic classification and regression problems\n",
        "* Handling textual data\n",
        "* Model selection (and overfitting)"
      ]
    },
    {
      "cell_type": "markdown",
      "metadata": {
        "colab_type": "text",
        "id": "njT6MasM9Evl"
      },
      "source": [
        "## Solving basic problems\n",
        "* Binary classification (of movie reviews)\n",
        "* Multiclass classification (of news topics)\n",
        "* Regression (of house prices)\n",
        "\n",
        "Examples from _Deep Learning with Python_, by _François Chollet_"
      ]
    },
    {
      "cell_type": "markdown",
      "metadata": {
        "colab_type": "text",
        "id": "xsUfzIi59Evn"
      },
      "source": [
        "### Binary classification\n",
        "* Dataset: 50,000 IMDB reviews, labeled positive (1) or negative (0)\n",
        "    - Included in Keras, with a 50/50 train-test split\n",
        "* Each row is one review, with only the 10,000 most frequent words retained\n",
        "* Each word is replaced by a _word index_ (word ID)"
      ]
    },
    {
      "cell_type": "code",
      "metadata": {
        "colab_type": "code",
        "hide_input": true,
        "id": "Mk42XDWZ9Evn",
        "outputId": "2a438af7-40e1-4725-afd7-c8d21aef5ed3",
        "colab": {
          "base_uri": "https://localhost:8080/",
          "height": 50
        }
      },
      "source": [
        "from keras.datasets import imdb\n",
        "# Download IMDB data with 10000 most frequent words\n",
        "(train_data, train_labels), (test_data, test_labels) = imdb.load_data(num_words=10000)\n",
        "print(\"Encoded review: \", train_data[0][0:10])\n",
        "\n",
        "word_index = imdb.get_word_index()\n",
        "reverse_word_index = dict([(value, key) for (key, value) in word_index.items()])\n",
        "print(\"Original review: \", ' '.join([reverse_word_index.get(i - 3, '?') for i in train_data[0]][0:10]))"
      ],
      "execution_count": 2,
      "outputs": [
        {
          "output_type": "stream",
          "text": [
            "Encoded review:  [1, 14, 22, 16, 43, 530, 973, 1622, 1385, 65]\n",
            "Original review:  ? this film was just brilliant casting location scenery story\n"
          ],
          "name": "stdout"
        }
      ]
    },
    {
      "cell_type": "markdown",
      "metadata": {
        "colab_type": "text",
        "id": "gbHSVzma9Evq"
      },
      "source": [
        "#### Preprocessing\n",
        "* We can't input lists of categorical value to a neural net, we need to create tensors\n",
        "* One-hot-encoding:\n",
        "    -  10000 features, '1.0' if the word occurs\n",
        "* Word embeddings (word2vec):\n",
        "    - Map each word to a dense vector that represents it (it's _embedding_)\n",
        "    - _Embedding_ layer: pre-trained layer that looks up the embedding in a dictionary \n",
        "    - Converts 2D tensor of word indices (zero-padded) to 3D tensor of embeddings\n",
        "* Let's do One-Hot-Encoding for now. We'll come back to _Embedding_ layers.\n",
        "* Also vectorize the labels: from 0/1 to float\n",
        "    - Binary classification works with one output node"
      ]
    },
    {
      "cell_type": "code",
      "metadata": {
        "colab_type": "code",
        "hide_input": true,
        "id": "nSzfO-XG9Evs",
        "colab": {}
      },
      "source": [
        "# Custom implementation of one-hot-encoding\n",
        "def vectorize_sequences(sequences, dimension=10000):\n",
        "    results = np.zeros((len(sequences), dimension))\n",
        "    for i, sequence in enumerate(sequences):\n",
        "        results[i, sequence] = 1.  # set specific indices of results[i] to 1s\n",
        "    return results\n",
        "x_train = vectorize_sequences(train_data)\n",
        "x_test = vectorize_sequences(test_data)\n",
        "y_train = np.asarray(train_labels).astype('float32')\n",
        "y_test = np.asarray(test_labels).astype('float32')"
      ],
      "execution_count": 0,
      "outputs": []
    },
    {
      "cell_type": "markdown",
      "metadata": {
        "colab_type": "text",
        "id": "4_JHofjQRme1"
      },
      "source": [
        "#### Understanding the format of IMDB dataset\n",
        "1. Train_data and test_data are an array of lists. What does the length of this array correspond to? What does the length of each list correspond to?\n",
        "2. What are the sizes of the vectorized x_train and x_test? What do the dimensions correspond to?\n",
        "3. What is the most common word in the first review in the training data? Hint: use the word index (see above)? \n",
        "4. Print the first review to verify. "
      ]
    },
    {
      "cell_type": "code",
      "metadata": {
        "colab_type": "code",
        "id": "ceBrbGWxRLJK",
        "outputId": "8c8c1a58-a6cd-4768-d718-53938adb4f7e",
        "colab": {
          "base_uri": "https://localhost:8080/",
          "height": 171
        }
      },
      "source": [
        "train_data"
      ],
      "execution_count": 4,
      "outputs": [
        {
          "output_type": "execute_result",
          "data": {
            "text/plain": [
              "array([list([1, 14, 22, 16, 43, 530, 973, 1622, 1385, 65, 458, 4468, 66, 3941, 4, 173, 36, 256, 5, 25, 100, 43, 838, 112, 50, 670, 2, 9, 35, 480, 284, 5, 150, 4, 172, 112, 167, 2, 336, 385, 39, 4, 172, 4536, 1111, 17, 546, 38, 13, 447, 4, 192, 50, 16, 6, 147, 2025, 19, 14, 22, 4, 1920, 4613, 469, 4, 22, 71, 87, 12, 16, 43, 530, 38, 76, 15, 13, 1247, 4, 22, 17, 515, 17, 12, 16, 626, 18, 2, 5, 62, 386, 12, 8, 316, 8, 106, 5, 4, 2223, 5244, 16, 480, 66, 3785, 33, 4, 130, 12, 16, 38, 619, 5, 25, 124, 51, 36, 135, 48, 25, 1415, 33, 6, 22, 12, 215, 28, 77, 52, 5, 14, 407, 16, 82, 2, 8, 4, 107, 117, 5952, 15, 256, 4, 2, 7, 3766, 5, 723, 36, 71, 43, 530, 476, 26, 400, 317, 46, 7, 4, 2, 1029, 13, 104, 88, 4, 381, 15, 297, 98, 32, 2071, 56, 26, 141, 6, 194, 7486, 18, 4, 226, 22, 21, 134, 476, 26, 480, 5, 144, 30, 5535, 18, 51, 36, 28, 224, 92, 25, 104, 4, 226, 65, 16, 38, 1334, 88, 12, 16, 283, 5, 16, 4472, 113, 103, 32, 15, 16, 5345, 19, 178, 32]),\n",
              "       list([1, 194, 1153, 194, 8255, 78, 228, 5, 6, 1463, 4369, 5012, 134, 26, 4, 715, 8, 118, 1634, 14, 394, 20, 13, 119, 954, 189, 102, 5, 207, 110, 3103, 21, 14, 69, 188, 8, 30, 23, 7, 4, 249, 126, 93, 4, 114, 9, 2300, 1523, 5, 647, 4, 116, 9, 35, 8163, 4, 229, 9, 340, 1322, 4, 118, 9, 4, 130, 4901, 19, 4, 1002, 5, 89, 29, 952, 46, 37, 4, 455, 9, 45, 43, 38, 1543, 1905, 398, 4, 1649, 26, 6853, 5, 163, 11, 3215, 2, 4, 1153, 9, 194, 775, 7, 8255, 2, 349, 2637, 148, 605, 2, 8003, 15, 123, 125, 68, 2, 6853, 15, 349, 165, 4362, 98, 5, 4, 228, 9, 43, 2, 1157, 15, 299, 120, 5, 120, 174, 11, 220, 175, 136, 50, 9, 4373, 228, 8255, 5, 2, 656, 245, 2350, 5, 4, 9837, 131, 152, 491, 18, 2, 32, 7464, 1212, 14, 9, 6, 371, 78, 22, 625, 64, 1382, 9, 8, 168, 145, 23, 4, 1690, 15, 16, 4, 1355, 5, 28, 6, 52, 154, 462, 33, 89, 78, 285, 16, 145, 95]),\n",
              "       list([1, 14, 47, 8, 30, 31, 7, 4, 249, 108, 7, 4, 5974, 54, 61, 369, 13, 71, 149, 14, 22, 112, 4, 2401, 311, 12, 16, 3711, 33, 75, 43, 1829, 296, 4, 86, 320, 35, 534, 19, 263, 4821, 1301, 4, 1873, 33, 89, 78, 12, 66, 16, 4, 360, 7, 4, 58, 316, 334, 11, 4, 1716, 43, 645, 662, 8, 257, 85, 1200, 42, 1228, 2578, 83, 68, 3912, 15, 36, 165, 1539, 278, 36, 69, 2, 780, 8, 106, 14, 6905, 1338, 18, 6, 22, 12, 215, 28, 610, 40, 6, 87, 326, 23, 2300, 21, 23, 22, 12, 272, 40, 57, 31, 11, 4, 22, 47, 6, 2307, 51, 9, 170, 23, 595, 116, 595, 1352, 13, 191, 79, 638, 89, 2, 14, 9, 8, 106, 607, 624, 35, 534, 6, 227, 7, 129, 113]),\n",
              "       ...,\n",
              "       list([1, 11, 6, 230, 245, 6401, 9, 6, 1225, 446, 2, 45, 2174, 84, 8322, 4007, 21, 4, 912, 84, 2, 325, 725, 134, 2, 1715, 84, 5, 36, 28, 57, 1099, 21, 8, 140, 8, 703, 5, 2, 84, 56, 18, 1644, 14, 9, 31, 7, 4, 9406, 1209, 2295, 2, 1008, 18, 6, 20, 207, 110, 563, 12, 8, 2901, 2, 8, 97, 6, 20, 53, 4767, 74, 4, 460, 364, 1273, 29, 270, 11, 960, 108, 45, 40, 29, 2961, 395, 11, 6, 4065, 500, 7, 2, 89, 364, 70, 29, 140, 4, 64, 4780, 11, 4, 2678, 26, 178, 4, 529, 443, 2, 5, 27, 710, 117, 2, 8123, 165, 47, 84, 37, 131, 818, 14, 595, 10, 10, 61, 1242, 1209, 10, 10, 288, 2260, 1702, 34, 2901, 2, 4, 65, 496, 4, 231, 7, 790, 5, 6, 320, 234, 2766, 234, 1119, 1574, 7, 496, 4, 139, 929, 2901, 2, 7750, 5, 4241, 18, 4, 8497, 2, 250, 11, 1818, 7561, 4, 4217, 5408, 747, 1115, 372, 1890, 1006, 541, 9303, 7, 4, 59, 2, 4, 3586, 2]),\n",
              "       list([1, 1446, 7079, 69, 72, 3305, 13, 610, 930, 8, 12, 582, 23, 5, 16, 484, 685, 54, 349, 11, 4120, 2959, 45, 58, 1466, 13, 197, 12, 16, 43, 23, 2, 5, 62, 30, 145, 402, 11, 4131, 51, 575, 32, 61, 369, 71, 66, 770, 12, 1054, 75, 100, 2198, 8, 4, 105, 37, 69, 147, 712, 75, 3543, 44, 257, 390, 5, 69, 263, 514, 105, 50, 286, 1814, 23, 4, 123, 13, 161, 40, 5, 421, 4, 116, 16, 897, 13, 2, 40, 319, 5872, 112, 6700, 11, 4803, 121, 25, 70, 3468, 4, 719, 3798, 13, 18, 31, 62, 40, 8, 7200, 4, 2, 7, 14, 123, 5, 942, 25, 8, 721, 12, 145, 5, 202, 12, 160, 580, 202, 12, 6, 52, 58, 2, 92, 401, 728, 12, 39, 14, 251, 8, 15, 251, 5, 2, 12, 38, 84, 80, 124, 12, 9, 23]),\n",
              "       list([1, 17, 6, 194, 337, 7, 4, 204, 22, 45, 254, 8, 106, 14, 123, 4, 2, 270, 2, 5, 2, 2, 732, 2098, 101, 405, 39, 14, 1034, 4, 1310, 9, 115, 50, 305, 12, 47, 4, 168, 5, 235, 7, 38, 111, 699, 102, 7, 4, 4039, 9245, 9, 24, 6, 78, 1099, 17, 2345, 2, 21, 27, 9685, 6139, 5, 2, 1603, 92, 1183, 4, 1310, 7, 4, 204, 42, 97, 90, 35, 221, 109, 29, 127, 27, 118, 8, 97, 12, 157, 21, 6789, 2, 9, 6, 66, 78, 1099, 4, 631, 1191, 5, 2642, 272, 191, 1070, 6, 7585, 8, 2197, 2, 2, 544, 5, 383, 1271, 848, 1468, 2, 497, 2, 8, 1597, 8778, 2, 21, 60, 27, 239, 9, 43, 8368, 209, 405, 10, 10, 12, 764, 40, 4, 248, 20, 12, 16, 5, 174, 1791, 72, 7, 51, 6, 1739, 22, 4, 204, 131, 9])],\n",
              "      dtype=object)"
            ]
          },
          "metadata": {
            "tags": []
          },
          "execution_count": 4
        }
      ]
    },
    {
      "cell_type": "code",
      "metadata": {
        "id": "ucUBp1Xeq98Q",
        "colab_type": "code",
        "outputId": "cca7e1ad-85d3-4a52-d799-c58beae913f1",
        "colab": {
          "base_uri": "https://localhost:8080/",
          "height": 171
        }
      },
      "source": [
        "test_data"
      ],
      "execution_count": 5,
      "outputs": [
        {
          "output_type": "execute_result",
          "data": {
            "text/plain": [
              "array([list([1, 591, 202, 14, 31, 6, 717, 10, 10, 2, 2, 5, 4, 360, 7, 4, 177, 5760, 394, 354, 4, 123, 9, 1035, 1035, 1035, 10, 10, 13, 92, 124, 89, 488, 7944, 100, 28, 1668, 14, 31, 23, 27, 7479, 29, 220, 468, 8, 124, 14, 286, 170, 8, 157, 46, 5, 27, 239, 16, 179, 2, 38, 32, 25, 7944, 451, 202, 14, 6, 717]),\n",
              "       list([1, 14, 22, 3443, 6, 176, 7, 5063, 88, 12, 2679, 23, 1310, 5, 109, 943, 4, 114, 9, 55, 606, 5, 111, 7, 4, 139, 193, 273, 23, 4, 172, 270, 11, 7216, 2, 4, 8463, 2801, 109, 1603, 21, 4, 22, 3861, 8, 6, 1193, 1330, 10, 10, 4, 105, 987, 35, 841, 2, 19, 861, 1074, 5, 1987, 2, 45, 55, 221, 15, 670, 5304, 526, 14, 1069, 4, 405, 5, 2438, 7, 27, 85, 108, 131, 4, 5045, 5304, 3884, 405, 9, 3523, 133, 5, 50, 13, 104, 51, 66, 166, 14, 22, 157, 9, 4, 530, 239, 34, 8463, 2801, 45, 407, 31, 7, 41, 3778, 105, 21, 59, 299, 12, 38, 950, 5, 4521, 15, 45, 629, 488, 2733, 127, 6, 52, 292, 17, 4, 6936, 185, 132, 1988, 5304, 1799, 488, 2693, 47, 6, 392, 173, 4, 2, 4378, 270, 2352, 4, 1500, 7, 4, 65, 55, 73, 11, 346, 14, 20, 9, 6, 976, 2078, 7, 5293, 861, 2, 5, 4182, 30, 3127, 2, 56, 4, 841, 5, 990, 692, 8, 4, 1669, 398, 229, 10, 10, 13, 2822, 670, 5304, 14, 9, 31, 7, 27, 111, 108, 15, 2033, 19, 7836, 1429, 875, 551, 14, 22, 9, 1193, 21, 45, 4829, 5, 45, 252, 8, 2, 6, 565, 921, 3639, 39, 4, 529, 48, 25, 181, 8, 67, 35, 1732, 22, 49, 238, 60, 135, 1162, 14, 9, 290, 4, 58, 10, 10, 472, 45, 55, 878, 8, 169, 11, 374, 5687, 25, 203, 28, 8, 818, 12, 125, 4, 3077]),\n",
              "       list([1, 111, 748, 4368, 1133, 2, 2, 4, 87, 1551, 1262, 7, 31, 318, 9459, 7, 4, 498, 5076, 748, 63, 29, 5161, 220, 686, 2, 5, 17, 12, 575, 220, 2507, 17, 6, 185, 132, 2, 16, 53, 928, 11, 2, 74, 4, 438, 21, 27, 2, 589, 8, 22, 107, 2, 2, 997, 1638, 8, 35, 2076, 9019, 11, 22, 231, 54, 29, 1706, 29, 100, 2, 2425, 34, 2, 8738, 2, 5, 2, 98, 31, 2122, 33, 6, 58, 14, 3808, 1638, 8, 4, 365, 7, 2789, 3761, 356, 346, 4, 2, 1060, 63, 29, 93, 11, 5421, 11, 2, 33, 6, 58, 54, 1270, 431, 748, 7, 32, 2580, 16, 11, 94, 2, 10, 10, 4, 993, 2, 7, 4, 1766, 2634, 2164, 2, 8, 847, 8, 1450, 121, 31, 7, 27, 86, 2663, 2, 16, 6, 465, 993, 2006, 2, 573, 17, 2, 42, 4, 2, 37, 473, 6, 711, 6, 8869, 7, 328, 212, 70, 30, 258, 11, 220, 32, 7, 108, 21, 133, 12, 9, 55, 465, 849, 3711, 53, 33, 2071, 1969, 37, 70, 1144, 4, 5940, 1409, 74, 476, 37, 62, 91, 1329, 169, 4, 1330, 2, 146, 655, 2212, 5, 258, 12, 184, 2, 546, 5, 849, 2, 7, 4, 22, 1436, 18, 631, 1386, 797, 7, 4, 8712, 71, 348, 425, 4320, 1061, 19, 2, 5, 2, 11, 661, 8, 339, 2, 4, 2455, 2, 7, 4, 1962, 10, 10, 263, 787, 9, 270, 11, 6, 9466, 4, 2, 2, 121, 4, 5437, 26, 4434, 19, 68, 1372, 5, 28, 446, 6, 318, 7149, 8, 67, 51, 36, 70, 81, 8, 4392, 2294, 36, 1197, 8, 2, 2, 18, 6, 711, 4, 9909, 26, 2, 1125, 11, 14, 636, 720, 12, 426, 28, 77, 776, 8, 97, 38, 111, 7489, 6175, 168, 1239, 5189, 137, 2, 18, 27, 173, 9, 2399, 17, 6, 2, 428, 2, 232, 11, 4, 8014, 37, 272, 40, 2708, 247, 30, 656, 6, 2, 54, 2, 3292, 98, 6, 2840, 40, 558, 37, 6093, 98, 4, 2, 1197, 15, 14, 9, 57, 4893, 5, 4659, 6, 275, 711, 7937, 2, 3292, 98, 6, 2, 10, 10, 6639, 19, 14, 2, 267, 162, 711, 37, 5900, 752, 98, 4, 2, 2378, 90, 19, 6, 2, 7, 2, 1810, 2, 4, 4770, 3183, 930, 8, 508, 90, 4, 1317, 8, 4, 2, 17, 2, 3965, 1853, 4, 1494, 8, 4468, 189, 4, 2, 6287, 5774, 4, 4770, 5, 95, 271, 23, 6, 7742, 6063, 2, 5437, 33, 1526, 6, 425, 3155, 2, 4535, 1636, 7, 4, 4669, 2, 469, 4, 4552, 54, 4, 150, 5664, 2, 280, 53, 2, 2, 18, 339, 29, 1978, 27, 7885, 5, 2, 68, 1830, 19, 6571, 2, 4, 1515, 7, 263, 65, 2132, 34, 6, 5680, 7489, 43, 159, 29, 9, 4706, 9, 387, 73, 195, 584, 10, 10, 1069, 4, 58, 810, 54, 14, 6078, 117, 22, 16, 93, 5, 1069, 4, 192, 15, 12, 16, 93, 34, 6, 1766, 2, 33, 4, 5673, 7, 15, 2, 9252, 3286, 325, 12, 62, 30, 776, 8, 67, 14, 17, 6, 2, 44, 148, 687, 2, 203, 42, 203, 24, 28, 69, 2, 6676, 11, 330, 54, 29, 93, 2, 21, 845, 2, 27, 1099, 7, 819, 4, 22, 1407, 17, 6, 2, 787, 7, 2460, 2, 2, 100, 30, 4, 3737, 3617, 3169, 2321, 42, 1898, 11, 4, 3814, 42, 101, 704, 7, 101, 999, 15, 1625, 94, 2926, 180, 5, 9, 9101, 34, 2, 45, 6, 1429, 22, 60, 6, 1220, 31, 11, 94, 6408, 96, 21, 94, 749, 9, 57, 975]),\n",
              "       ...,\n",
              "       list([1, 13, 1408, 15, 8, 135, 14, 9, 35, 32, 46, 394, 20, 62, 30, 5093, 21, 45, 184, 78, 4, 1492, 910, 769, 2290, 2515, 395, 4257, 5, 1454, 11, 119, 2, 89, 1036, 4, 116, 218, 78, 21, 407, 100, 30, 128, 262, 15, 7, 185, 2280, 284, 1842, 2, 37, 315, 4, 226, 20, 272, 2942, 40, 29, 152, 60, 181, 8, 30, 50, 553, 362, 80, 119, 12, 21, 846, 5518]),\n",
              "       list([1, 11, 119, 241, 9, 4, 840, 20, 12, 468, 15, 94, 3684, 562, 791, 39, 4, 86, 107, 8, 97, 14, 31, 33, 4, 2960, 7, 743, 46, 1028, 9, 3531, 5, 4, 768, 47, 8, 79, 90, 145, 164, 162, 50, 6, 501, 119, 7, 9, 4, 78, 232, 15, 16, 224, 11, 4, 333, 20, 4, 985, 200, 5, 2, 5, 9, 1861, 8, 79, 357, 4, 20, 47, 220, 57, 206, 139, 11, 12, 5, 55, 117, 212, 13, 1276, 92, 124, 51, 45, 1188, 71, 536, 13, 520, 14, 20, 6, 2302, 7, 470]),\n",
              "       list([1, 6, 52, 7465, 430, 22, 9, 220, 2594, 8, 28, 2, 519, 3227, 6, 769, 15, 47, 6, 3482, 4067, 8, 114, 5, 33, 222, 31, 55, 184, 704, 5586, 2, 19, 346, 3153, 5, 6, 364, 350, 4, 184, 5586, 9, 133, 1810, 11, 5417, 2, 21, 4, 7298, 2, 570, 50, 2005, 2643, 9, 6, 1249, 17, 6, 2, 2, 21, 17, 6, 1211, 232, 1138, 2249, 29, 266, 56, 96, 346, 194, 308, 9, 194, 21, 29, 218, 1078, 19, 4, 78, 173, 7, 27, 2, 5698, 3406, 718, 2, 9, 6, 6907, 17, 210, 5, 3281, 5677, 47, 77, 395, 14, 172, 173, 18, 2740, 2931, 4517, 82, 127, 27, 173, 11, 6, 392, 217, 21, 50, 9, 57, 65, 12, 2, 53, 40, 35, 390, 7, 11, 4, 3567, 7, 4, 314, 74, 6, 792, 22, 2, 19, 714, 727, 5205, 382, 4, 91, 6533, 439, 19, 14, 20, 9, 1441, 5805, 1118, 4, 756, 25, 124, 4, 31, 12, 16, 93, 804, 34, 2005, 2643])],\n",
              "      dtype=object)"
            ]
          },
          "metadata": {
            "tags": []
          },
          "execution_count": 5
        }
      ]
    },
    {
      "cell_type": "code",
      "metadata": {
        "id": "L2LLvp8tnhlo",
        "colab_type": "code",
        "outputId": "1eb237cd-b06a-4706-bf23-123257f7c638",
        "colab": {
          "base_uri": "https://localhost:8080/",
          "height": 34
        }
      },
      "source": [
        "len(train_data)"
      ],
      "execution_count": 6,
      "outputs": [
        {
          "output_type": "execute_result",
          "data": {
            "text/plain": [
              "25000"
            ]
          },
          "metadata": {
            "tags": []
          },
          "execution_count": 6
        }
      ]
    },
    {
      "cell_type": "code",
      "metadata": {
        "id": "b0HwjXqcrA8k",
        "colab_type": "code",
        "outputId": "51748050-645b-4e1f-ac87-6fb56af51e60",
        "colab": {
          "base_uri": "https://localhost:8080/",
          "height": 34
        }
      },
      "source": [
        "len(test_data)"
      ],
      "execution_count": 7,
      "outputs": [
        {
          "output_type": "execute_result",
          "data": {
            "text/plain": [
              "25000"
            ]
          },
          "metadata": {
            "tags": []
          },
          "execution_count": 7
        }
      ]
    },
    {
      "cell_type": "code",
      "metadata": {
        "id": "29K4fO8AnZW4",
        "colab_type": "code",
        "outputId": "5a37b479-4bd2-49eb-deff-b6aa6b39f8da",
        "colab": {
          "base_uri": "https://localhost:8080/",
          "height": 34
        }
      },
      "source": [
        "len(train_data[0])"
      ],
      "execution_count": 8,
      "outputs": [
        {
          "output_type": "execute_result",
          "data": {
            "text/plain": [
              "218"
            ]
          },
          "metadata": {
            "tags": []
          },
          "execution_count": 8
        }
      ]
    },
    {
      "cell_type": "code",
      "metadata": {
        "id": "wmFsJjQxrFWq",
        "colab_type": "code",
        "outputId": "82b83ac8-62bd-4a32-d92c-46a5350c3d53",
        "colab": {
          "base_uri": "https://localhost:8080/",
          "height": 34
        }
      },
      "source": [
        "len(test_data[0])"
      ],
      "execution_count": 9,
      "outputs": [
        {
          "output_type": "execute_result",
          "data": {
            "text/plain": [
              "68"
            ]
          },
          "metadata": {
            "tags": []
          },
          "execution_count": 9
        }
      ]
    },
    {
      "cell_type": "code",
      "metadata": {
        "id": "-j-yvc8ySZAB",
        "colab_type": "code",
        "colab": {
          "base_uri": "https://localhost:8080/",
          "height": 134
        },
        "outputId": "3a0a7ae6-b828-4acf-9536-1b0fa91acd7b"
      },
      "source": [
        "x_train"
      ],
      "execution_count": 10,
      "outputs": [
        {
          "output_type": "execute_result",
          "data": {
            "text/plain": [
              "array([[0., 1., 1., ..., 0., 0., 0.],\n",
              "       [0., 1., 1., ..., 0., 0., 0.],\n",
              "       [0., 1., 1., ..., 0., 0., 0.],\n",
              "       ...,\n",
              "       [0., 1., 1., ..., 0., 0., 0.],\n",
              "       [0., 1., 1., ..., 0., 0., 0.],\n",
              "       [0., 1., 1., ..., 0., 0., 0.]])"
            ]
          },
          "metadata": {
            "tags": []
          },
          "execution_count": 10
        }
      ]
    },
    {
      "cell_type": "code",
      "metadata": {
        "id": "bfMD5UbAbCFO",
        "colab_type": "code",
        "colab": {
          "base_uri": "https://localhost:8080/",
          "height": 34
        },
        "outputId": "2f86302a-187e-4679-9852-a8643385263f"
      },
      "source": [
        "x_train.size"
      ],
      "execution_count": 11,
      "outputs": [
        {
          "output_type": "execute_result",
          "data": {
            "text/plain": [
              "250000000"
            ]
          },
          "metadata": {
            "tags": []
          },
          "execution_count": 11
        }
      ]
    },
    {
      "cell_type": "code",
      "metadata": {
        "id": "WLl0lw9hbCIn",
        "colab_type": "code",
        "colab": {
          "base_uri": "https://localhost:8080/",
          "height": 34
        },
        "outputId": "9ce553b2-8e6d-4ad1-ed66-b0d4ec4e5702"
      },
      "source": [
        "x_test.size"
      ],
      "execution_count": 12,
      "outputs": [
        {
          "output_type": "execute_result",
          "data": {
            "text/plain": [
              "250000000"
            ]
          },
          "metadata": {
            "tags": []
          },
          "execution_count": 12
        }
      ]
    },
    {
      "cell_type": "code",
      "metadata": {
        "id": "JObQPhaonZZ0",
        "colab_type": "code",
        "outputId": "5a20f7de-36e7-452f-eeab-2fb7e0028f23",
        "colab": {
          "base_uri": "https://localhost:8080/",
          "height": 34
        }
      },
      "source": [
        "x_train.shape"
      ],
      "execution_count": 13,
      "outputs": [
        {
          "output_type": "execute_result",
          "data": {
            "text/plain": [
              "(25000, 10000)"
            ]
          },
          "metadata": {
            "tags": []
          },
          "execution_count": 13
        }
      ]
    },
    {
      "cell_type": "code",
      "metadata": {
        "id": "3t5nhctTnZc0",
        "colab_type": "code",
        "outputId": "d7539f6b-1c19-4026-b91b-2606bf55f3a6",
        "colab": {
          "base_uri": "https://localhost:8080/",
          "height": 34
        }
      },
      "source": [
        "x_test.shape"
      ],
      "execution_count": 14,
      "outputs": [
        {
          "output_type": "execute_result",
          "data": {
            "text/plain": [
              "(25000, 10000)"
            ]
          },
          "metadata": {
            "tags": []
          },
          "execution_count": 14
        }
      ]
    },
    {
      "cell_type": "markdown",
      "metadata": {
        "id": "3lGr_GF1RQnL",
        "colab_type": "text"
      },
      "source": [
        "* The length of the array corresponds to numbers of reviews. we have 25000 reviews in both train and test data. The length of the list corresponds to number words in the particular review.\n",
        "\n",
        "* The sizes of x_train and x_test are 250000000 and shapes are (25000, 10000) 25000 corresponds to number of reviews. 10000 corresponds to One-Hot-Encoded format of each review, it is 10000 because total number of words in dataset are 10000 and each review is divided into 10000 values which are 0,1 . '0' when the review doesnt have the certain word, '1' when the review has that word."
      ]
    },
    {
      "cell_type": "code",
      "metadata": {
        "id": "Doso13a7sf4l",
        "colab_type": "code",
        "colab": {}
      },
      "source": [
        "import collections\n",
        "import operator\n",
        "def CountFrequency(arr): \n",
        "    return collections.Counter(arr) \n",
        "\n",
        "freq = CountFrequency(train_data[0])"
      ],
      "execution_count": 0,
      "outputs": []
    },
    {
      "cell_type": "code",
      "metadata": {
        "id": "_eKnh22Vvpn2",
        "colab_type": "code",
        "outputId": "706097ed-c120-4bf1-d1ad-cb2650c7e85b",
        "colab": {
          "base_uri": "https://localhost:8080/",
          "height": 54
        }
      },
      "source": [
        "freq.keys()"
      ],
      "execution_count": 16,
      "outputs": [
        {
          "output_type": "execute_result",
          "data": {
            "text/plain": [
              "dict_keys([1, 14, 22, 16, 43, 530, 973, 1622, 1385, 65, 458, 4468, 66, 3941, 4, 173, 36, 256, 5, 25, 100, 838, 112, 50, 670, 2, 9, 35, 480, 284, 150, 172, 167, 336, 385, 39, 4536, 1111, 17, 546, 38, 13, 447, 192, 6, 147, 2025, 19, 1920, 4613, 469, 71, 87, 12, 76, 15, 1247, 515, 626, 18, 62, 386, 8, 316, 106, 2223, 5244, 3785, 33, 130, 619, 124, 51, 135, 48, 1415, 215, 28, 77, 52, 407, 82, 107, 117, 5952, 7, 3766, 723, 476, 26, 400, 317, 46, 1029, 104, 88, 381, 297, 98, 32, 2071, 56, 141, 194, 7486, 226, 21, 134, 144, 30, 5535, 224, 92, 1334, 283, 4472, 113, 103, 5345, 178])"
            ]
          },
          "metadata": {
            "tags": []
          },
          "execution_count": 16
        }
      ]
    },
    {
      "cell_type": "code",
      "metadata": {
        "id": "7pOVWvy7vNGv",
        "colab_type": "code",
        "outputId": "0be037ef-827c-4bf6-a3f2-c94cefd7c27b",
        "colab": {
          "base_uri": "https://localhost:8080/",
          "height": 34
        }
      },
      "source": [
        "max(freq.items(), key=operator.itemgetter(1))"
      ],
      "execution_count": 17,
      "outputs": [
        {
          "output_type": "execute_result",
          "data": {
            "text/plain": [
              "(4, 15)"
            ]
          },
          "metadata": {
            "tags": []
          },
          "execution_count": 17
        }
      ]
    },
    {
      "cell_type": "code",
      "metadata": {
        "id": "ao3Mvpx5ylAq",
        "colab_type": "code",
        "outputId": "ada02629-789e-4165-deb5-eeff0a643775",
        "colab": {
          "base_uri": "https://localhost:8080/",
          "height": 34
        }
      },
      "source": [
        "reverse_word_index[4 - 3]"
      ],
      "execution_count": 18,
      "outputs": [
        {
          "output_type": "execute_result",
          "data": {
            "text/plain": [
              "'the'"
            ]
          },
          "metadata": {
            "tags": []
          },
          "execution_count": 18
        }
      ]
    },
    {
      "cell_type": "code",
      "metadata": {
        "id": "wbKB_J4v0xAC",
        "colab_type": "code",
        "outputId": "41cfcc3e-8e36-47ff-b77e-8c67104458bc",
        "colab": {
          "base_uri": "https://localhost:8080/",
          "height": 54
        }
      },
      "source": [
        "print(\"First review: \", ' '.join([reverse_word_index.get(i - 3, '') for i in train_data[0]][0:218]))"
      ],
      "execution_count": 19,
      "outputs": [
        {
          "output_type": "stream",
          "text": [
            "First review:   this film was just brilliant casting location scenery story direction everyone's really suited the part they played and you could just imagine being there robert  is an amazing actor and now the same being director  father came from the same scottish island as myself so i loved the fact there was a real connection with this film the witty remarks throughout the film were great it was just brilliant so much that i bought the film as soon as it was released for  and would recommend it to everyone to watch and the fly fishing was amazing really cried at the end it was so sad and you know what they say if you cry at a film it must have been good and this definitely was also  to the two little boy's that played the  of norman and paul they were just brilliant children are often left out of the  list i think because the stars that play them all grown up are such a big profile for the whole film but these children are amazing and should be praised for what they have done don't you think the whole story was so lovely because it was true and was someone's life after all that was shared with us all\n"
          ],
          "name": "stdout"
        }
      ]
    },
    {
      "cell_type": "code",
      "metadata": {
        "id": "vtO6VYOUryXj",
        "colab_type": "code",
        "colab": {}
      },
      "source": [
        "wordstring = [reverse_word_index.get(i - 3) for i in train_data[0]][1:219]\n",
        "#wordstring"
      ],
      "execution_count": 0,
      "outputs": []
    },
    {
      "cell_type": "code",
      "metadata": {
        "id": "8bGBQv1zzzA9",
        "colab_type": "code",
        "outputId": "6bcc7af2-8a70-4bd9-d760-9f1d02a0ac5c",
        "colab": {
          "base_uri": "https://localhost:8080/",
          "height": 70
        }
      },
      "source": [
        "wordfreq = []\n",
        "for w in wordstring:\n",
        "    wordfreq.append(wordstring.count(w))\n",
        "\n",
        "print(\"Pairs\\n\" + str(list(zip(wordstring, wordfreq))))"
      ],
      "execution_count": 21,
      "outputs": [
        {
          "output_type": "stream",
          "text": [
            "Pairs\n",
            "[('this', 3), ('film', 6), ('was', 11), ('just', 4), ('brilliant', 3), ('casting', 1), ('location', 1), ('scenery', 1), ('story', 2), ('direction', 1), (\"everyone's\", 1), ('really', 2), ('suited', 1), ('the', 15), ('part', 1), ('they', 4), ('played', 2), ('and', 9), ('you', 4), ('could', 1), ('just', 4), ('imagine', 1), ('being', 2), ('there', 2), ('robert', 1), (None, 6), ('is', 1), ('an', 1), ('amazing', 3), ('actor', 1), ('and', 9), ('now', 1), ('the', 15), ('same', 2), ('being', 2), ('director', 1), (None, 6), ('father', 1), ('came', 1), ('from', 1), ('the', 15), ('same', 2), ('scottish', 1), ('island', 1), ('as', 3), ('myself', 1), ('so', 4), ('i', 3), ('loved', 1), ('the', 15), ('fact', 1), ('there', 2), ('was', 11), ('a', 3), ('real', 1), ('connection', 1), ('with', 2), ('this', 3), ('film', 6), ('the', 15), ('witty', 1), ('remarks', 1), ('throughout', 1), ('the', 15), ('film', 6), ('were', 2), ('great', 1), ('it', 6), ('was', 11), ('just', 4), ('brilliant', 3), ('so', 4), ('much', 1), ('that', 4), ('i', 3), ('bought', 1), ('the', 15), ('film', 6), ('as', 3), ('soon', 1), ('as', 3), ('it', 6), ('was', 11), ('released', 1), ('for', 3), (None, 6), ('and', 9), ('would', 1), ('recommend', 1), ('it', 6), ('to', 3), ('everyone', 1), ('to', 3), ('watch', 1), ('and', 9), ('the', 15), ('fly', 1), ('fishing', 1), ('was', 11), ('amazing', 3), ('really', 2), ('cried', 1), ('at', 2), ('the', 15), ('end', 1), ('it', 6), ('was', 11), ('so', 4), ('sad', 1), ('and', 9), ('you', 4), ('know', 1), ('what', 2), ('they', 4), ('say', 1), ('if', 1), ('you', 4), ('cry', 1), ('at', 2), ('a', 3), ('film', 6), ('it', 6), ('must', 1), ('have', 2), ('been', 1), ('good', 1), ('and', 9), ('this', 3), ('definitely', 1), ('was', 11), ('also', 1), (None, 6), ('to', 3), ('the', 15), ('two', 1), ('little', 1), (\"boy's\", 1), ('that', 4), ('played', 2), ('the', 15), (None, 6), ('of', 2), ('norman', 1), ('and', 9), ('paul', 1), ('they', 4), ('were', 2), ('just', 4), ('brilliant', 3), ('children', 2), ('are', 3), ('often', 1), ('left', 1), ('out', 1), ('of', 2), ('the', 15), (None, 6), ('list', 1), ('i', 3), ('think', 2), ('because', 2), ('the', 15), ('stars', 1), ('that', 4), ('play', 1), ('them', 1), ('all', 3), ('grown', 1), ('up', 1), ('are', 3), ('such', 1), ('a', 3), ('big', 1), ('profile', 1), ('for', 3), ('the', 15), ('whole', 2), ('film', 6), ('but', 1), ('these', 1), ('children', 2), ('are', 3), ('amazing', 3), ('and', 9), ('should', 1), ('be', 1), ('praised', 1), ('for', 3), ('what', 2), ('they', 4), ('have', 2), ('done', 1), (\"don't\", 1), ('you', 4), ('think', 2), ('the', 15), ('whole', 2), ('story', 2), ('was', 11), ('so', 4), ('lovely', 1), ('because', 2), ('it', 6), ('was', 11), ('true', 1), ('and', 9), ('was', 11), (\"someone's\", 1), ('life', 1), ('after', 1), ('all', 3), ('that', 4), ('was', 11), ('shared', 1), ('with', 2), ('us', 1), ('all', 3)]\n"
          ],
          "name": "stdout"
        }
      ]
    },
    {
      "cell_type": "markdown",
      "metadata": {
        "id": "phnop4XgwBI2",
        "colab_type": "text"
      },
      "source": [
        "from this we can see that word with word_index = 4 is repeated highest no of times i.e 15. and the word which is repeated highest number of times is 'the'."
      ]
    },
    {
      "cell_type": "markdown",
      "metadata": {
        "colab_type": "text",
        "id": "GVar7SNn9Evu"
      },
      "source": [
        "#### Building the network\n",
        "* We can solve this problem using a network of _Dense_ layers and the _ReLU_ activation function.\n",
        "* How many layers? How many hidden units for layer?\n",
        "    - Start with 2 layers of 16 hidden units each\n",
        "    - We'll optimize this soon\n",
        "* Output layer: single unit with _sigmoid_ activation function\n",
        "    - Close to 1: positive review, close to 0: negative review\n",
        "* Use binary_crossentropy loss"
      ]
    },
    {
      "cell_type": "code",
      "metadata": {
        "colab_type": "code",
        "id": "wglvzu9E9Evx",
        "outputId": "a5b86e5e-a557-4fa6-82a3-7bfe371288c6",
        "colab": {
          "base_uri": "https://localhost:8080/",
          "height": 255
        }
      },
      "source": [
        "from keras import models\n",
        "from keras import layers \n",
        "\n",
        "model = models.Sequential()\n",
        "model.add(layers.Dense(16, activation='relu', input_shape=(10000,)))\n",
        "model.add(layers.Dense(16, activation='relu'))\n",
        "model.add(layers.Dense(1, activation='sigmoid'))\n",
        "\n",
        "model.compile(optimizer='rmsprop',\n",
        "              loss='binary_crossentropy',\n",
        "              metrics=['accuracy'])"
      ],
      "execution_count": 22,
      "outputs": [
        {
          "output_type": "stream",
          "text": [
            "WARNING:tensorflow:From /usr/local/lib/python3.6/dist-packages/keras/backend/tensorflow_backend.py:66: The name tf.get_default_graph is deprecated. Please use tf.compat.v1.get_default_graph instead.\n",
            "\n",
            "WARNING:tensorflow:From /usr/local/lib/python3.6/dist-packages/keras/backend/tensorflow_backend.py:541: The name tf.placeholder is deprecated. Please use tf.compat.v1.placeholder instead.\n",
            "\n",
            "WARNING:tensorflow:From /usr/local/lib/python3.6/dist-packages/keras/backend/tensorflow_backend.py:4432: The name tf.random_uniform is deprecated. Please use tf.random.uniform instead.\n",
            "\n",
            "WARNING:tensorflow:From /usr/local/lib/python3.6/dist-packages/keras/optimizers.py:793: The name tf.train.Optimizer is deprecated. Please use tf.compat.v1.train.Optimizer instead.\n",
            "\n",
            "WARNING:tensorflow:From /usr/local/lib/python3.6/dist-packages/keras/backend/tensorflow_backend.py:3657: The name tf.log is deprecated. Please use tf.math.log instead.\n",
            "\n",
            "WARNING:tensorflow:From /usr/local/lib/python3.6/dist-packages/tensorflow_core/python/ops/nn_impl.py:183: where (from tensorflow.python.ops.array_ops) is deprecated and will be removed in a future version.\n",
            "Instructions for updating:\n",
            "Use tf.where in 2.0, which has the same broadcast rule as np.where\n"
          ],
          "name": "stdout"
        }
      ]
    },
    {
      "cell_type": "markdown",
      "metadata": {
        "colab_type": "text",
        "id": "0S_Fnh169Ev0"
      },
      "source": [
        "#### Model selection\n",
        "* How many epochs do we need for training?\n",
        "* Take a validation set of 10,000 samples from the training set\n",
        "* Train the neural net and track the loss after every iteration on the validation set\n",
        "    - This is returned as a `History` object by the `fit()` function \n",
        "* We start with 20 epochs in minibatches of 512 samples\n"
      ]
    },
    {
      "cell_type": "code",
      "metadata": {
        "colab_type": "code",
        "id": "b3aTf8rL9Ev0",
        "outputId": "8a7bd806-d3bb-4ea0-aa4b-c669f2e1e705",
        "colab": {
          "base_uri": "https://localhost:8080/",
          "height": 994
        }
      },
      "source": [
        "x_val, partial_x_train = x_train[:10000], x_train[10000:]\n",
        "y_val, partial_y_train = y_train[:10000], y_train[10000:] \n",
        "history = model.fit(partial_x_train, partial_y_train,\n",
        "                    epochs=20, batch_size=512, verbose=2,\n",
        "                    validation_data=(x_val, y_val))"
      ],
      "execution_count": 23,
      "outputs": [
        {
          "output_type": "stream",
          "text": [
            "WARNING:tensorflow:From /usr/local/lib/python3.6/dist-packages/keras/backend/tensorflow_backend.py:1033: The name tf.assign_add is deprecated. Please use tf.compat.v1.assign_add instead.\n",
            "\n",
            "WARNING:tensorflow:From /usr/local/lib/python3.6/dist-packages/keras/backend/tensorflow_backend.py:1020: The name tf.assign is deprecated. Please use tf.compat.v1.assign instead.\n",
            "\n",
            "WARNING:tensorflow:From /usr/local/lib/python3.6/dist-packages/keras/backend/tensorflow_backend.py:3005: The name tf.Session is deprecated. Please use tf.compat.v1.Session instead.\n",
            "\n",
            "Train on 15000 samples, validate on 10000 samples\n",
            "Epoch 1/20\n",
            "WARNING:tensorflow:From /usr/local/lib/python3.6/dist-packages/keras/backend/tensorflow_backend.py:190: The name tf.get_default_session is deprecated. Please use tf.compat.v1.get_default_session instead.\n",
            "\n",
            "WARNING:tensorflow:From /usr/local/lib/python3.6/dist-packages/keras/backend/tensorflow_backend.py:197: The name tf.ConfigProto is deprecated. Please use tf.compat.v1.ConfigProto instead.\n",
            "\n",
            "WARNING:tensorflow:From /usr/local/lib/python3.6/dist-packages/keras/backend/tensorflow_backend.py:207: The name tf.global_variables is deprecated. Please use tf.compat.v1.global_variables instead.\n",
            "\n",
            "WARNING:tensorflow:From /usr/local/lib/python3.6/dist-packages/keras/backend/tensorflow_backend.py:216: The name tf.is_variable_initialized is deprecated. Please use tf.compat.v1.is_variable_initialized instead.\n",
            "\n",
            "WARNING:tensorflow:From /usr/local/lib/python3.6/dist-packages/keras/backend/tensorflow_backend.py:223: The name tf.variables_initializer is deprecated. Please use tf.compat.v1.variables_initializer instead.\n",
            "\n",
            " - 2s - loss: 0.5254 - acc: 0.7725 - val_loss: 0.3941 - val_acc: 0.8658\n",
            "Epoch 2/20\n",
            " - 1s - loss: 0.3143 - acc: 0.9019 - val_loss: 0.3117 - val_acc: 0.8872\n",
            "Epoch 3/20\n",
            " - 1s - loss: 0.2288 - acc: 0.9276 - val_loss: 0.3086 - val_acc: 0.8770\n",
            "Epoch 4/20\n",
            " - 1s - loss: 0.1827 - acc: 0.9433 - val_loss: 0.3077 - val_acc: 0.8772\n",
            "Epoch 5/20\n",
            " - 1s - loss: 0.1464 - acc: 0.9557 - val_loss: 0.2873 - val_acc: 0.8845\n",
            "Epoch 6/20\n",
            " - 1s - loss: 0.1195 - acc: 0.9633 - val_loss: 0.3163 - val_acc: 0.8775\n",
            "Epoch 7/20\n",
            " - 1s - loss: 0.0990 - acc: 0.9723 - val_loss: 0.3172 - val_acc: 0.8793\n",
            "Epoch 8/20\n",
            " - 2s - loss: 0.0828 - acc: 0.9770 - val_loss: 0.3221 - val_acc: 0.8827\n",
            "Epoch 9/20\n",
            " - 1s - loss: 0.0654 - acc: 0.9831 - val_loss: 0.3435 - val_acc: 0.8802\n",
            "Epoch 10/20\n",
            " - 1s - loss: 0.0526 - acc: 0.9878 - val_loss: 0.3737 - val_acc: 0.8787\n",
            "Epoch 11/20\n",
            " - 1s - loss: 0.0418 - acc: 0.9908 - val_loss: 0.3955 - val_acc: 0.8782\n",
            "Epoch 12/20\n",
            " - 1s - loss: 0.0334 - acc: 0.9941 - val_loss: 0.4368 - val_acc: 0.8736\n",
            "Epoch 13/20\n",
            " - 1s - loss: 0.0269 - acc: 0.9953 - val_loss: 0.4447 - val_acc: 0.8753\n",
            "Epoch 14/20\n",
            " - 1s - loss: 0.0193 - acc: 0.9973 - val_loss: 0.4753 - val_acc: 0.8742\n",
            "Epoch 15/20\n",
            " - 1s - loss: 0.0162 - acc: 0.9977 - val_loss: 0.5008 - val_acc: 0.8730\n",
            "Epoch 16/20\n",
            " - 1s - loss: 0.0108 - acc: 0.9991 - val_loss: 0.5301 - val_acc: 0.8699\n",
            "Epoch 17/20\n",
            " - 1s - loss: 0.0100 - acc: 0.9987 - val_loss: 0.5577 - val_acc: 0.8698\n",
            "Epoch 18/20\n",
            " - 1s - loss: 0.0056 - acc: 0.9998 - val_loss: 0.5876 - val_acc: 0.8687\n",
            "Epoch 19/20\n",
            " - 1s - loss: 0.0071 - acc: 0.9987 - val_loss: 0.6187 - val_acc: 0.8670\n",
            "Epoch 20/20\n",
            " - 1s - loss: 0.0027 - acc: 0.9999 - val_loss: 0.6457 - val_acc: 0.8680\n"
          ],
          "name": "stdout"
        }
      ]
    },
    {
      "cell_type": "markdown",
      "metadata": {
        "colab_type": "text",
        "id": "PrxYLkMX9Ev3"
      },
      "source": [
        "#### Evaluate model performance during training\n",
        "1. Plot the training and validation loss as a function of training epoch. Describe what happens during the training in terms of under or overfitting.\n",
        "2. Plot the training and validation accuracy as a function of the training epoch.\n",
        "\n",
        "Hint: these quantities are contained in the dict history.history."
      ]
    },
    {
      "cell_type": "code",
      "metadata": {
        "id": "vIR74wXy3D5Y",
        "colab_type": "code",
        "outputId": "990f4df0-ef3c-4eea-859e-bfc44c9ec6b9",
        "colab": {
          "base_uri": "https://localhost:8080/",
          "height": 34
        }
      },
      "source": [
        "print(history.history.keys())"
      ],
      "execution_count": 24,
      "outputs": [
        {
          "output_type": "stream",
          "text": [
            "dict_keys(['val_loss', 'val_acc', 'loss', 'acc'])\n"
          ],
          "name": "stdout"
        }
      ]
    },
    {
      "cell_type": "code",
      "metadata": {
        "colab_type": "code",
        "hide_input": true,
        "id": "4YH3yVZy9Ev4",
        "outputId": "47e69a5e-03cc-4ac3-af38-c131d93bbe68",
        "colab": {
          "base_uri": "https://localhost:8080/",
          "height": 406
        }
      },
      "source": [
        "plt.figure(figsize=(10,3))\n",
        "plt.subplot(1,2,1)\n",
        "plt.plot(history.history['acc'])\n",
        "plt.plot(history.history['val_acc'])\n",
        "plt.title('Model accuracy')\n",
        "plt.ylabel('Accuracy')\n",
        "plt.xlabel('Epoch')\n",
        "plt.legend(['train', 'test'], loc='best')\n",
        "\n",
        "plt.subplot(1,2,2)\n",
        "plt.plot(history.history['loss'])\n",
        "plt.plot(history.history['val_loss'])\n",
        "plt.title('Model loss')\n",
        "plt.ylabel('Loss')\n",
        "plt.xlabel('Epoch')\n",
        "plt.legend(['train', 'test'], loc='best')\n",
        "plt.show()"
      ],
      "execution_count": 25,
      "outputs": [
        {
          "output_type": "display_data",
          "data": {
            "image/png": "[encoded data removed]",
            "text/plain": [
              "<Figure size 1250x375 with 2 Axes>"
            ]
          },
          "metadata": {
            "tags": []
          }
        }
      ]
    },
    {
      "cell_type": "markdown",
      "metadata": {
        "id": "J0-c_p2kQLf0",
        "colab_type": "text"
      },
      "source": [
        "During the training model is intially a underfit model as the number of epochs increase underfitting decreases and the model reaches a good fit at a certain point but as the epochs increase more the model starts overfitting."
      ]
    },
    {
      "cell_type": "markdown",
      "metadata": {
        "colab_type": "text",
        "id": "FWDq34yW9EwA"
      },
      "source": [
        "#### Early stopping\n",
        "One simple technique to avoid overfitting is to use the validation set to 'tune' the optimal number of epochs\n",
        "* In this case, we could stop after 4 epochs\n"
      ]
    },
    {
      "cell_type": "code",
      "metadata": {
        "cellView": "both",
        "colab_type": "code",
        "id": "Csk3_Yn09EwB",
        "outputId": "6268fa10-c5fc-42da-88f6-882cb7e7eb1a",
        "colab": {
          "base_uri": "https://localhost:8080/",
          "height": 185
        }
      },
      "source": [
        "#@title\n",
        "model.fit(x_train, y_train, epochs=4, batch_size=512, verbose=2)\n",
        "result = model.evaluate(x_test, y_test)\n",
        "print(\"Loss: {:.4f}, Accuracy:  {:.4f}\".format(*result))"
      ],
      "execution_count": 26,
      "outputs": [
        {
          "output_type": "stream",
          "text": [
            "Epoch 1/4\n",
            " - 2s - loss: 0.2060 - acc: 0.9472\n",
            "Epoch 2/4\n",
            " - 2s - loss: 0.1248 - acc: 0.9622\n",
            "Epoch 3/4\n",
            " - 2s - loss: 0.0939 - acc: 0.9720\n",
            "Epoch 4/4\n",
            " - 2s - loss: 0.0726 - acc: 0.9786\n",
            "25000/25000 [==============================] - 2s 81us/step\n",
            "Loss: 0.4837, Accuracy:  0.8618\n"
          ],
          "name": "stdout"
        }
      ]
    },
    {
      "cell_type": "markdown",
      "metadata": {
        "colab_type": "text",
        "id": "5Mo4BX1N9EwD"
      },
      "source": [
        "#### Predictions\n",
        "1. Print the first review that were correctly classified along with the predicted value.\n",
        "2. Print the first review that were misclassified along with the predicted value. Can you explain why the model likely failed? How confident was the model?"
      ]
    },
    {
      "cell_type": "code",
      "metadata": {
        "colab_type": "code",
        "id": "fZB5xKAh9EwE",
        "colab": {}
      },
      "source": [
        "y_pred = model.predict(x_test)\n",
        "y_pred_class = model.predict_classes(x_test)"
      ],
      "execution_count": 0,
      "outputs": []
    },
    {
      "cell_type": "code",
      "metadata": {
        "id": "UZFso_yR8D6K",
        "colab_type": "code",
        "colab": {
          "base_uri": "https://localhost:8080/",
          "height": 134
        },
        "outputId": "8d611547-d20f-4f0c-98c3-62c492ea3cb6"
      },
      "source": [
        "y_pred_class.astype('float32')"
      ],
      "execution_count": 28,
      "outputs": [
        {
          "output_type": "execute_result",
          "data": {
            "text/plain": [
              "array([[0.],\n",
              "       [1.],\n",
              "       [1.],\n",
              "       ...,\n",
              "       [0.],\n",
              "       [0.],\n",
              "       [1.]], dtype=float32)"
            ]
          },
          "metadata": {
            "tags": []
          },
          "execution_count": 28
        }
      ]
    },
    {
      "cell_type": "code",
      "metadata": {
        "id": "XJkSnJIV-iJp",
        "colab_type": "code",
        "colab": {
          "base_uri": "https://localhost:8080/",
          "height": 34
        },
        "outputId": "5e7e298b-5454-471f-aa32-f1625829fc2c"
      },
      "source": [
        "len(y_test)"
      ],
      "execution_count": 29,
      "outputs": [
        {
          "output_type": "execute_result",
          "data": {
            "text/plain": [
              "25000"
            ]
          },
          "metadata": {
            "tags": []
          },
          "execution_count": 29
        }
      ]
    },
    {
      "cell_type": "code",
      "metadata": {
        "id": "-OyMH0kT8Jbv",
        "colab_type": "code",
        "colab": {
          "base_uri": "https://localhost:8080/",
          "height": 138
        },
        "outputId": "ef8a9a1e-04a0-4649-d2c7-a4618ca3934c"
      },
      "source": [
        "count = 0\n",
        "count1 = 0\n",
        "for i in range(25000):\n",
        "  if count == 1 and count1 == 1:\n",
        "    break \n",
        "  if y_test[i] == y_pred_class[i]:\n",
        "    if count == 1:\n",
        "      continue\n",
        "    else :\n",
        "      count = count + 1\n",
        "      print(\"Correctly classified first review: \", ' '.join([reverse_word_index.get(j - 3, '') for j in test_data[i]][0:10000]), \"\\n predicted value is\", y_pred[i], \"\\n Original value is\", y_test[i])\n",
        "  else :\n",
        "    if count1 == 1:\n",
        "      continue\n",
        "    else :\n",
        "      count1 = count1 + 1\n",
        "      print(\"Wrongly classified first review: \", ' '.join([reverse_word_index.get(j - 3, '') for j in test_data[i]][0:10000]), \"\\n predicted value is\", y_pred[i], \"\\n Original value is\", y_test[i]) "
      ],
      "execution_count": 30,
      "outputs": [
        {
          "output_type": "stream",
          "text": [
            "Correctly classified first review:   please give this one a miss br br   and the rest of the cast rendered terrible performances the show is flat flat flat br br i don't know how michael madison could have allowed this one on his plate he almost seemed to know this wasn't going to work out and his performance was quite  so all you madison fans give this a miss \n",
            " predicted value is [0.010452] \n",
            " Original value is 0.0\n",
            "Wrongly classified first review:   i generally love this type of movie however this time i found myself wanting to kick the screen since i can't do that i will just complain about it this was absolutely idiotic the things that happen with the dead kids are very cool but the alive people are absolute idiots i am a grown man pretty big and i can defend myself well however i would not do half the stuff the little girl does in this movie also the mother in this movie is reckless with her children to the point of neglect i wish i wasn't so angry about her and her actions because i would have otherwise enjoyed the flick what a number she was take my advise and fast forward through everything you see her do until the end also is anyone else getting sick of watching movies that are filmed so dark anymore one can hardly see what is being filmed as an audience we are  involved with the actions on the screen so then why the hell can't we have night vision \n",
            " predicted value is [0.83342016] \n",
            " Original value is 0.0\n"
          ],
          "name": "stdout"
        }
      ]
    },
    {
      "cell_type": "markdown",
      "metadata": {
        "id": "K4iC3CnnZDSw",
        "colab_type": "text"
      },
      "source": [
        "The model likely failed because in the begining of the review it was mentoined 'I generally love this kind of movie' which the model takes as positive review but the review was overall negitive. The model was not very confident about this prediction because the prediction value is only around 0.8. We can say that the model is very confident when the prediction value is more that 0.9."
      ]
    },
    {
      "cell_type": "markdown",
      "metadata": {
        "colab_type": "text",
        "id": "W9_hvA-lanwt"
      },
      "source": [
        "#### Takeaways\n",
        "* Neural nets require a lot of preprocessing to create tensors\n",
        "* Dense layers with ReLU activation can solve a wide range of problems\n",
        "* Binary classification can be done with a Dense layer with a single unit, sigmoid activation, and binary cross-entropy loss\n",
        "* Neural nets overfit easily\n",
        "* Many design choices have an effect on accuracy and overfitting. One can try:\n",
        "    - 1 or 3 hidden layers\n",
        "    - more or fewer hidden units (e.g. 64)\n",
        "    - MSE loss instead of binary cross-entropy\n",
        "    - `tanh` activation instead of `ReLU`"
      ]
    },
    {
      "cell_type": "markdown",
      "metadata": {
        "colab_type": "text",
        "id": "WchP4Tgu9ExF"
      },
      "source": [
        "### Regularization: build smaller networks\n",
        "* The easiest way to avoid overfitting is to use a simpler model\n",
        "* The number of learnable parameters is called the model _capacity_\n",
        "* A model with more parameters has a higher _memorization capacity_\n",
        "    - The entire training set can be `stored` in the weights\n",
        "    - Learns the mapping from training examples to outputs\n",
        "* Forcing the model to be small forces it to learn a compressed representation that generalizes better\n",
        "    - Always a trade-off between too much and too little capacity\n",
        "* Start with few layers and parameters, incease until you see diminisching returns"
      ]
    },
    {
      "cell_type": "markdown",
      "metadata": {
        "colab_type": "text",
        "id": "wo8UGPGQ9ExG"
      },
      "source": [
        "Let's try this on our movie review data, with 4 units per layer\n"
      ]
    },
    {
      "cell_type": "code",
      "metadata": {
        "colab_type": "code",
        "id": "rFjmZtyl9ExG",
        "colab": {}
      },
      "source": [
        "from keras.datasets import imdb\n",
        "import numpy as np\n",
        "\n",
        "(train_data, train_labels), (test_data, test_labels) = imdb.load_data(num_words=10000)\n",
        "\n",
        "def vectorize_sequences(sequences, dimension=10000):\n",
        "    # Create an all-zero matrix of shape (len(sequences), dimension)\n",
        "    results = np.zeros((len(sequences), dimension))\n",
        "    for i, sequence in enumerate(sequences):\n",
        "        results[i, sequence] = 1.  # set specific indices of results[i] to 1s\n",
        "    return results\n",
        "\n",
        "# Our vectorized training data\n",
        "x_train = vectorize_sequences(train_data)\n",
        "# Our vectorized test data\n",
        "x_test = vectorize_sequences(test_data)\n",
        "# Our vectorized labels\n",
        "y_train = np.asarray(train_labels).astype('float32')\n",
        "y_test = np.asarray(test_labels).astype('float32')"
      ],
      "execution_count": 0,
      "outputs": []
    },
    {
      "cell_type": "code",
      "metadata": {
        "colab_type": "code",
        "id": "0RYsX-RF9ExJ",
        "colab": {
          "base_uri": "https://localhost:8080/",
          "height": 1000
        },
        "outputId": "dcb86fd4-425f-4dc5-d1ef-54f97d665f74"
      },
      "source": [
        "from keras import models\n",
        "from keras import layers \n",
        "import matplotlib.pyplot as plt\n",
        "\n",
        "original_model = models.Sequential()\n",
        "original_model.add(layers.Dense(16, activation='relu', input_shape=(10000,)))\n",
        "original_model.add(layers.Dense(16, activation='relu'))\n",
        "original_model.add(layers.Dense(1, activation='sigmoid'))\n",
        "\n",
        "original_model.compile(optimizer='rmsprop',\n",
        "                       loss='binary_crossentropy',\n",
        "                       metrics=['acc'])\n",
        "\n",
        "smaller_model = models.Sequential()\n",
        "smaller_model.add(layers.Dense(4, activation='relu', input_shape=(10000,)))\n",
        "smaller_model.add(layers.Dense(4, activation='relu'))\n",
        "smaller_model.add(layers.Dense(1, activation='sigmoid'))\n",
        "\n",
        "smaller_model.compile(optimizer='rmsprop',\n",
        "                      loss='binary_crossentropy',\n",
        "                      metrics=['acc'])\n",
        "original_hist = original_model.fit(x_train, y_train,\n",
        "                                   epochs=20,\n",
        "                                   batch_size=512, verbose=2,\n",
        "                                   validation_data=(x_test, y_test))\n",
        "smaller_model_hist = smaller_model.fit(x_train, y_train,\n",
        "                                       epochs=20,\n",
        "                                       batch_size=512, verbose=2,\n",
        "                                       validation_data=(x_test, y_test))"
      ],
      "execution_count": 32,
      "outputs": [
        {
          "output_type": "stream",
          "text": [
            "Train on 25000 samples, validate on 25000 samples\n",
            "Epoch 1/20\n",
            " - 4s - loss: 0.4445 - acc: 0.8200 - val_loss: 0.3260 - val_acc: 0.8855\n",
            "Epoch 2/20\n",
            " - 4s - loss: 0.2580 - acc: 0.9095 - val_loss: 0.2876 - val_acc: 0.8884\n",
            "Epoch 3/20\n",
            " - 4s - loss: 0.1971 - acc: 0.9306 - val_loss: 0.2908 - val_acc: 0.8840\n",
            "Epoch 4/20\n",
            " - 4s - loss: 0.1675 - acc: 0.9404 - val_loss: 0.2970 - val_acc: 0.8819\n",
            "Epoch 5/20\n",
            " - 4s - loss: 0.1456 - acc: 0.9491 - val_loss: 0.3411 - val_acc: 0.8714\n",
            "Epoch 6/20\n",
            " - 4s - loss: 0.1270 - acc: 0.9554 - val_loss: 0.3454 - val_acc: 0.8732\n",
            "Epoch 7/20\n",
            " - 4s - loss: 0.1119 - acc: 0.9610 - val_loss: 0.3576 - val_acc: 0.8734\n",
            "Epoch 8/20\n",
            " - 4s - loss: 0.1016 - acc: 0.9651 - val_loss: 0.4064 - val_acc: 0.8647\n",
            "Epoch 9/20\n",
            " - 4s - loss: 0.0884 - acc: 0.9701 - val_loss: 0.4128 - val_acc: 0.8678\n",
            "Epoch 10/20\n",
            " - 4s - loss: 0.0788 - acc: 0.9734 - val_loss: 0.5112 - val_acc: 0.8510\n",
            "Epoch 11/20\n",
            " - 4s - loss: 0.0729 - acc: 0.9758 - val_loss: 0.4638 - val_acc: 0.8620\n",
            "Epoch 12/20\n",
            " - 4s - loss: 0.0605 - acc: 0.9810 - val_loss: 0.4957 - val_acc: 0.8606\n",
            "Epoch 13/20\n",
            " - 4s - loss: 0.0551 - acc: 0.9826 - val_loss: 0.5894 - val_acc: 0.8493\n",
            "Epoch 14/20\n",
            " - 4s - loss: 0.0486 - acc: 0.9848 - val_loss: 0.5560 - val_acc: 0.8560\n",
            "Epoch 15/20\n",
            " - 4s - loss: 0.0427 - acc: 0.9869 - val_loss: 0.5840 - val_acc: 0.8555\n",
            "Epoch 16/20\n",
            " - 4s - loss: 0.0354 - acc: 0.9906 - val_loss: 0.6172 - val_acc: 0.8546\n",
            "Epoch 17/20\n",
            " - 4s - loss: 0.0295 - acc: 0.9923 - val_loss: 0.6938 - val_acc: 0.8432\n",
            "Epoch 18/20\n",
            " - 4s - loss: 0.0271 - acc: 0.9930 - val_loss: 0.7785 - val_acc: 0.8421\n",
            "Epoch 19/20\n",
            " - 4s - loss: 0.0230 - acc: 0.9943 - val_loss: 0.7735 - val_acc: 0.8458\n",
            "Epoch 20/20\n",
            " - 4s - loss: 0.0210 - acc: 0.9949 - val_loss: 0.7563 - val_acc: 0.8495\n",
            "Train on 25000 samples, validate on 25000 samples\n",
            "Epoch 1/20\n",
            " - 4s - loss: 0.5935 - acc: 0.7074 - val_loss: 0.5364 - val_acc: 0.8084\n",
            "Epoch 2/20\n",
            " - 4s - loss: 0.4833 - acc: 0.8492 - val_loss: 0.4796 - val_acc: 0.8720\n",
            "Epoch 3/20\n",
            " - 4s - loss: 0.4189 - acc: 0.8966 - val_loss: 0.4340 - val_acc: 0.8677\n",
            "Epoch 4/20\n",
            " - 4s - loss: 0.3599 - acc: 0.9189 - val_loss: 0.3823 - val_acc: 0.8803\n",
            "Epoch 5/20\n",
            " - 4s - loss: 0.2599 - acc: 0.9345 - val_loss: 0.3107 - val_acc: 0.8808\n",
            "Epoch 6/20\n",
            " - 4s - loss: 0.1988 - acc: 0.9421 - val_loss: 0.2861 - val_acc: 0.8865\n",
            "Epoch 7/20\n",
            " - 4s - loss: 0.1718 - acc: 0.9474 - val_loss: 0.2887 - val_acc: 0.8866\n",
            "Epoch 8/20\n",
            " - 4s - loss: 0.1544 - acc: 0.9518 - val_loss: 0.2932 - val_acc: 0.8852\n",
            "Epoch 9/20\n",
            " - 4s - loss: 0.1401 - acc: 0.9559 - val_loss: 0.3034 - val_acc: 0.8816\n",
            "Epoch 10/20\n",
            " - 4s - loss: 0.1281 - acc: 0.9596 - val_loss: 0.3145 - val_acc: 0.8804\n",
            "Epoch 11/20\n",
            " - 4s - loss: 0.1184 - acc: 0.9642 - val_loss: 0.3247 - val_acc: 0.8787\n",
            "Epoch 12/20\n",
            " - 4s - loss: 0.1097 - acc: 0.9660 - val_loss: 0.3400 - val_acc: 0.8763\n",
            "Epoch 13/20\n",
            " - 4s - loss: 0.1008 - acc: 0.9702 - val_loss: 0.3569 - val_acc: 0.8726\n",
            "Epoch 14/20\n",
            " - 4s - loss: 0.0935 - acc: 0.9720 - val_loss: 0.3750 - val_acc: 0.8711\n",
            "Epoch 15/20\n",
            " - 4s - loss: 0.0869 - acc: 0.9747 - val_loss: 0.3873 - val_acc: 0.8700\n",
            "Epoch 16/20\n",
            " - 4s - loss: 0.0808 - acc: 0.9763 - val_loss: 0.4069 - val_acc: 0.8659\n",
            "Epoch 17/20\n",
            " - 4s - loss: 0.0747 - acc: 0.9790 - val_loss: 0.4212 - val_acc: 0.8659\n",
            "Epoch 18/20\n",
            " - 3s - loss: 0.0696 - acc: 0.9803 - val_loss: 0.4422 - val_acc: 0.8659\n",
            "Epoch 19/20\n",
            " - 4s - loss: 0.0647 - acc: 0.9822 - val_loss: 0.4612 - val_acc: 0.8623\n",
            "Epoch 20/20\n",
            " - 4s - loss: 0.0591 - acc: 0.9845 - val_loss: 0.4854 - val_acc: 0.8587\n"
          ],
          "name": "stdout"
        }
      ]
    },
    {
      "cell_type": "markdown",
      "metadata": {
        "colab_type": "text",
        "id": "rCV6TJ899ExL"
      },
      "source": [
        "1. Plot the validation loss for the original and smaller models. How does the smaller model behave compared to the original?"
      ]
    },
    {
      "cell_type": "code",
      "metadata": {
        "colab_type": "code",
        "id": "m7kNvhh-9ExN",
        "colab": {
          "base_uri": "https://localhost:8080/",
          "height": 34
        },
        "outputId": "83ea2f59-91e0-4096-de7e-686d0debe74c"
      },
      "source": [
        "original_hist.history.keys()"
      ],
      "execution_count": 33,
      "outputs": [
        {
          "output_type": "execute_result",
          "data": {
            "text/plain": [
              "dict_keys(['val_loss', 'val_acc', 'loss', 'acc'])"
            ]
          },
          "metadata": {
            "tags": []
          },
          "execution_count": 33
        }
      ]
    },
    {
      "cell_type": "code",
      "metadata": {
        "id": "y9yfRdVnCppl",
        "colab_type": "code",
        "colab": {
          "base_uri": "https://localhost:8080/",
          "height": 34
        },
        "outputId": "7dc537d5-c598-4a8e-d294-21a111ef09e7"
      },
      "source": [
        "smaller_model_hist.history.keys()"
      ],
      "execution_count": 34,
      "outputs": [
        {
          "output_type": "execute_result",
          "data": {
            "text/plain": [
              "dict_keys(['val_loss', 'val_acc', 'loss', 'acc'])"
            ]
          },
          "metadata": {
            "tags": []
          },
          "execution_count": 34
        }
      ]
    },
    {
      "cell_type": "code",
      "metadata": {
        "id": "BSD8d7q1C0q4",
        "colab_type": "code",
        "colab": {
          "base_uri": "https://localhost:8080/",
          "height": 501
        },
        "outputId": "b32ed246-732d-4b66-ee33-5e726e5f6b53"
      },
      "source": [
        "\n",
        "plt.plot(original_hist.history['val_loss'])\n",
        "plt.plot(smaller_model_hist.history['val_loss'])\n",
        "plt.title('Validation loss')\n",
        "plt.ylabel('loss')\n",
        "plt.xlabel('epoch')\n",
        "plt.legend(['original', 'smaller'], loc='best')\n",
        "plt.show()"
      ],
      "execution_count": 35,
      "outputs": [
        {
          "output_type": "display_data",
          "data": {
            "image/png": "[encoded data removed]",
            "text/plain": [
              "<Figure size 750x500 with 1 Axes>"
            ]
          },
          "metadata": {
            "tags": []
          }
        }
      ]
    },
    {
      "cell_type": "markdown",
      "metadata": {
        "id": "MZgrTPm0Dwv9",
        "colab_type": "text"
      },
      "source": [
        "We can see that smaller model has less validation loss than original model. Smaller model behaves similarly to original as in initially the loss decreases and then increases later but the smaller model has more decrease and less increase compared to original model."
      ]
    },
    {
      "cell_type": "markdown",
      "metadata": {
        "colab_type": "text",
        "id": "_u-YXpCZ9ExP"
      },
      "source": [
        "### Regularization: Weight regularization\n",
        "* As we did many times before, we can also add weight regularization to our loss function\n",
        "- L1 regularization: leads to _sparse networks_ with many weights that are 0\n",
        "- L2 regularization: leads to many very small weights\n",
        "    - Also called _weight decay_ in neural net literature\n",
        "* In Keras, add `kernel_regularizer` to every layer"
      ]
    },
    {
      "cell_type": "code",
      "metadata": {
        "colab_type": "code",
        "id": "kXOqh2uU9ExR",
        "colab": {}
      },
      "source": [
        "from keras import regularizers\n",
        "from keras import models\n",
        "from keras import layers \n",
        "import matplotlib.pyplot as plt\n",
        "\n",
        "l2_model = models.Sequential()\n",
        "l2_model.add(layers.Dense(16, kernel_regularizer=regularizers.l2(0.001),\n",
        "                          activation='relu', input_shape=(10000,)))\n",
        "l2_model.add(layers.Dense(16, kernel_regularizer=regularizers.l2(0.001),\n",
        "                          activation='relu'))\n",
        "l2_model.add(layers.Dense(1, activation='sigmoid'))"
      ],
      "execution_count": 0,
      "outputs": []
    },
    {
      "cell_type": "code",
      "metadata": {
        "colab_type": "code",
        "id": "mzNX3bHo9ExT",
        "colab": {}
      },
      "source": [
        "l2_model.compile(optimizer='rmsprop',\n",
        "                 loss='binary_crossentropy',\n",
        "                 metrics=['acc'])"
      ],
      "execution_count": 0,
      "outputs": []
    },
    {
      "cell_type": "code",
      "metadata": {
        "colab_type": "code",
        "id": "2Gg8hLY69ExU",
        "colab": {
          "base_uri": "https://localhost:8080/",
          "height": 706
        },
        "outputId": "fb3c5741-f9ab-4ddc-b64f-adbfb747ee47"
      },
      "source": [
        "l2_model_hist = l2_model.fit(x_train, y_train,\n",
        "                             epochs=20,\n",
        "                             batch_size=512, verbose=2,\n",
        "                             validation_data=(x_test, y_test))"
      ],
      "execution_count": 38,
      "outputs": [
        {
          "output_type": "stream",
          "text": [
            "Train on 25000 samples, validate on 25000 samples\n",
            "Epoch 1/20\n",
            " - 4s - loss: 0.4935 - acc: 0.8266 - val_loss: 0.3992 - val_acc: 0.8688\n",
            "Epoch 2/20\n",
            " - 4s - loss: 0.3220 - acc: 0.9058 - val_loss: 0.3372 - val_acc: 0.8885\n",
            "Epoch 3/20\n",
            " - 4s - loss: 0.2749 - acc: 0.9200 - val_loss: 0.3321 - val_acc: 0.8868\n",
            "Epoch 4/20\n",
            " - 4s - loss: 0.2571 - acc: 0.9247 - val_loss: 0.3448 - val_acc: 0.8824\n",
            "Epoch 5/20\n",
            " - 4s - loss: 0.2416 - acc: 0.9336 - val_loss: 0.3512 - val_acc: 0.8804\n",
            "Epoch 6/20\n",
            " - 4s - loss: 0.2357 - acc: 0.9344 - val_loss: 0.3566 - val_acc: 0.8794\n",
            "Epoch 7/20\n",
            " - 4s - loss: 0.2297 - acc: 0.9380 - val_loss: 0.3544 - val_acc: 0.8820\n",
            "Epoch 8/20\n",
            " - 4s - loss: 0.2248 - acc: 0.9396 - val_loss: 0.3603 - val_acc: 0.8797\n",
            "Epoch 9/20\n",
            " - 4s - loss: 0.2183 - acc: 0.9427 - val_loss: 0.3726 - val_acc: 0.8757\n",
            "Epoch 10/20\n",
            " - 4s - loss: 0.2187 - acc: 0.9408 - val_loss: 0.3924 - val_acc: 0.8712\n",
            "Epoch 11/20\n",
            " - 4s - loss: 0.2140 - acc: 0.9423 - val_loss: 0.3759 - val_acc: 0.8768\n",
            "Epoch 12/20\n",
            " - 4s - loss: 0.2121 - acc: 0.9439 - val_loss: 0.3858 - val_acc: 0.8739\n",
            "Epoch 13/20\n",
            " - 4s - loss: 0.2110 - acc: 0.9434 - val_loss: 0.4352 - val_acc: 0.8592\n",
            "Epoch 14/20\n",
            " - 4s - loss: 0.2076 - acc: 0.9458 - val_loss: 0.3911 - val_acc: 0.8730\n",
            "Epoch 15/20\n",
            " - 4s - loss: 0.2067 - acc: 0.9455 - val_loss: 0.4031 - val_acc: 0.8702\n",
            "Epoch 16/20\n",
            " - 4s - loss: 0.2003 - acc: 0.9485 - val_loss: 0.4696 - val_acc: 0.8532\n",
            "Epoch 17/20\n",
            " - 4s - loss: 0.2026 - acc: 0.9472 - val_loss: 0.4815 - val_acc: 0.8479\n",
            "Epoch 18/20\n",
            " - 4s - loss: 0.1976 - acc: 0.9479 - val_loss: 0.5095 - val_acc: 0.8404\n",
            "Epoch 19/20\n",
            " - 4s - loss: 0.2034 - acc: 0.9450 - val_loss: 0.4280 - val_acc: 0.8654\n",
            "Epoch 20/20\n",
            " - 4s - loss: 0.1946 - acc: 0.9492 - val_loss: 0.4178 - val_acc: 0.8679\n"
          ],
          "name": "stdout"
        }
      ]
    },
    {
      "cell_type": "markdown",
      "metadata": {
        "colab_type": "text",
        "id": "vKOw1jNlibXK"
      },
      "source": [
        "1. Plot the validation loss for the original and l2 regularized models. How does the regularized model behave compared to the original?"
      ]
    },
    {
      "cell_type": "code",
      "metadata": {
        "colab_type": "code",
        "id": "9qYQvkIe9ExW",
        "colab": {
          "base_uri": "https://localhost:8080/",
          "height": 501
        },
        "outputId": "1fecc434-daaa-447f-e587-a695cb6886d4"
      },
      "source": [
        "plt.plot(original_hist.history['val_loss'])\n",
        "plt.plot(l2_model_hist.history['val_loss'])\n",
        "plt.title('Validation loss')\n",
        "plt.ylabel('loss')\n",
        "plt.xlabel('epoch')\n",
        "plt.legend(['original', 'l2 model'], loc='best')\n",
        "plt.show()"
      ],
      "execution_count": 39,
      "outputs": [
        {
          "output_type": "display_data",
          "data": {
            "image/png": "[encoded data removed]",
            "text/plain": [
              "<Figure size 750x500 with 1 Axes>"
            ]
          },
          "metadata": {
            "tags": []
          }
        }
      ]
    },
    {
      "cell_type": "markdown",
      "metadata": {
        "id": "DnVZEyv2HjdP",
        "colab_type": "text"
      },
      "source": [
        "We can see that loss in regularization model is much less than original model after the initial decrease the loss increases more in original model but the loss doesn't increase much in l2 model."
      ]
    },
    {
      "cell_type": "markdown",
      "metadata": {
        "colab_type": "text",
        "id": "OFbL6yJF9ExZ"
      },
      "source": [
        "### Regularization: dropout\n",
        "* One of the most effective and commonly used regularization techniques\n",
        "* Randomly set a number of outputs of the layer to 0\n",
        "* Idea: break up accidental non-significant learned patterns \n",
        "* _Dropout rate_: fraction of the outputs that are zeroed-out\n",
        "    - Usually between 0.2 and 0.5\n",
        "* At test time, nothing is dropped out, but the output values are scaled down by the dropout rate\n",
        "    - Balances out that more units are active than during training\n",
        "* In Keras: add `Dropout` layers between the normal layers"
      ]
    },
    {
      "cell_type": "code",
      "metadata": {
        "colab_type": "code",
        "id": "SUHgbTz49Exa",
        "colab": {
          "base_uri": "https://localhost:8080/",
          "height": 121
        },
        "outputId": "9d521cef-c3c5-42c8-ecea-0efece7345d1"
      },
      "source": [
        "from keras import models\n",
        "from keras import layers \n",
        "import matplotlib.pyplot as plt\n",
        "\n",
        "dpt_model = models.Sequential()\n",
        "dpt_model.add(layers.Dense(16, activation='relu', input_shape=(10000,)))\n",
        "dpt_model.add(layers.Dropout(0.5))\n",
        "dpt_model.add(layers.Dense(16, activation='relu'))\n",
        "dpt_model.add(layers.Dropout(0.5))\n",
        "dpt_model.add(layers.Dense(1, activation='sigmoid'))\n",
        "\n",
        "dpt_model.compile(optimizer='rmsprop',\n",
        "                  loss='binary_crossentropy',\n",
        "                  metrics=['acc'])"
      ],
      "execution_count": 40,
      "outputs": [
        {
          "output_type": "stream",
          "text": [
            "WARNING:tensorflow:From /usr/local/lib/python3.6/dist-packages/keras/backend/tensorflow_backend.py:148: The name tf.placeholder_with_default is deprecated. Please use tf.compat.v1.placeholder_with_default instead.\n",
            "\n",
            "WARNING:tensorflow:From /usr/local/lib/python3.6/dist-packages/keras/backend/tensorflow_backend.py:3733: calling dropout (from tensorflow.python.ops.nn_ops) with keep_prob is deprecated and will be removed in a future version.\n",
            "Instructions for updating:\n",
            "Please use `rate` instead of `keep_prob`. Rate should be set to `rate = 1 - keep_prob`.\n"
          ],
          "name": "stdout"
        }
      ]
    },
    {
      "cell_type": "code",
      "metadata": {
        "colab_type": "code",
        "id": "2QSG_vWa9Exb",
        "colab": {
          "base_uri": "https://localhost:8080/",
          "height": 706
        },
        "outputId": "bd5f3cde-83f4-4189-f9be-8bebb6d135fa"
      },
      "source": [
        "dpt_model_hist = dpt_model.fit(x_train, y_train,\n",
        "                               epochs=20,\n",
        "                               \n",
        "                               batch_size=512, verbose=2,\n",
        "                               validation_data=(x_test, y_test))"
      ],
      "execution_count": 41,
      "outputs": [
        {
          "output_type": "stream",
          "text": [
            "Train on 25000 samples, validate on 25000 samples\n",
            "Epoch 1/20\n",
            " - 4s - loss: 0.6000 - acc: 0.6712 - val_loss: 0.4666 - val_acc: 0.8636\n",
            "Epoch 2/20\n",
            " - 4s - loss: 0.4541 - acc: 0.8086 - val_loss: 0.3446 - val_acc: 0.8823\n",
            "Epoch 3/20\n",
            " - 4s - loss: 0.3712 - acc: 0.8565 - val_loss: 0.2984 - val_acc: 0.8862\n",
            "Epoch 4/20\n",
            " - 4s - loss: 0.3126 - acc: 0.8865 - val_loss: 0.2774 - val_acc: 0.8887\n",
            "Epoch 5/20\n",
            " - 4s - loss: 0.2701 - acc: 0.9045 - val_loss: 0.2816 - val_acc: 0.8878\n",
            "Epoch 6/20\n",
            " - 4s - loss: 0.2412 - acc: 0.9170 - val_loss: 0.2880 - val_acc: 0.8876\n",
            "Epoch 7/20\n",
            " - 4s - loss: 0.2109 - acc: 0.9264 - val_loss: 0.3068 - val_acc: 0.8867\n",
            "Epoch 8/20\n",
            " - 4s - loss: 0.1945 - acc: 0.9341 - val_loss: 0.3210 - val_acc: 0.8846\n",
            "Epoch 9/20\n",
            " - 4s - loss: 0.1806 - acc: 0.9377 - val_loss: 0.3358 - val_acc: 0.8841\n",
            "Epoch 10/20\n",
            " - 4s - loss: 0.1663 - acc: 0.9430 - val_loss: 0.3558 - val_acc: 0.8828\n",
            "Epoch 11/20\n",
            " - 5s - loss: 0.1609 - acc: 0.9450 - val_loss: 0.3844 - val_acc: 0.8811\n",
            "Epoch 12/20\n",
            " - 4s - loss: 0.1460 - acc: 0.9479 - val_loss: 0.4167 - val_acc: 0.8790\n",
            "Epoch 13/20\n",
            " - 4s - loss: 0.1476 - acc: 0.9500 - val_loss: 0.4001 - val_acc: 0.8773\n",
            "Epoch 14/20\n",
            " - 4s - loss: 0.1341 - acc: 0.9552 - val_loss: 0.4368 - val_acc: 0.8773\n",
            "Epoch 15/20\n",
            " - 4s - loss: 0.1286 - acc: 0.9545 - val_loss: 0.4628 - val_acc: 0.8774\n",
            "Epoch 16/20\n",
            " - 4s - loss: 0.1265 - acc: 0.9555 - val_loss: 0.5005 - val_acc: 0.8714\n",
            "Epoch 17/20\n",
            " - 4s - loss: 0.1203 - acc: 0.9573 - val_loss: 0.5009 - val_acc: 0.8762\n",
            "Epoch 18/20\n",
            " - 4s - loss: 0.1230 - acc: 0.9557 - val_loss: 0.5150 - val_acc: 0.8756\n",
            "Epoch 19/20\n",
            " - 4s - loss: 0.1129 - acc: 0.9592 - val_loss: 0.5464 - val_acc: 0.8752\n",
            "Epoch 20/20\n",
            " - 4s - loss: 0.1174 - acc: 0.9573 - val_loss: 0.5392 - val_acc: 0.8751\n"
          ],
          "name": "stdout"
        }
      ]
    },
    {
      "cell_type": "markdown",
      "metadata": {
        "colab_type": "text",
        "id": "VZx6VNXn9Exd"
      },
      "source": [
        "1. Plot the validation loss for the original and dropout models. How does the dropout model behave compared to the original?"
      ]
    },
    {
      "cell_type": "code",
      "metadata": {
        "colab_type": "code",
        "id": "-ZS_z7xM9Exe",
        "colab": {
          "base_uri": "https://localhost:8080/",
          "height": 501
        },
        "outputId": "fb0b5621-933c-49c1-b80f-d809713699cc"
      },
      "source": [
        "plt.plot(original_hist.history['val_loss'])\n",
        "plt.plot(dpt_model_hist.history['val_loss'])\n",
        "plt.title('Validation Loss')\n",
        "plt.ylabel('loss')\n",
        "plt.xlabel('epoch')\n",
        "plt.legend(['original', 'dropout model'], loc='best')\n",
        "plt.show()"
      ],
      "execution_count": 42,
      "outputs": [
        {
          "output_type": "display_data",
          "data": {
            "image/png": "[encoded data removed]",
            "text/plain": [
              "<Figure size 750x500 with 1 Axes>"
            ]
          },
          "metadata": {
            "tags": []
          }
        }
      ]
    },
    {
      "cell_type": "markdown",
      "metadata": {
        "id": "nWu31JgsJYYF",
        "colab_type": "text"
      },
      "source": [
        "Dropout model has low validation loss compared to original model it behaves similar to original but the increase in loss is less compared to original model."
      ]
    },
    {
      "cell_type": "markdown",
      "metadata": {
        "colab_type": "text",
        "id": "ORAwOqdV9Exf"
      },
      "source": [
        "### Regularization recap\n",
        "* Get more training data\n",
        "* Reduce the capacity of the network\n",
        "* Add weight regularization\n",
        "* Add dropout\n",
        "* Either start with a simple model and add capacity\n",
        "* Or, start with a complex model and then regularize by adding weight regularization and dropout"
      ]
    },
    {
      "cell_type": "markdown",
      "metadata": {
        "colab_type": "text",
        "id": "1xwfZv_E9Ewq"
      },
      "source": [
        "### Regression\n",
        "* Dataset: 506 examples of houses and sale prices (Boston)\n",
        "    - Included in Keras, with a 1/5 train-test split\n",
        "* Each row is one house price, described by numeric properties of the house and neighborhood\n",
        "* Small dataset, non-normalized features"
      ]
    },
    {
      "cell_type": "code",
      "metadata": {
        "colab_type": "code",
        "id": "ZlUGyLJS9Ewr",
        "colab": {}
      },
      "source": [
        "from keras.datasets import boston_housing\n",
        "\n",
        "(train_data, train_targets), (test_data, test_targets) =  boston_housing.load_data()"
      ],
      "execution_count": 0,
      "outputs": []
    },
    {
      "cell_type": "markdown",
      "metadata": {
        "colab_type": "text",
        "id": "gX4hkxBb9Ewt"
      },
      "source": [
        "#### Preprocessing\n",
        "* Neural nets work a lot better if we normalize the features first. \n",
        "* Keras has no built-in support so we have to do this manually (or with scikit-learn)\n",
        "    - Again, be careful not to look at the test data during normalization\n",
        "    \n"
      ]
    },
    {
      "cell_type": "code",
      "metadata": {
        "colab_type": "code",
        "id": "d-W92M6I9Ewt",
        "colab": {}
      },
      "source": [
        "mean, std = train_data.mean(axis=0), train_data.std(axis=0)\n",
        "train_data -= mean\n",
        "train_data /= std\n",
        "\n",
        "test_data -= mean\n",
        "test_data /= std"
      ],
      "execution_count": 0,
      "outputs": []
    },
    {
      "cell_type": "markdown",
      "metadata": {
        "colab_type": "text",
        "id": "OwM0wfKE9Ewx"
      },
      "source": [
        "#### Building the network\n",
        "* This is a small dataset, so easy to overfit\n",
        "    * We use 2 hidden layers of 64 units each\n",
        "* Use smaller batches, more epochs\n",
        "* Since we want scalar output, the output layer is one unit without activation\n",
        "* Loss function is Mean Squared Error (bigger penalty)\n",
        "* Evaluation metric is Mean Absolute Error (more interpretable)\n",
        "* We will also use cross-validation, so we wrap the model building in a function, so that we can call it multiple times\n",
        "\n",
        "1. Create a function build_model that returns the neural network model described above"
      ]
    },
    {
      "cell_type": "code",
      "metadata": {
        "colab_type": "code",
        "id": "vL_p-NcX9Ewz",
        "colab": {}
      },
      "source": [
        "def build_model():\n",
        "    model = models.Sequential()\n",
        "    model.add(layers.Dense(64, activation='relu',\n",
        "                           input_shape=(train_data.shape[1],)))\n",
        "    model.add(layers.Dense(64, activation='relu'))\n",
        "    model.add(layers.Dense(1))\n",
        "    model.compile(optimizer='rmsprop', loss='mse', metrics=['mae'])\n",
        "    return model"
      ],
      "execution_count": 0,
      "outputs": []
    },
    {
      "cell_type": "markdown",
      "metadata": {
        "colab_type": "text",
        "id": "t2seh8XW9Ew1"
      },
      "source": [
        "#### Cross-validation\n",
        "* Keras does not have support for cross-validation\n",
        "* We can implement cross-validation ourselves (seeprovided code below)\n",
        "* Alternatively, we can wrap a Keras model as a scikit-learn estimator\n",
        "* Generally speaking, cross-validation is tricky with neural nets\n",
        "    * Some fold may not converge, or fluctuate on random initialization\n",
        "    "
      ]
    },
    {
      "cell_type": "code",
      "metadata": {
        "colab_type": "code",
        "id": "VupbDC1U9Ew3",
        "colab": {
          "base_uri": "https://localhost:8080/",
          "height": 84
        },
        "outputId": "64c77735-6233-4a4e-9abb-f16fe44ddba8"
      },
      "source": [
        "# implementation of cross-validation\n",
        "import numpy as np\n",
        "\n",
        "k = 4\n",
        "num_val_samples = len(train_data) // k\n",
        "num_epochs = 20\n",
        "all_scores = []\n",
        "for i in range(k):\n",
        "    print('processing fold #', i)\n",
        "    # Prepare the validation data: data from partition # k\n",
        "    val_data = train_data[i * num_val_samples: (i + 1) * num_val_samples]\n",
        "    val_targets = train_targets[i * num_val_samples: (i + 1) * num_val_samples]\n",
        "\n",
        "    # Prepare the training data: data from all other partitions\n",
        "    partial_train_data = np.concatenate(\n",
        "        [train_data[:i * num_val_samples],\n",
        "         train_data[(i + 1) * num_val_samples:]],\n",
        "        axis=0)\n",
        "    partial_train_targets = np.concatenate(\n",
        "        [train_targets[:i * num_val_samples],\n",
        "         train_targets[(i + 1) * num_val_samples:]],\n",
        "        axis=0)\n",
        "\n",
        "    # Build the Keras model (already compiled)\n",
        "    model = build_model()\n",
        "    # Train the model (in silent mode, verbose=0)\n",
        "    model.fit(partial_train_data, partial_train_targets,\n",
        "              epochs=num_epochs, batch_size=1, verbose=0)\n",
        "    # Evaluate the model on the validation data\n",
        "    val_mse, val_mae = model.evaluate(val_data, val_targets, verbose=2)\n",
        "    all_scores.append(val_mae)"
      ],
      "execution_count": 46,
      "outputs": [
        {
          "output_type": "stream",
          "text": [
            "processing fold # 0\n",
            "processing fold # 1\n",
            "processing fold # 2\n",
            "processing fold # 3\n"
          ],
          "name": "stdout"
        }
      ]
    },
    {
      "cell_type": "markdown",
      "metadata": {
        "colab_type": "text",
        "id": "OcEyK-E59Ew8"
      },
      "source": [
        "1. Train for longer (200 epochs) and keep track of loss after every epoch. Plot and describe the loss as a function of epoch number."
      ]
    },
    {
      "cell_type": "code",
      "metadata": {
        "colab_type": "code",
        "id": "tXsVlXqw9Ew8",
        "colab": {
          "base_uri": "https://localhost:8080/",
          "height": 1000
        },
        "outputId": "74040847-f79e-49c5-a288-aa803c37a143"
      },
      "source": [
        "from keras import backend as K\n",
        "K.clear_session() # Memory clean-up\n",
        "\n",
        "num_epochs = 200\n",
        "all_mae_histories = []\n",
        "for i in range(k):\n",
        "    print('processing fold #', i)\n",
        "    # Prepare the validation data: data from partition # k\n",
        "    val_data = train_data[i * num_val_samples: (i + 1) * num_val_samples]\n",
        "    val_targets = train_targets[i * num_val_samples: (i + 1) * num_val_samples]\n",
        "\n",
        "    # Prepare the training data: data from all other partitions\n",
        "    partial_train_data = np.concatenate(\n",
        "        [train_data[:i * num_val_samples],\n",
        "         train_data[(i + 1) * num_val_samples:]],\n",
        "        axis=0)\n",
        "    partial_train_targets = np.concatenate(\n",
        "        [train_targets[:i * num_val_samples],\n",
        "         train_targets[(i + 1) * num_val_samples:]],\n",
        "        axis=0)\n",
        "\n",
        "    # Build the Keras model (already compiled)\n",
        "    model = build_model()\n",
        "    # Train the model (in silent mode, verbose=0)\n",
        "    history = model.fit(partial_train_data, partial_train_targets,\n",
        "                        validation_data=(val_data, val_targets),\n",
        "                        epochs=num_epochs, batch_size=1, verbose=2)\n",
        "    mae_history = history.history['val_loss']\n",
        "    all_mae_histories.append(mae_history)"
      ],
      "execution_count": 47,
      "outputs": [
        {
          "output_type": "stream",
          "text": [
            "WARNING:tensorflow:From /usr/local/lib/python3.6/dist-packages/keras/backend/tensorflow_backend.py:107: The name tf.reset_default_graph is deprecated. Please use tf.compat.v1.reset_default_graph instead.\n",
            "\n",
            "processing fold # 0\n",
            "Train on 303 samples, validate on 101 samples\n",
            "Epoch 1/200\n",
            " - 0s - loss: 189.5231 - mean_absolute_error: 9.7193 - val_loss: 29.8549 - val_mean_absolute_error: 3.3870\n",
            "Epoch 2/200\n",
            " - 0s - loss: 28.2157 - mean_absolute_error: 3.7588 - val_loss: 21.5973 - val_mean_absolute_error: 3.1671\n",
            "Epoch 3/200\n",
            " - 0s - loss: 21.8756 - mean_absolute_error: 3.2798 - val_loss: 18.4388 - val_mean_absolute_error: 2.9236\n",
            "Epoch 4/200\n",
            " - 0s - loss: 19.2032 - mean_absolute_error: 2.9664 - val_loss: 15.0946 - val_mean_absolute_error: 2.4792\n",
            "Epoch 5/200\n",
            " - 0s - loss: 16.7426 - mean_absolute_error: 2.8069 - val_loss: 14.1276 - val_mean_absolute_error: 2.6467\n",
            "Epoch 6/200\n",
            " - 0s - loss: 15.7732 - mean_absolute_error: 2.7412 - val_loss: 12.6754 - val_mean_absolute_error: 2.2586\n",
            "Epoch 7/200\n",
            " - 0s - loss: 14.9331 - mean_absolute_error: 2.4916 - val_loss: 13.4779 - val_mean_absolute_error: 2.4694\n",
            "Epoch 8/200\n",
            " - 0s - loss: 13.8334 - mean_absolute_error: 2.5055 - val_loss: 11.7487 - val_mean_absolute_error: 2.3271\n",
            "Epoch 9/200\n",
            " - 0s - loss: 12.7173 - mean_absolute_error: 2.3760 - val_loss: 12.9254 - val_mean_absolute_error: 2.6449\n",
            "Epoch 10/200\n",
            " - 0s - loss: 12.4463 - mean_absolute_error: 2.3989 - val_loss: 14.4745 - val_mean_absolute_error: 2.9581\n",
            "Epoch 11/200\n",
            " - 0s - loss: 12.2580 - mean_absolute_error: 2.3283 - val_loss: 9.9717 - val_mean_absolute_error: 2.1425\n",
            "Epoch 12/200\n",
            " - 0s - loss: 11.8835 - mean_absolute_error: 2.3657 - val_loss: 9.0765 - val_mean_absolute_error: 2.1132\n",
            "Epoch 13/200\n",
            " - 0s - loss: 11.0265 - mean_absolute_error: 2.2817 - val_loss: 9.1959 - val_mean_absolute_error: 2.1439\n",
            "Epoch 14/200\n",
            " - 0s - loss: 10.4974 - mean_absolute_error: 2.2419 - val_loss: 10.6216 - val_mean_absolute_error: 2.3620\n",
            "Epoch 15/200\n",
            " - 0s - loss: 10.9872 - mean_absolute_error: 2.2133 - val_loss: 9.2647 - val_mean_absolute_error: 1.9181\n",
            "Epoch 16/200\n",
            " - 0s - loss: 10.6525 - mean_absolute_error: 2.1770 - val_loss: 9.9366 - val_mean_absolute_error: 2.2533\n",
            "Epoch 17/200\n",
            " - 0s - loss: 9.9853 - mean_absolute_error: 2.1316 - val_loss: 9.3816 - val_mean_absolute_error: 2.2662\n",
            "Epoch 18/200\n",
            " - 0s - loss: 10.1628 - mean_absolute_error: 2.1555 - val_loss: 9.0897 - val_mean_absolute_error: 2.2423\n",
            "Epoch 19/200\n",
            " - 0s - loss: 9.8283 - mean_absolute_error: 2.1577 - val_loss: 10.0245 - val_mean_absolute_error: 2.0670\n",
            "Epoch 20/200\n",
            " - 0s - loss: 9.7410 - mean_absolute_error: 2.1375 - val_loss: 8.2050 - val_mean_absolute_error: 1.9776\n",
            "Epoch 21/200\n",
            " - 0s - loss: 9.3905 - mean_absolute_error: 2.1228 - val_loss: 8.2078 - val_mean_absolute_error: 2.0639\n",
            "Epoch 22/200\n",
            " - 0s - loss: 9.4541 - mean_absolute_error: 2.0537 - val_loss: 8.7328 - val_mean_absolute_error: 1.9478\n",
            "Epoch 23/200\n",
            " - 0s - loss: 9.1030 - mean_absolute_error: 2.0738 - val_loss: 9.2155 - val_mean_absolute_error: 2.3254\n",
            "Epoch 24/200\n",
            " - 0s - loss: 9.2884 - mean_absolute_error: 2.1052 - val_loss: 8.3948 - val_mean_absolute_error: 1.9417\n",
            "Epoch 25/200\n",
            " - 0s - loss: 8.8667 - mean_absolute_error: 1.9582 - val_loss: 9.4496 - val_mean_absolute_error: 2.1325\n",
            "Epoch 26/200\n",
            " - 0s - loss: 9.0123 - mean_absolute_error: 1.9993 - val_loss: 9.1979 - val_mean_absolute_error: 2.1142\n",
            "Epoch 27/200\n",
            " - 0s - loss: 8.8535 - mean_absolute_error: 2.0061 - val_loss: 9.6422 - val_mean_absolute_error: 2.4096\n",
            "Epoch 28/200\n",
            " - 0s - loss: 8.6523 - mean_absolute_error: 1.9265 - val_loss: 8.2187 - val_mean_absolute_error: 2.0095\n",
            "Epoch 29/200\n",
            " - 0s - loss: 8.9443 - mean_absolute_error: 2.0254 - val_loss: 9.9189 - val_mean_absolute_error: 2.1777\n",
            "Epoch 30/200\n",
            " - 0s - loss: 8.2022 - mean_absolute_error: 1.8889 - val_loss: 9.8723 - val_mean_absolute_error: 2.3340\n",
            "Epoch 31/200\n",
            " - 0s - loss: 8.7005 - mean_absolute_error: 1.9625 - val_loss: 9.6591 - val_mean_absolute_error: 2.3758\n",
            "Epoch 32/200\n",
            " - 0s - loss: 8.0497 - mean_absolute_error: 1.9404 - val_loss: 10.6542 - val_mean_absolute_error: 2.5910\n",
            "Epoch 33/200\n",
            " - 0s - loss: 8.2369 - mean_absolute_error: 1.9752 - val_loss: 8.6345 - val_mean_absolute_error: 2.1799\n",
            "Epoch 34/200\n",
            " - 0s - loss: 7.8301 - mean_absolute_error: 1.8891 - val_loss: 10.3266 - val_mean_absolute_error: 2.4333\n",
            "Epoch 35/200\n",
            " - 0s - loss: 8.1020 - mean_absolute_error: 1.9535 - val_loss: 8.5114 - val_mean_absolute_error: 2.1860\n",
            "Epoch 36/200\n",
            " - 0s - loss: 7.9864 - mean_absolute_error: 1.9001 - val_loss: 9.1778 - val_mean_absolute_error: 2.1496\n",
            "Epoch 37/200\n",
            " - 0s - loss: 7.6252 - mean_absolute_error: 1.8201 - val_loss: 8.8723 - val_mean_absolute_error: 1.9886\n",
            "Epoch 38/200\n",
            " - 0s - loss: 7.6800 - mean_absolute_error: 1.8770 - val_loss: 8.9069 - val_mean_absolute_error: 2.0580\n",
            "Epoch 39/200\n",
            " - 0s - loss: 7.4664 - mean_absolute_error: 1.8594 - val_loss: 8.6592 - val_mean_absolute_error: 2.1550\n",
            "Epoch 40/200\n",
            " - 0s - loss: 7.4542 - mean_absolute_error: 1.8581 - val_loss: 9.1294 - val_mean_absolute_error: 2.4010\n",
            "Epoch 41/200\n",
            " - 0s - loss: 7.7460 - mean_absolute_error: 1.8396 - val_loss: 9.3735 - val_mean_absolute_error: 2.2286\n",
            "Epoch 42/200\n",
            " - 0s - loss: 6.8960 - mean_absolute_error: 1.8889 - val_loss: 8.1865 - val_mean_absolute_error: 1.9564\n",
            "Epoch 43/200\n",
            " - 0s - loss: 7.0545 - mean_absolute_error: 1.7925 - val_loss: 9.8365 - val_mean_absolute_error: 2.3426\n",
            "Epoch 44/200\n",
            " - 0s - loss: 7.6806 - mean_absolute_error: 1.8365 - val_loss: 8.9932 - val_mean_absolute_error: 2.2718\n",
            "Epoch 45/200\n",
            " - 0s - loss: 7.3656 - mean_absolute_error: 1.8221 - val_loss: 8.9467 - val_mean_absolute_error: 2.1596\n",
            "Epoch 46/200\n",
            " - 0s - loss: 6.8793 - mean_absolute_error: 1.7555 - val_loss: 10.7691 - val_mean_absolute_error: 2.5182\n",
            "Epoch 47/200\n",
            " - 0s - loss: 6.7028 - mean_absolute_error: 1.7448 - val_loss: 9.6808 - val_mean_absolute_error: 2.0301\n",
            "Epoch 48/200\n",
            " - 0s - loss: 7.2053 - mean_absolute_error: 1.7363 - val_loss: 8.4696 - val_mean_absolute_error: 2.1944\n",
            "Epoch 49/200\n",
            " - 0s - loss: 7.0472 - mean_absolute_error: 1.7783 - val_loss: 8.2020 - val_mean_absolute_error: 2.0771\n",
            "Epoch 50/200\n",
            " - 0s - loss: 6.6072 - mean_absolute_error: 1.7764 - val_loss: 9.8662 - val_mean_absolute_error: 2.1837\n",
            "Epoch 51/200\n",
            " - 0s - loss: 6.6941 - mean_absolute_error: 1.7583 - val_loss: 9.4460 - val_mean_absolute_error: 2.2577\n",
            "Epoch 52/200\n",
            " - 0s - loss: 6.6436 - mean_absolute_error: 1.7296 - val_loss: 8.7742 - val_mean_absolute_error: 2.0869\n",
            "Epoch 53/200\n",
            " - 0s - loss: 6.7372 - mean_absolute_error: 1.7890 - val_loss: 9.0444 - val_mean_absolute_error: 2.0564\n",
            "Epoch 54/200\n",
            " - 0s - loss: 6.5399 - mean_absolute_error: 1.7673 - val_loss: 8.5758 - val_mean_absolute_error: 2.1151\n",
            "Epoch 55/200\n",
            " - 0s - loss: 6.6833 - mean_absolute_error: 1.7631 - val_loss: 8.7642 - val_mean_absolute_error: 2.2878\n",
            "Epoch 56/200\n",
            " - 0s - loss: 6.5703 - mean_absolute_error: 1.6921 - val_loss: 9.2583 - val_mean_absolute_error: 2.2577\n",
            "Epoch 57/200\n",
            " - 0s - loss: 6.6725 - mean_absolute_error: 1.7436 - val_loss: 7.8598 - val_mean_absolute_error: 2.0829\n",
            "Epoch 58/200\n",
            " - 0s - loss: 6.6191 - mean_absolute_error: 1.6994 - val_loss: 9.0068 - val_mean_absolute_error: 2.3199\n",
            "Epoch 59/200\n",
            " - 0s - loss: 6.3057 - mean_absolute_error: 1.6987 - val_loss: 8.7072 - val_mean_absolute_error: 2.2002\n",
            "Epoch 60/200\n",
            " - 0s - loss: 6.6168 - mean_absolute_error: 1.6607 - val_loss: 8.2039 - val_mean_absolute_error: 1.9900\n",
            "Epoch 61/200\n",
            " - 0s - loss: 6.2700 - mean_absolute_error: 1.6484 - val_loss: 8.5434 - val_mean_absolute_error: 2.0816\n",
            "Epoch 62/200\n",
            " - 0s - loss: 6.4232 - mean_absolute_error: 1.6720 - val_loss: 8.2998 - val_mean_absolute_error: 2.0847\n",
            "Epoch 63/200\n",
            " - 0s - loss: 6.3630 - mean_absolute_error: 1.6619 - val_loss: 8.6466 - val_mean_absolute_error: 2.2390\n",
            "Epoch 64/200\n",
            " - 0s - loss: 6.3021 - mean_absolute_error: 1.6260 - val_loss: 8.6659 - val_mean_absolute_error: 2.1770\n",
            "Epoch 65/200\n",
            " - 0s - loss: 6.2976 - mean_absolute_error: 1.6642 - val_loss: 7.3811 - val_mean_absolute_error: 1.8935\n",
            "Epoch 66/200\n",
            " - 0s - loss: 6.0070 - mean_absolute_error: 1.6388 - val_loss: 8.2945 - val_mean_absolute_error: 2.0789\n",
            "Epoch 67/200\n",
            " - 0s - loss: 5.8294 - mean_absolute_error: 1.6316 - val_loss: 8.4442 - val_mean_absolute_error: 2.2683\n",
            "Epoch 68/200\n",
            " - 0s - loss: 5.9834 - mean_absolute_error: 1.6578 - val_loss: 8.5716 - val_mean_absolute_error: 2.0765\n",
            "Epoch 69/200\n",
            " - 0s - loss: 5.9219 - mean_absolute_error: 1.5885 - val_loss: 10.4908 - val_mean_absolute_error: 2.3592\n",
            "Epoch 70/200\n",
            " - 0s - loss: 5.6502 - mean_absolute_error: 1.6257 - val_loss: 8.5884 - val_mean_absolute_error: 2.2721\n",
            "Epoch 71/200\n",
            " - 0s - loss: 6.1029 - mean_absolute_error: 1.6707 - val_loss: 7.6866 - val_mean_absolute_error: 1.9508\n",
            "Epoch 72/200\n",
            " - 0s - loss: 5.9415 - mean_absolute_error: 1.6154 - val_loss: 7.7403 - val_mean_absolute_error: 2.0674\n",
            "Epoch 73/200\n",
            " - 0s - loss: 5.8858 - mean_absolute_error: 1.6411 - val_loss: 9.5405 - val_mean_absolute_error: 2.4881\n",
            "Epoch 74/200\n",
            " - 0s - loss: 5.5621 - mean_absolute_error: 1.6307 - val_loss: 8.0416 - val_mean_absolute_error: 2.0357\n",
            "Epoch 75/200\n",
            " - 0s - loss: 5.7327 - mean_absolute_error: 1.6297 - val_loss: 8.9732 - val_mean_absolute_error: 2.4094\n",
            "Epoch 76/200\n",
            " - 0s - loss: 6.0476 - mean_absolute_error: 1.6287 - val_loss: 7.8281 - val_mean_absolute_error: 1.9594\n",
            "Epoch 77/200\n",
            " - 0s - loss: 5.4464 - mean_absolute_error: 1.5709 - val_loss: 9.6627 - val_mean_absolute_error: 2.1972\n",
            "Epoch 78/200\n",
            " - 0s - loss: 5.9256 - mean_absolute_error: 1.6080 - val_loss: 8.6217 - val_mean_absolute_error: 2.3205\n",
            "Epoch 79/200\n",
            " - 0s - loss: 5.4763 - mean_absolute_error: 1.5540 - val_loss: 8.5568 - val_mean_absolute_error: 2.2595\n",
            "Epoch 80/200\n",
            " - 0s - loss: 5.3245 - mean_absolute_error: 1.5611 - val_loss: 9.7891 - val_mean_absolute_error: 2.4057\n",
            "Epoch 81/200\n",
            " - 0s - loss: 5.2643 - mean_absolute_error: 1.5429 - val_loss: 7.9429 - val_mean_absolute_error: 2.0137\n",
            "Epoch 82/200\n",
            " - 0s - loss: 5.0576 - mean_absolute_error: 1.5092 - val_loss: 8.5052 - val_mean_absolute_error: 2.1238\n",
            "Epoch 83/200\n",
            " - 0s - loss: 5.1491 - mean_absolute_error: 1.5150 - val_loss: 9.5959 - val_mean_absolute_error: 2.2497\n",
            "Epoch 84/200\n",
            " - 0s - loss: 5.4068 - mean_absolute_error: 1.5494 - val_loss: 7.6185 - val_mean_absolute_error: 2.0216\n",
            "Epoch 85/200\n",
            " - 0s - loss: 4.9770 - mean_absolute_error: 1.4918 - val_loss: 7.2686 - val_mean_absolute_error: 2.0469\n",
            "Epoch 86/200\n",
            " - 0s - loss: 5.2599 - mean_absolute_error: 1.5700 - val_loss: 9.2419 - val_mean_absolute_error: 2.2291\n",
            "Epoch 87/200\n",
            " - 0s - loss: 4.8418 - mean_absolute_error: 1.4340 - val_loss: 8.9063 - val_mean_absolute_error: 2.2532\n",
            "Epoch 88/200\n",
            " - 0s - loss: 5.2705 - mean_absolute_error: 1.4812 - val_loss: 8.0538 - val_mean_absolute_error: 2.0497\n",
            "Epoch 89/200\n",
            " - 0s - loss: 5.1882 - mean_absolute_error: 1.4866 - val_loss: 8.9692 - val_mean_absolute_error: 2.2590\n",
            "Epoch 90/200\n",
            " - 0s - loss: 5.2367 - mean_absolute_error: 1.5214 - val_loss: 8.3627 - val_mean_absolute_error: 1.9847\n",
            "Epoch 91/200\n",
            " - 0s - loss: 4.9528 - mean_absolute_error: 1.4951 - val_loss: 8.7478 - val_mean_absolute_error: 2.2601\n",
            "Epoch 92/200\n",
            " - 0s - loss: 4.7726 - mean_absolute_error: 1.4744 - val_loss: 7.9653 - val_mean_absolute_error: 2.1754\n",
            "Epoch 93/200\n",
            " - 0s - loss: 5.0501 - mean_absolute_error: 1.4519 - val_loss: 11.2622 - val_mean_absolute_error: 2.7559\n",
            "Epoch 94/200\n",
            " - 0s - loss: 5.1527 - mean_absolute_error: 1.4805 - val_loss: 8.0313 - val_mean_absolute_error: 2.2202\n",
            "Epoch 95/200\n",
            " - 0s - loss: 4.8138 - mean_absolute_error: 1.4749 - val_loss: 8.9780 - val_mean_absolute_error: 2.1626\n",
            "Epoch 96/200\n",
            " - 0s - loss: 5.1372 - mean_absolute_error: 1.4981 - val_loss: 8.4471 - val_mean_absolute_error: 2.1097\n",
            "Epoch 97/200\n",
            " - 0s - loss: 4.8483 - mean_absolute_error: 1.4709 - val_loss: 8.2527 - val_mean_absolute_error: 2.1648\n",
            "Epoch 98/200\n",
            " - 0s - loss: 4.8938 - mean_absolute_error: 1.4469 - val_loss: 8.3469 - val_mean_absolute_error: 2.1244\n",
            "Epoch 99/200\n",
            " - 0s - loss: 4.4101 - mean_absolute_error: 1.4180 - val_loss: 7.4746 - val_mean_absolute_error: 2.0689\n",
            "Epoch 100/200\n",
            " - 0s - loss: 4.7582 - mean_absolute_error: 1.4459 - val_loss: 7.3595 - val_mean_absolute_error: 1.9739\n",
            "Epoch 101/200\n",
            " - 0s - loss: 4.8098 - mean_absolute_error: 1.4072 - val_loss: 8.3557 - val_mean_absolute_error: 2.1918\n",
            "Epoch 102/200\n",
            " - 0s - loss: 4.9528 - mean_absolute_error: 1.4957 - val_loss: 9.1517 - val_mean_absolute_error: 2.1160\n",
            "Epoch 103/200\n",
            " - 0s - loss: 4.8043 - mean_absolute_error: 1.4774 - val_loss: 7.7870 - val_mean_absolute_error: 2.0733\n",
            "Epoch 104/200\n",
            " - 0s - loss: 4.5375 - mean_absolute_error: 1.4258 - val_loss: 8.3246 - val_mean_absolute_error: 2.1798\n",
            "Epoch 105/200\n",
            " - 0s - loss: 4.2446 - mean_absolute_error: 1.3743 - val_loss: 7.9924 - val_mean_absolute_error: 1.9608\n",
            "Epoch 106/200\n",
            " - 0s - loss: 4.5314 - mean_absolute_error: 1.4291 - val_loss: 8.7769 - val_mean_absolute_error: 2.2041\n",
            "Epoch 107/200\n",
            " - 0s - loss: 4.5966 - mean_absolute_error: 1.4186 - val_loss: 7.9946 - val_mean_absolute_error: 2.0106\n",
            "Epoch 108/200\n",
            " - 0s - loss: 4.6208 - mean_absolute_error: 1.4365 - val_loss: 7.7860 - val_mean_absolute_error: 2.0900\n",
            "Epoch 109/200\n",
            " - 0s - loss: 4.3504 - mean_absolute_error: 1.4093 - val_loss: 7.9778 - val_mean_absolute_error: 2.0539\n",
            "Epoch 110/200\n",
            " - 0s - loss: 4.1842 - mean_absolute_error: 1.3906 - val_loss: 10.0146 - val_mean_absolute_error: 2.3921\n",
            "Epoch 111/200\n",
            " - 0s - loss: 4.4380 - mean_absolute_error: 1.3843 - val_loss: 8.8777 - val_mean_absolute_error: 2.2815\n",
            "Epoch 112/200\n",
            " - 0s - loss: 4.4294 - mean_absolute_error: 1.4105 - val_loss: 8.0860 - val_mean_absolute_error: 2.1779\n",
            "Epoch 113/200\n",
            " - 0s - loss: 4.1870 - mean_absolute_error: 1.3454 - val_loss: 8.2816 - val_mean_absolute_error: 2.0318\n",
            "Epoch 114/200\n",
            " - 0s - loss: 4.2774 - mean_absolute_error: 1.3939 - val_loss: 8.5056 - val_mean_absolute_error: 2.2099\n",
            "Epoch 115/200\n",
            " - 0s - loss: 3.9915 - mean_absolute_error: 1.3792 - val_loss: 8.8019 - val_mean_absolute_error: 2.2224\n",
            "Epoch 116/200\n",
            " - 0s - loss: 4.4647 - mean_absolute_error: 1.3872 - val_loss: 10.8251 - val_mean_absolute_error: 2.5721\n",
            "Epoch 117/200\n",
            " - 0s - loss: 4.2834 - mean_absolute_error: 1.4120 - val_loss: 7.4528 - val_mean_absolute_error: 1.9881\n",
            "Epoch 118/200\n",
            " - 0s - loss: 4.0516 - mean_absolute_error: 1.3626 - val_loss: 7.5873 - val_mean_absolute_error: 2.0161\n",
            "Epoch 119/200\n",
            " - 0s - loss: 4.5073 - mean_absolute_error: 1.3926 - val_loss: 9.0150 - val_mean_absolute_error: 2.0717\n",
            "Epoch 120/200\n",
            " - 0s - loss: 4.1692 - mean_absolute_error: 1.3791 - val_loss: 7.3233 - val_mean_absolute_error: 2.0645\n",
            "Epoch 121/200\n",
            " - 0s - loss: 4.3108 - mean_absolute_error: 1.4466 - val_loss: 7.4150 - val_mean_absolute_error: 2.0005\n",
            "Epoch 122/200\n",
            " - 0s - loss: 3.9391 - mean_absolute_error: 1.3424 - val_loss: 9.8016 - val_mean_absolute_error: 2.1462\n",
            "Epoch 123/200\n",
            " - 0s - loss: 3.9429 - mean_absolute_error: 1.3473 - val_loss: 8.0827 - val_mean_absolute_error: 2.1150\n",
            "Epoch 124/200\n",
            " - 0s - loss: 4.1721 - mean_absolute_error: 1.4039 - val_loss: 7.3455 - val_mean_absolute_error: 1.9465\n",
            "Epoch 125/200\n",
            " - 0s - loss: 4.1755 - mean_absolute_error: 1.3405 - val_loss: 8.3404 - val_mean_absolute_error: 2.0297\n",
            "Epoch 126/200\n",
            " - 0s - loss: 4.2054 - mean_absolute_error: 1.3675 - val_loss: 7.0644 - val_mean_absolute_error: 1.9628\n",
            "Epoch 127/200\n",
            " - 0s - loss: 4.0268 - mean_absolute_error: 1.3405 - val_loss: 8.9644 - val_mean_absolute_error: 2.2862\n",
            "Epoch 128/200\n",
            " - 0s - loss: 4.2996 - mean_absolute_error: 1.4403 - val_loss: 7.6324 - val_mean_absolute_error: 2.1323\n",
            "Epoch 129/200\n",
            " - 0s - loss: 4.0003 - mean_absolute_error: 1.3455 - val_loss: 8.5932 - val_mean_absolute_error: 2.2061\n",
            "Epoch 130/200\n",
            " - 0s - loss: 4.1848 - mean_absolute_error: 1.3510 - val_loss: 8.2882 - val_mean_absolute_error: 2.0186\n",
            "Epoch 131/200\n",
            " - 0s - loss: 3.8952 - mean_absolute_error: 1.3187 - val_loss: 7.4548 - val_mean_absolute_error: 1.9498\n",
            "Epoch 132/200\n",
            " - 0s - loss: 4.2093 - mean_absolute_error: 1.3766 - val_loss: 7.8744 - val_mean_absolute_error: 2.0652\n",
            "Epoch 133/200\n",
            " - 0s - loss: 3.7088 - mean_absolute_error: 1.2891 - val_loss: 8.1132 - val_mean_absolute_error: 2.1785\n",
            "Epoch 134/200\n",
            " - 0s - loss: 3.9498 - mean_absolute_error: 1.3817 - val_loss: 8.7279 - val_mean_absolute_error: 2.1672\n",
            "Epoch 135/200\n",
            " - 0s - loss: 3.5591 - mean_absolute_error: 1.3040 - val_loss: 8.2252 - val_mean_absolute_error: 2.2500\n",
            "Epoch 136/200\n",
            " - 0s - loss: 3.9358 - mean_absolute_error: 1.3299 - val_loss: 8.8970 - val_mean_absolute_error: 2.2298\n",
            "Epoch 137/200\n",
            " - 0s - loss: 3.5402 - mean_absolute_error: 1.3427 - val_loss: 8.2218 - val_mean_absolute_error: 2.1013\n",
            "Epoch 138/200\n",
            " - 0s - loss: 3.6025 - mean_absolute_error: 1.2794 - val_loss: 8.6795 - val_mean_absolute_error: 2.2316\n",
            "Epoch 139/200\n",
            " - 0s - loss: 3.7375 - mean_absolute_error: 1.3003 - val_loss: 9.3064 - val_mean_absolute_error: 2.3451\n",
            "Epoch 140/200\n",
            " - 0s - loss: 3.7050 - mean_absolute_error: 1.3619 - val_loss: 9.4497 - val_mean_absolute_error: 2.3085\n",
            "Epoch 141/200\n",
            " - 0s - loss: 3.4712 - mean_absolute_error: 1.2812 - val_loss: 7.9534 - val_mean_absolute_error: 2.2370\n",
            "Epoch 142/200\n",
            " - 0s - loss: 3.4637 - mean_absolute_error: 1.3022 - val_loss: 7.7102 - val_mean_absolute_error: 2.1350\n",
            "Epoch 143/200\n",
            " - 0s - loss: 3.7236 - mean_absolute_error: 1.3224 - val_loss: 7.7114 - val_mean_absolute_error: 2.1043\n",
            "Epoch 144/200\n",
            " - 0s - loss: 3.6345 - mean_absolute_error: 1.2136 - val_loss: 7.5712 - val_mean_absolute_error: 2.0585\n",
            "Epoch 145/200\n",
            " - 0s - loss: 3.5906 - mean_absolute_error: 1.2637 - val_loss: 7.6252 - val_mean_absolute_error: 2.0255\n",
            "Epoch 146/200\n",
            " - 0s - loss: 3.7066 - mean_absolute_error: 1.3342 - val_loss: 8.4457 - val_mean_absolute_error: 2.2100\n",
            "Epoch 147/200\n",
            " - 0s - loss: 3.4277 - mean_absolute_error: 1.2609 - val_loss: 7.9530 - val_mean_absolute_error: 2.2053\n",
            "Epoch 148/200\n",
            " - 0s - loss: 3.6891 - mean_absolute_error: 1.2475 - val_loss: 9.0324 - val_mean_absolute_error: 2.2619\n",
            "Epoch 149/200\n",
            " - 0s - loss: 3.3539 - mean_absolute_error: 1.2227 - val_loss: 9.2650 - val_mean_absolute_error: 2.2552\n",
            "Epoch 150/200\n",
            " - 0s - loss: 3.6453 - mean_absolute_error: 1.2817 - val_loss: 8.0972 - val_mean_absolute_error: 2.0865\n",
            "Epoch 151/200\n",
            " - 0s - loss: 3.4454 - mean_absolute_error: 1.2503 - val_loss: 8.1726 - val_mean_absolute_error: 2.1022\n",
            "Epoch 152/200\n",
            " - 0s - loss: 3.5061 - mean_absolute_error: 1.2715 - val_loss: 8.6726 - val_mean_absolute_error: 2.2086\n",
            "Epoch 153/200\n",
            " - 0s - loss: 3.5664 - mean_absolute_error: 1.2838 - val_loss: 8.5135 - val_mean_absolute_error: 2.1364\n",
            "Epoch 154/200\n",
            " - 0s - loss: 3.3792 - mean_absolute_error: 1.2874 - val_loss: 8.3914 - val_mean_absolute_error: 2.1656\n",
            "Epoch 155/200\n",
            " - 0s - loss: 3.0509 - mean_absolute_error: 1.2282 - val_loss: 10.4892 - val_mean_absolute_error: 2.3986\n",
            "Epoch 156/200\n",
            " - 0s - loss: 3.1784 - mean_absolute_error: 1.2701 - val_loss: 7.8438 - val_mean_absolute_error: 2.0950\n",
            "Epoch 157/200\n",
            " - 0s - loss: 3.2737 - mean_absolute_error: 1.2601 - val_loss: 10.6109 - val_mean_absolute_error: 2.4930\n",
            "Epoch 158/200\n",
            " - 0s - loss: 3.1944 - mean_absolute_error: 1.2644 - val_loss: 8.6769 - val_mean_absolute_error: 2.2307\n",
            "Epoch 159/200\n",
            " - 0s - loss: 3.1732 - mean_absolute_error: 1.1948 - val_loss: 8.1274 - val_mean_absolute_error: 2.1205\n",
            "Epoch 160/200\n",
            " - 0s - loss: 3.0282 - mean_absolute_error: 1.2292 - val_loss: 8.3860 - val_mean_absolute_error: 2.2952\n",
            "Epoch 161/200\n",
            " - 0s - loss: 3.1035 - mean_absolute_error: 1.2441 - val_loss: 7.8891 - val_mean_absolute_error: 2.0919\n",
            "Epoch 162/200\n",
            " - 0s - loss: 3.0467 - mean_absolute_error: 1.1906 - val_loss: 7.4401 - val_mean_absolute_error: 2.1525\n",
            "Epoch 163/200\n",
            " - 0s - loss: 3.0150 - mean_absolute_error: 1.2537 - val_loss: 8.6169 - val_mean_absolute_error: 2.2864\n",
            "Epoch 164/200\n",
            " - 0s - loss: 3.1238 - mean_absolute_error: 1.2340 - val_loss: 8.1988 - val_mean_absolute_error: 2.1415\n",
            "Epoch 165/200\n",
            " - 0s - loss: 3.3415 - mean_absolute_error: 1.2592 - val_loss: 8.1435 - val_mean_absolute_error: 2.1553\n",
            "Epoch 166/200\n",
            " - 0s - loss: 3.2869 - mean_absolute_error: 1.2488 - val_loss: 8.0372 - val_mean_absolute_error: 2.0094\n",
            "Epoch 167/200\n",
            " - 0s - loss: 2.9179 - mean_absolute_error: 1.1858 - val_loss: 7.9714 - val_mean_absolute_error: 2.1225\n",
            "Epoch 168/200\n",
            " - 0s - loss: 3.0240 - mean_absolute_error: 1.1723 - val_loss: 8.1075 - val_mean_absolute_error: 2.1837\n",
            "Epoch 169/200\n",
            " - 0s - loss: 2.8742 - mean_absolute_error: 1.1486 - val_loss: 8.3676 - val_mean_absolute_error: 2.1951\n",
            "Epoch 170/200\n",
            " - 0s - loss: 2.9719 - mean_absolute_error: 1.1839 - val_loss: 8.8161 - val_mean_absolute_error: 2.2734\n",
            "Epoch 171/200\n",
            " - 0s - loss: 2.9198 - mean_absolute_error: 1.2119 - val_loss: 7.5796 - val_mean_absolute_error: 2.0877\n",
            "Epoch 172/200\n",
            " - 0s - loss: 2.5494 - mean_absolute_error: 1.1296 - val_loss: 9.7287 - val_mean_absolute_error: 2.4520\n",
            "Epoch 173/200\n",
            " - 0s - loss: 3.0451 - mean_absolute_error: 1.2153 - val_loss: 9.6500 - val_mean_absolute_error: 2.2952\n",
            "Epoch 174/200\n",
            " - 0s - loss: 2.8247 - mean_absolute_error: 1.1882 - val_loss: 9.2778 - val_mean_absolute_error: 2.3534\n",
            "Epoch 175/200\n",
            " - 0s - loss: 2.6745 - mean_absolute_error: 1.1589 - val_loss: 9.5302 - val_mean_absolute_error: 2.2640\n",
            "Epoch 176/200\n",
            " - 0s - loss: 2.9076 - mean_absolute_error: 1.2303 - val_loss: 8.5040 - val_mean_absolute_error: 2.1055\n",
            "Epoch 177/200\n",
            " - 0s - loss: 2.8227 - mean_absolute_error: 1.1752 - val_loss: 7.8243 - val_mean_absolute_error: 2.0461\n",
            "Epoch 178/200\n",
            " - 0s - loss: 2.8941 - mean_absolute_error: 1.1523 - val_loss: 9.4939 - val_mean_absolute_error: 2.3476\n",
            "Epoch 179/200\n",
            " - 0s - loss: 3.0486 - mean_absolute_error: 1.1575 - val_loss: 8.6048 - val_mean_absolute_error: 2.1888\n",
            "Epoch 180/200\n",
            " - 0s - loss: 2.6100 - mean_absolute_error: 1.1583 - val_loss: 8.8733 - val_mean_absolute_error: 2.2045\n",
            "Epoch 181/200\n",
            " - 0s - loss: 2.6567 - mean_absolute_error: 1.1619 - val_loss: 9.1898 - val_mean_absolute_error: 2.2034\n",
            "Epoch 182/200\n",
            " - 0s - loss: 2.7410 - mean_absolute_error: 1.1425 - val_loss: 10.1856 - val_mean_absolute_error: 2.4235\n",
            "Epoch 183/200\n",
            " - 0s - loss: 2.7066 - mean_absolute_error: 1.1691 - val_loss: 9.1392 - val_mean_absolute_error: 2.2466\n",
            "Epoch 184/200\n",
            " - 0s - loss: 2.8083 - mean_absolute_error: 1.1844 - val_loss: 10.2269 - val_mean_absolute_error: 2.4344\n",
            "Epoch 185/200\n",
            " - 0s - loss: 2.8715 - mean_absolute_error: 1.1140 - val_loss: 8.2925 - val_mean_absolute_error: 2.1954\n",
            "Epoch 186/200\n",
            " - 0s - loss: 2.7430 - mean_absolute_error: 1.1678 - val_loss: 10.1680 - val_mean_absolute_error: 2.2911\n",
            "Epoch 187/200\n",
            " - 0s - loss: 2.6977 - mean_absolute_error: 1.1532 - val_loss: 8.6818 - val_mean_absolute_error: 2.1612\n",
            "Epoch 188/200\n",
            " - 0s - loss: 2.4083 - mean_absolute_error: 1.0981 - val_loss: 10.0291 - val_mean_absolute_error: 2.3515\n",
            "Epoch 189/200\n",
            " - 0s - loss: 2.7200 - mean_absolute_error: 1.1993 - val_loss: 8.5672 - val_mean_absolute_error: 2.1567\n",
            "Epoch 190/200\n",
            " - 0s - loss: 2.4181 - mean_absolute_error: 1.1030 - val_loss: 9.0219 - val_mean_absolute_error: 2.1716\n",
            "Epoch 191/200\n",
            " - 0s - loss: 2.4836 - mean_absolute_error: 1.1343 - val_loss: 10.0546 - val_mean_absolute_error: 2.4420\n",
            "Epoch 192/200\n",
            " - 0s - loss: 2.5486 - mean_absolute_error: 1.1229 - val_loss: 8.5437 - val_mean_absolute_error: 2.2043\n",
            "Epoch 193/200\n",
            " - 0s - loss: 2.3900 - mean_absolute_error: 1.0869 - val_loss: 8.8931 - val_mean_absolute_error: 2.2263\n",
            "Epoch 194/200\n",
            " - 0s - loss: 2.3546 - mean_absolute_error: 1.0916 - val_loss: 8.8690 - val_mean_absolute_error: 2.2461\n",
            "Epoch 195/200\n",
            " - 0s - loss: 2.6659 - mean_absolute_error: 1.1348 - val_loss: 8.7612 - val_mean_absolute_error: 2.2228\n",
            "Epoch 196/200\n",
            " - 0s - loss: 2.4335 - mean_absolute_error: 1.1225 - val_loss: 8.6852 - val_mean_absolute_error: 2.2056\n",
            "Epoch 197/200\n",
            " - 0s - loss: 2.5551 - mean_absolute_error: 1.1049 - val_loss: 9.0221 - val_mean_absolute_error: 2.2716\n",
            "Epoch 198/200\n",
            " - 0s - loss: 2.3476 - mean_absolute_error: 1.1028 - val_loss: 9.2375 - val_mean_absolute_error: 2.2615\n",
            "Epoch 199/200\n",
            " - 0s - loss: 2.3660 - mean_absolute_error: 1.1015 - val_loss: 8.2974 - val_mean_absolute_error: 2.0692\n",
            "Epoch 200/200\n",
            " - 0s - loss: 2.4818 - mean_absolute_error: 1.1075 - val_loss: 11.1722 - val_mean_absolute_error: 2.3744\n",
            "processing fold # 1\n",
            "Train on 303 samples, validate on 101 samples\n",
            "Epoch 1/200\n",
            " - 1s - loss: 260.9744 - mean_absolute_error: 12.2776 - val_loss: 33.6250 - val_mean_absolute_error: 4.3309\n",
            "Epoch 2/200\n",
            " - 0s - loss: 33.2606 - mean_absolute_error: 3.7204 - val_loss: 19.2370 - val_mean_absolute_error: 3.3236\n",
            "Epoch 3/200\n",
            " - 0s - loss: 21.9040 - mean_absolute_error: 3.0394 - val_loss: 16.8911 - val_mean_absolute_error: 3.0899\n",
            "Epoch 4/200\n",
            " - 0s - loss: 18.3643 - mean_absolute_error: 2.8318 - val_loss: 14.5196 - val_mean_absolute_error: 2.8159\n",
            "Epoch 5/200\n",
            " - 0s - loss: 15.6906 - mean_absolute_error: 2.6481 - val_loss: 14.7034 - val_mean_absolute_error: 2.9412\n",
            "Epoch 6/200\n",
            " - 0s - loss: 14.1311 - mean_absolute_error: 2.4753 - val_loss: 13.0121 - val_mean_absolute_error: 2.6998\n",
            "Epoch 7/200\n",
            " - 0s - loss: 13.1276 - mean_absolute_error: 2.4285 - val_loss: 14.5751 - val_mean_absolute_error: 2.9518\n",
            "Epoch 8/200\n",
            " - 0s - loss: 12.3318 - mean_absolute_error: 2.2728 - val_loss: 12.9124 - val_mean_absolute_error: 2.8647\n",
            "Epoch 9/200\n",
            " - 0s - loss: 11.6954 - mean_absolute_error: 2.2917 - val_loss: 11.1770 - val_mean_absolute_error: 2.4857\n",
            "Epoch 10/200\n",
            " - 0s - loss: 12.0781 - mean_absolute_error: 2.2724 - val_loss: 11.4943 - val_mean_absolute_error: 2.5518\n",
            "Epoch 11/200\n",
            " - 0s - loss: 11.0202 - mean_absolute_error: 2.1996 - val_loss: 10.9488 - val_mean_absolute_error: 2.5258\n",
            "Epoch 12/200\n",
            " - 0s - loss: 10.8897 - mean_absolute_error: 2.1781 - val_loss: 10.8505 - val_mean_absolute_error: 2.5102\n",
            "Epoch 13/200\n",
            " - 0s - loss: 10.0534 - mean_absolute_error: 2.1150 - val_loss: 10.9813 - val_mean_absolute_error: 2.5939\n",
            "Epoch 14/200\n",
            " - 0s - loss: 10.2343 - mean_absolute_error: 2.1646 - val_loss: 11.0046 - val_mean_absolute_error: 2.5255\n",
            "Epoch 15/200\n",
            " - 0s - loss: 10.0295 - mean_absolute_error: 2.1122 - val_loss: 10.0893 - val_mean_absolute_error: 2.4282\n",
            "Epoch 16/200\n",
            " - 0s - loss: 9.9186 - mean_absolute_error: 2.0744 - val_loss: 10.5939 - val_mean_absolute_error: 2.4530\n",
            "Epoch 17/200\n",
            " - 0s - loss: 9.8679 - mean_absolute_error: 2.0506 - val_loss: 11.1369 - val_mean_absolute_error: 2.5402\n",
            "Epoch 18/200\n",
            " - 0s - loss: 9.5371 - mean_absolute_error: 2.0561 - val_loss: 10.5705 - val_mean_absolute_error: 2.4653\n",
            "Epoch 19/200\n",
            " - 0s - loss: 8.7328 - mean_absolute_error: 1.9520 - val_loss: 12.2567 - val_mean_absolute_error: 2.7054\n",
            "Epoch 20/200\n",
            " - 0s - loss: 9.3489 - mean_absolute_error: 1.9911 - val_loss: 11.9803 - val_mean_absolute_error: 2.6516\n",
            "Epoch 21/200\n",
            " - 0s - loss: 8.9795 - mean_absolute_error: 2.0054 - val_loss: 9.6338 - val_mean_absolute_error: 2.4474\n",
            "Epoch 22/200\n",
            " - 0s - loss: 8.2672 - mean_absolute_error: 1.9818 - val_loss: 10.3561 - val_mean_absolute_error: 2.4925\n",
            "Epoch 23/200\n",
            " - 0s - loss: 8.7571 - mean_absolute_error: 1.9042 - val_loss: 12.2361 - val_mean_absolute_error: 2.7420\n",
            "Epoch 24/200\n",
            " - 0s - loss: 9.2303 - mean_absolute_error: 1.9444 - val_loss: 9.6386 - val_mean_absolute_error: 2.3615\n",
            "Epoch 25/200\n",
            " - 0s - loss: 8.3593 - mean_absolute_error: 1.8894 - val_loss: 10.2537 - val_mean_absolute_error: 2.4493\n",
            "Epoch 26/200\n",
            " - 0s - loss: 8.7855 - mean_absolute_error: 1.9515 - val_loss: 10.0124 - val_mean_absolute_error: 2.4349\n",
            "Epoch 27/200\n",
            " - 0s - loss: 8.4695 - mean_absolute_error: 1.9231 - val_loss: 10.8180 - val_mean_absolute_error: 2.5747\n",
            "Epoch 28/200\n",
            " - 0s - loss: 8.3392 - mean_absolute_error: 1.9110 - val_loss: 9.9931 - val_mean_absolute_error: 2.4677\n",
            "Epoch 29/200\n",
            " - 0s - loss: 8.4906 - mean_absolute_error: 1.8978 - val_loss: 10.3303 - val_mean_absolute_error: 2.4965\n",
            "Epoch 30/200\n",
            " - 0s - loss: 7.7496 - mean_absolute_error: 1.7840 - val_loss: 9.5621 - val_mean_absolute_error: 2.4177\n",
            "Epoch 31/200\n",
            " - 0s - loss: 8.0282 - mean_absolute_error: 1.8834 - val_loss: 9.8399 - val_mean_absolute_error: 2.4307\n",
            "Epoch 32/200\n",
            " - 0s - loss: 8.7534 - mean_absolute_error: 1.8423 - val_loss: 11.0688 - val_mean_absolute_error: 2.5616\n",
            "Epoch 33/200\n",
            " - 0s - loss: 8.0220 - mean_absolute_error: 1.8430 - val_loss: 9.7483 - val_mean_absolute_error: 2.4282\n",
            "Epoch 34/200\n",
            " - 0s - loss: 7.9755 - mean_absolute_error: 1.8244 - val_loss: 10.2672 - val_mean_absolute_error: 2.5042\n",
            "Epoch 35/200\n",
            " - 0s - loss: 8.1905 - mean_absolute_error: 1.7643 - val_loss: 11.5023 - val_mean_absolute_error: 2.6606\n",
            "Epoch 36/200\n",
            " - 0s - loss: 7.9477 - mean_absolute_error: 1.8391 - val_loss: 8.6940 - val_mean_absolute_error: 2.2807\n",
            "Epoch 37/200\n",
            " - 0s - loss: 7.8701 - mean_absolute_error: 1.8047 - val_loss: 9.8385 - val_mean_absolute_error: 2.4467\n",
            "Epoch 38/200\n",
            " - 0s - loss: 7.3577 - mean_absolute_error: 1.7360 - val_loss: 10.5509 - val_mean_absolute_error: 2.5493\n",
            "Epoch 39/200\n",
            " - 0s - loss: 7.3072 - mean_absolute_error: 1.7587 - val_loss: 9.9153 - val_mean_absolute_error: 2.4315\n",
            "Epoch 40/200\n",
            " - 0s - loss: 7.5559 - mean_absolute_error: 1.6843 - val_loss: 10.5550 - val_mean_absolute_error: 2.4997\n",
            "Epoch 41/200\n",
            " - 0s - loss: 7.4568 - mean_absolute_error: 1.7399 - val_loss: 9.5756 - val_mean_absolute_error: 2.3834\n",
            "Epoch 42/200\n",
            " - 0s - loss: 7.3937 - mean_absolute_error: 1.7101 - val_loss: 9.8122 - val_mean_absolute_error: 2.4519\n",
            "Epoch 43/200\n",
            " - 0s - loss: 7.2598 - mean_absolute_error: 1.7662 - val_loss: 10.6313 - val_mean_absolute_error: 2.5253\n",
            "Epoch 44/200\n",
            " - 0s - loss: 6.4728 - mean_absolute_error: 1.6873 - val_loss: 10.2294 - val_mean_absolute_error: 2.4173\n",
            "Epoch 45/200\n",
            " - 0s - loss: 6.7018 - mean_absolute_error: 1.6959 - val_loss: 8.4773 - val_mean_absolute_error: 2.2456\n",
            "Epoch 46/200\n",
            " - 0s - loss: 6.5632 - mean_absolute_error: 1.6440 - val_loss: 11.5255 - val_mean_absolute_error: 2.6782\n",
            "Epoch 47/200\n",
            " - 0s - loss: 7.2143 - mean_absolute_error: 1.7214 - val_loss: 9.0416 - val_mean_absolute_error: 2.2787\n",
            "Epoch 48/200\n",
            " - 0s - loss: 6.4013 - mean_absolute_error: 1.6218 - val_loss: 10.1402 - val_mean_absolute_error: 2.4327\n",
            "Epoch 49/200\n",
            " - 0s - loss: 6.3869 - mean_absolute_error: 1.6664 - val_loss: 10.6499 - val_mean_absolute_error: 2.5214\n",
            "Epoch 50/200\n",
            " - 0s - loss: 6.2359 - mean_absolute_error: 1.6212 - val_loss: 9.1392 - val_mean_absolute_error: 2.2757\n",
            "Epoch 51/200\n",
            " - 0s - loss: 6.2686 - mean_absolute_error: 1.6638 - val_loss: 13.8324 - val_mean_absolute_error: 2.8175\n",
            "Epoch 52/200\n",
            " - 0s - loss: 6.4672 - mean_absolute_error: 1.6014 - val_loss: 9.3494 - val_mean_absolute_error: 2.3363\n",
            "Epoch 53/200\n",
            " - 0s - loss: 6.6343 - mean_absolute_error: 1.6306 - val_loss: 10.0882 - val_mean_absolute_error: 2.4683\n",
            "Epoch 54/200\n",
            " - 0s - loss: 6.5110 - mean_absolute_error: 1.6446 - val_loss: 9.8210 - val_mean_absolute_error: 2.4160\n",
            "Epoch 55/200\n",
            " - 0s - loss: 6.2591 - mean_absolute_error: 1.6350 - val_loss: 11.2981 - val_mean_absolute_error: 2.6050\n",
            "Epoch 56/200\n",
            " - 0s - loss: 6.1248 - mean_absolute_error: 1.6229 - val_loss: 9.4188 - val_mean_absolute_error: 2.3290\n",
            "Epoch 57/200\n",
            " - 0s - loss: 5.8471 - mean_absolute_error: 1.6505 - val_loss: 9.2507 - val_mean_absolute_error: 2.3186\n",
            "Epoch 58/200\n",
            " - 0s - loss: 6.0347 - mean_absolute_error: 1.6035 - val_loss: 9.6056 - val_mean_absolute_error: 2.3970\n",
            "Epoch 59/200\n",
            " - 0s - loss: 6.0324 - mean_absolute_error: 1.5907 - val_loss: 9.3897 - val_mean_absolute_error: 2.3840\n",
            "Epoch 60/200\n",
            " - 0s - loss: 5.8553 - mean_absolute_error: 1.5895 - val_loss: 8.5320 - val_mean_absolute_error: 2.2103\n",
            "Epoch 61/200\n",
            " - 0s - loss: 5.8869 - mean_absolute_error: 1.5501 - val_loss: 9.9681 - val_mean_absolute_error: 2.4892\n",
            "Epoch 62/200\n",
            " - 0s - loss: 6.0882 - mean_absolute_error: 1.6312 - val_loss: 10.9554 - val_mean_absolute_error: 2.6039\n",
            "Epoch 63/200\n",
            " - 0s - loss: 5.5429 - mean_absolute_error: 1.5591 - val_loss: 8.8453 - val_mean_absolute_error: 2.3135\n",
            "Epoch 64/200\n",
            " - 0s - loss: 5.3873 - mean_absolute_error: 1.5350 - val_loss: 9.3169 - val_mean_absolute_error: 2.3311\n",
            "Epoch 65/200\n",
            " - 0s - loss: 5.2478 - mean_absolute_error: 1.5332 - val_loss: 11.1169 - val_mean_absolute_error: 2.5727\n",
            "Epoch 66/200\n",
            " - 0s - loss: 5.8658 - mean_absolute_error: 1.5539 - val_loss: 9.3634 - val_mean_absolute_error: 2.3730\n",
            "Epoch 67/200\n",
            " - 0s - loss: 5.2567 - mean_absolute_error: 1.4864 - val_loss: 9.8330 - val_mean_absolute_error: 2.3872\n",
            "Epoch 68/200\n",
            " - 0s - loss: 5.4030 - mean_absolute_error: 1.5195 - val_loss: 9.8564 - val_mean_absolute_error: 2.4181\n",
            "Epoch 69/200\n",
            " - 0s - loss: 5.3912 - mean_absolute_error: 1.5416 - val_loss: 10.9685 - val_mean_absolute_error: 2.5518\n",
            "Epoch 70/200\n",
            " - 0s - loss: 5.0766 - mean_absolute_error: 1.5304 - val_loss: 9.5463 - val_mean_absolute_error: 2.3537\n",
            "Epoch 71/200\n",
            " - 0s - loss: 5.1700 - mean_absolute_error: 1.4849 - val_loss: 9.4156 - val_mean_absolute_error: 2.2945\n",
            "Epoch 72/200\n",
            " - 0s - loss: 5.1719 - mean_absolute_error: 1.5071 - val_loss: 9.8825 - val_mean_absolute_error: 2.3975\n",
            "Epoch 73/200\n",
            " - 0s - loss: 5.2131 - mean_absolute_error: 1.5183 - val_loss: 10.2550 - val_mean_absolute_error: 2.4375\n",
            "Epoch 74/200\n",
            " - 0s - loss: 5.0057 - mean_absolute_error: 1.4795 - val_loss: 10.5843 - val_mean_absolute_error: 2.5139\n",
            "Epoch 75/200\n",
            " - 0s - loss: 4.9315 - mean_absolute_error: 1.5075 - val_loss: 11.0432 - val_mean_absolute_error: 2.6070\n",
            "Epoch 76/200\n",
            " - 0s - loss: 4.6372 - mean_absolute_error: 1.4171 - val_loss: 11.0859 - val_mean_absolute_error: 2.5215\n",
            "Epoch 77/200\n",
            " - 0s - loss: 5.1081 - mean_absolute_error: 1.4318 - val_loss: 10.0198 - val_mean_absolute_error: 2.4193\n",
            "Epoch 78/200\n",
            " - 0s - loss: 4.4395 - mean_absolute_error: 1.4180 - val_loss: 12.2964 - val_mean_absolute_error: 2.7554\n",
            "Epoch 79/200\n",
            " - 0s - loss: 4.5415 - mean_absolute_error: 1.4762 - val_loss: 10.6835 - val_mean_absolute_error: 2.5703\n",
            "Epoch 80/200\n",
            " - 0s - loss: 4.8680 - mean_absolute_error: 1.4615 - val_loss: 11.2419 - val_mean_absolute_error: 2.6290\n",
            "Epoch 81/200\n",
            " - 0s - loss: 4.2222 - mean_absolute_error: 1.4459 - val_loss: 12.3963 - val_mean_absolute_error: 2.7685\n",
            "Epoch 82/200\n",
            " - 0s - loss: 4.2595 - mean_absolute_error: 1.4138 - val_loss: 11.6341 - val_mean_absolute_error: 2.6666\n",
            "Epoch 83/200\n",
            " - 0s - loss: 4.4189 - mean_absolute_error: 1.4214 - val_loss: 9.8432 - val_mean_absolute_error: 2.4328\n",
            "Epoch 84/200\n",
            " - 0s - loss: 4.2507 - mean_absolute_error: 1.3769 - val_loss: 10.6377 - val_mean_absolute_error: 2.4589\n",
            "Epoch 85/200\n",
            " - 0s - loss: 4.4968 - mean_absolute_error: 1.4571 - val_loss: 11.9771 - val_mean_absolute_error: 2.6286\n",
            "Epoch 86/200\n",
            " - 0s - loss: 4.3953 - mean_absolute_error: 1.4059 - val_loss: 10.7672 - val_mean_absolute_error: 2.5272\n",
            "Epoch 87/200\n",
            " - 0s - loss: 4.2847 - mean_absolute_error: 1.3797 - val_loss: 10.6164 - val_mean_absolute_error: 2.4639\n",
            "Epoch 88/200\n",
            " - 0s - loss: 4.5199 - mean_absolute_error: 1.3990 - val_loss: 13.3400 - val_mean_absolute_error: 2.6592\n",
            "Epoch 89/200\n",
            " - 0s - loss: 4.2939 - mean_absolute_error: 1.3904 - val_loss: 10.2345 - val_mean_absolute_error: 2.4192\n",
            "Epoch 90/200\n",
            " - 0s - loss: 4.1235 - mean_absolute_error: 1.4459 - val_loss: 14.1128 - val_mean_absolute_error: 2.6814\n",
            "Epoch 91/200\n",
            " - 0s - loss: 4.1572 - mean_absolute_error: 1.3476 - val_loss: 17.0851 - val_mean_absolute_error: 3.0589\n",
            "Epoch 92/200\n",
            " - 0s - loss: 3.9512 - mean_absolute_error: 1.3980 - val_loss: 10.8912 - val_mean_absolute_error: 2.4462\n",
            "Epoch 93/200\n",
            " - 0s - loss: 4.2237 - mean_absolute_error: 1.3616 - val_loss: 10.8332 - val_mean_absolute_error: 2.4487\n",
            "Epoch 94/200\n",
            " - 0s - loss: 4.0233 - mean_absolute_error: 1.3759 - val_loss: 11.9184 - val_mean_absolute_error: 2.6681\n",
            "Epoch 95/200\n",
            " - 0s - loss: 4.0400 - mean_absolute_error: 1.3381 - val_loss: 11.3979 - val_mean_absolute_error: 2.4718\n",
            "Epoch 96/200\n",
            " - 0s - loss: 3.8782 - mean_absolute_error: 1.3937 - val_loss: 14.1035 - val_mean_absolute_error: 2.7489\n",
            "Epoch 97/200\n",
            " - 0s - loss: 3.7267 - mean_absolute_error: 1.3018 - val_loss: 11.9105 - val_mean_absolute_error: 2.6498\n",
            "Epoch 98/200\n",
            " - 0s - loss: 3.9534 - mean_absolute_error: 1.3179 - val_loss: 12.0901 - val_mean_absolute_error: 2.5588\n",
            "Epoch 99/200\n",
            " - 0s - loss: 3.7196 - mean_absolute_error: 1.3206 - val_loss: 11.1675 - val_mean_absolute_error: 2.4356\n",
            "Epoch 100/200\n",
            " - 0s - loss: 3.6998 - mean_absolute_error: 1.3084 - val_loss: 11.3714 - val_mean_absolute_error: 2.4883\n",
            "Epoch 101/200\n",
            " - 0s - loss: 3.5110 - mean_absolute_error: 1.2955 - val_loss: 13.0028 - val_mean_absolute_error: 2.6931\n",
            "Epoch 102/200\n",
            " - 0s - loss: 3.7257 - mean_absolute_error: 1.3297 - val_loss: 12.4511 - val_mean_absolute_error: 2.6193\n",
            "Epoch 103/200\n",
            " - 0s - loss: 3.4266 - mean_absolute_error: 1.2808 - val_loss: 12.0525 - val_mean_absolute_error: 2.5154\n",
            "Epoch 104/200\n",
            " - 0s - loss: 3.4275 - mean_absolute_error: 1.2521 - val_loss: 10.9766 - val_mean_absolute_error: 2.5168\n",
            "Epoch 105/200\n",
            " - 0s - loss: 3.3549 - mean_absolute_error: 1.2405 - val_loss: 11.8646 - val_mean_absolute_error: 2.4937\n",
            "Epoch 106/200\n",
            " - 0s - loss: 3.7547 - mean_absolute_error: 1.2872 - val_loss: 13.6031 - val_mean_absolute_error: 2.7225\n",
            "Epoch 107/200\n",
            " - 0s - loss: 3.5744 - mean_absolute_error: 1.3001 - val_loss: 16.2894 - val_mean_absolute_error: 2.8149\n",
            "Epoch 108/200\n",
            " - 0s - loss: 3.4886 - mean_absolute_error: 1.2569 - val_loss: 12.1249 - val_mean_absolute_error: 2.5011\n",
            "Epoch 109/200\n",
            " - 0s - loss: 3.3544 - mean_absolute_error: 1.2841 - val_loss: 14.3014 - val_mean_absolute_error: 2.7450\n",
            "Epoch 110/200\n",
            " - 0s - loss: 3.3638 - mean_absolute_error: 1.2391 - val_loss: 15.7461 - val_mean_absolute_error: 2.7225\n",
            "Epoch 111/200\n",
            " - 0s - loss: 3.1812 - mean_absolute_error: 1.2878 - val_loss: 11.8816 - val_mean_absolute_error: 2.5159\n",
            "Epoch 112/200\n",
            " - 0s - loss: 3.2980 - mean_absolute_error: 1.2706 - val_loss: 15.3228 - val_mean_absolute_error: 2.7391\n",
            "Epoch 113/200\n",
            " - 0s - loss: 3.5989 - mean_absolute_error: 1.2801 - val_loss: 11.0997 - val_mean_absolute_error: 2.4960\n",
            "Epoch 114/200\n",
            " - 0s - loss: 3.2095 - mean_absolute_error: 1.2090 - val_loss: 12.6817 - val_mean_absolute_error: 2.6136\n",
            "Epoch 115/200\n",
            " - 0s - loss: 3.3457 - mean_absolute_error: 1.2373 - val_loss: 13.3956 - val_mean_absolute_error: 2.5787\n",
            "Epoch 116/200\n",
            " - 0s - loss: 3.1453 - mean_absolute_error: 1.2012 - val_loss: 15.6518 - val_mean_absolute_error: 2.8742\n",
            "Epoch 117/200\n",
            " - 0s - loss: 3.3949 - mean_absolute_error: 1.2308 - val_loss: 11.6754 - val_mean_absolute_error: 2.5017\n",
            "Epoch 118/200\n",
            " - 0s - loss: 3.2777 - mean_absolute_error: 1.2628 - val_loss: 13.0019 - val_mean_absolute_error: 2.6450\n",
            "Epoch 119/200\n",
            " - 0s - loss: 3.1001 - mean_absolute_error: 1.2138 - val_loss: 11.3727 - val_mean_absolute_error: 2.4321\n",
            "Epoch 120/200\n",
            " - 0s - loss: 3.0436 - mean_absolute_error: 1.2079 - val_loss: 13.3296 - val_mean_absolute_error: 2.6678\n",
            "Epoch 121/200\n",
            " - 0s - loss: 3.0621 - mean_absolute_error: 1.1581 - val_loss: 17.3729 - val_mean_absolute_error: 3.1020\n",
            "Epoch 122/200\n",
            " - 0s - loss: 3.1202 - mean_absolute_error: 1.2043 - val_loss: 18.5358 - val_mean_absolute_error: 2.9631\n",
            "Epoch 123/200\n",
            " - 0s - loss: 3.1837 - mean_absolute_error: 1.2023 - val_loss: 14.3421 - val_mean_absolute_error: 2.7665\n",
            "Epoch 124/200\n",
            " - 0s - loss: 3.1646 - mean_absolute_error: 1.1865 - val_loss: 15.0461 - val_mean_absolute_error: 2.7306\n",
            "Epoch 125/200\n",
            " - 0s - loss: 3.2337 - mean_absolute_error: 1.2197 - val_loss: 15.3948 - val_mean_absolute_error: 2.6138\n",
            "Epoch 126/200\n",
            " - 0s - loss: 3.0452 - mean_absolute_error: 1.2000 - val_loss: 16.7366 - val_mean_absolute_error: 2.9645\n",
            "Epoch 127/200\n",
            " - 0s - loss: 3.0241 - mean_absolute_error: 1.1897 - val_loss: 15.0453 - val_mean_absolute_error: 2.7279\n",
            "Epoch 128/200\n",
            " - 0s - loss: 2.9686 - mean_absolute_error: 1.1639 - val_loss: 20.5071 - val_mean_absolute_error: 3.1331\n",
            "Epoch 129/200\n",
            " - 0s - loss: 2.8661 - mean_absolute_error: 1.1694 - val_loss: 13.7049 - val_mean_absolute_error: 2.7737\n",
            "Epoch 130/200\n",
            " - 0s - loss: 2.8442 - mean_absolute_error: 1.1571 - val_loss: 12.1474 - val_mean_absolute_error: 2.5523\n",
            "Epoch 131/200\n",
            " - 0s - loss: 2.5964 - mean_absolute_error: 1.1087 - val_loss: 12.9544 - val_mean_absolute_error: 2.6693\n",
            "Epoch 132/200\n",
            " - 0s - loss: 2.8774 - mean_absolute_error: 1.1666 - val_loss: 18.7326 - val_mean_absolute_error: 2.9581\n",
            "Epoch 133/200\n",
            " - 0s - loss: 3.0596 - mean_absolute_error: 1.2396 - val_loss: 17.6643 - val_mean_absolute_error: 2.8746\n",
            "Epoch 134/200\n",
            " - 0s - loss: 2.6714 - mean_absolute_error: 1.1230 - val_loss: 13.8536 - val_mean_absolute_error: 2.6577\n",
            "Epoch 135/200\n",
            " - 0s - loss: 2.7315 - mean_absolute_error: 1.1569 - val_loss: 12.5398 - val_mean_absolute_error: 2.5969\n",
            "Epoch 136/200\n",
            " - 0s - loss: 2.7538 - mean_absolute_error: 1.1828 - val_loss: 17.5429 - val_mean_absolute_error: 3.0024\n",
            "Epoch 137/200\n",
            " - 0s - loss: 2.7349 - mean_absolute_error: 1.1840 - val_loss: 16.6092 - val_mean_absolute_error: 2.7737\n",
            "Epoch 138/200\n",
            " - 0s - loss: 2.4586 - mean_absolute_error: 1.0587 - val_loss: 17.5842 - val_mean_absolute_error: 2.9585\n",
            "Epoch 139/200\n",
            " - 0s - loss: 2.9668 - mean_absolute_error: 1.1544 - val_loss: 15.0362 - val_mean_absolute_error: 2.7583\n",
            "Epoch 140/200\n",
            " - 0s - loss: 2.6828 - mean_absolute_error: 1.1790 - val_loss: 15.5414 - val_mean_absolute_error: 2.6866\n",
            "Epoch 141/200\n",
            " - 0s - loss: 2.6084 - mean_absolute_error: 1.1418 - val_loss: 14.6888 - val_mean_absolute_error: 2.7233\n",
            "Epoch 142/200\n",
            " - 0s - loss: 2.4865 - mean_absolute_error: 1.1121 - val_loss: 17.1980 - val_mean_absolute_error: 2.8863\n",
            "Epoch 143/200\n",
            " - 0s - loss: 2.4610 - mean_absolute_error: 1.1438 - val_loss: 16.2501 - val_mean_absolute_error: 2.8711\n",
            "Epoch 144/200\n",
            " - 0s - loss: 2.4988 - mean_absolute_error: 1.0865 - val_loss: 16.8257 - val_mean_absolute_error: 2.8918\n",
            "Epoch 145/200\n",
            " - 0s - loss: 2.4859 - mean_absolute_error: 1.1320 - val_loss: 19.9315 - val_mean_absolute_error: 2.9830\n",
            "Epoch 146/200\n",
            " - 0s - loss: 2.6642 - mean_absolute_error: 1.1562 - val_loss: 19.1227 - val_mean_absolute_error: 2.9491\n",
            "Epoch 147/200\n",
            " - 0s - loss: 2.2458 - mean_absolute_error: 1.0478 - val_loss: 14.7294 - val_mean_absolute_error: 2.7496\n",
            "Epoch 148/200\n",
            " - 0s - loss: 2.5432 - mean_absolute_error: 1.1301 - val_loss: 12.9842 - val_mean_absolute_error: 2.5622\n",
            "Epoch 149/200\n",
            " - 0s - loss: 2.2139 - mean_absolute_error: 1.0617 - val_loss: 18.5214 - val_mean_absolute_error: 2.9379\n",
            "Epoch 150/200\n",
            " - 0s - loss: 2.5231 - mean_absolute_error: 1.0976 - val_loss: 16.3561 - val_mean_absolute_error: 2.7839\n",
            "Epoch 151/200\n",
            " - 0s - loss: 2.2301 - mean_absolute_error: 1.0469 - val_loss: 18.7034 - val_mean_absolute_error: 3.0631\n",
            "Epoch 152/200\n",
            " - 0s - loss: 2.3878 - mean_absolute_error: 1.1147 - val_loss: 15.0699 - val_mean_absolute_error: 2.7037\n",
            "Epoch 153/200\n",
            " - 0s - loss: 2.5757 - mean_absolute_error: 1.1400 - val_loss: 13.7481 - val_mean_absolute_error: 2.6727\n",
            "Epoch 154/200\n",
            " - 0s - loss: 2.0715 - mean_absolute_error: 1.0154 - val_loss: 17.1682 - val_mean_absolute_error: 2.8825\n",
            "Epoch 155/200\n",
            " - 0s - loss: 2.6572 - mean_absolute_error: 1.1160 - val_loss: 18.7208 - val_mean_absolute_error: 2.8828\n",
            "Epoch 156/200\n",
            " - 0s - loss: 2.3839 - mean_absolute_error: 1.0588 - val_loss: 14.8366 - val_mean_absolute_error: 2.7801\n",
            "Epoch 157/200\n",
            " - 0s - loss: 2.3765 - mean_absolute_error: 1.0743 - val_loss: 20.9438 - val_mean_absolute_error: 3.0513\n",
            "Epoch 158/200\n",
            " - 0s - loss: 2.3514 - mean_absolute_error: 1.1621 - val_loss: 17.1840 - val_mean_absolute_error: 2.8877\n",
            "Epoch 159/200\n",
            " - 0s - loss: 2.3263 - mean_absolute_error: 1.0578 - val_loss: 15.7811 - val_mean_absolute_error: 2.8815\n",
            "Epoch 160/200\n",
            " - 0s - loss: 2.3611 - mean_absolute_error: 1.1054 - val_loss: 15.6894 - val_mean_absolute_error: 2.7302\n",
            "Epoch 161/200\n",
            " - 0s - loss: 1.9439 - mean_absolute_error: 1.0084 - val_loss: 18.7618 - val_mean_absolute_error: 2.8991\n",
            "Epoch 162/200\n",
            " - 0s - loss: 2.2773 - mean_absolute_error: 1.0003 - val_loss: 13.0585 - val_mean_absolute_error: 2.5825\n",
            "Epoch 163/200\n",
            " - 0s - loss: 2.0114 - mean_absolute_error: 1.0067 - val_loss: 21.6899 - val_mean_absolute_error: 3.2701\n",
            "Epoch 164/200\n",
            " - 0s - loss: 2.2659 - mean_absolute_error: 1.0585 - val_loss: 14.5578 - val_mean_absolute_error: 2.7563\n",
            "Epoch 165/200\n",
            " - 0s - loss: 2.3895 - mean_absolute_error: 1.0473 - val_loss: 14.5927 - val_mean_absolute_error: 2.7241\n",
            "Epoch 166/200\n",
            " - 0s - loss: 2.0582 - mean_absolute_error: 1.0192 - val_loss: 17.1316 - val_mean_absolute_error: 2.8709\n",
            "Epoch 167/200\n",
            " - 0s - loss: 2.0822 - mean_absolute_error: 1.0495 - val_loss: 19.9019 - val_mean_absolute_error: 2.9220\n",
            "Epoch 168/200\n",
            " - 0s - loss: 2.2760 - mean_absolute_error: 1.0486 - val_loss: 15.7666 - val_mean_absolute_error: 2.8179\n",
            "Epoch 169/200\n",
            " - 0s - loss: 2.1114 - mean_absolute_error: 1.0465 - val_loss: 20.3047 - val_mean_absolute_error: 3.0288\n",
            "Epoch 170/200\n",
            " - 0s - loss: 2.1641 - mean_absolute_error: 1.0304 - val_loss: 14.6341 - val_mean_absolute_error: 2.7794\n",
            "Epoch 171/200\n",
            " - 0s - loss: 1.9705 - mean_absolute_error: 1.0411 - val_loss: 16.1824 - val_mean_absolute_error: 2.8486\n",
            "Epoch 172/200\n",
            " - 0s - loss: 2.0650 - mean_absolute_error: 1.0303 - val_loss: 15.4357 - val_mean_absolute_error: 2.7436\n",
            "Epoch 173/200\n",
            " - 0s - loss: 2.1934 - mean_absolute_error: 1.0519 - val_loss: 19.2769 - val_mean_absolute_error: 2.9766\n",
            "Epoch 174/200\n",
            " - 0s - loss: 1.9829 - mean_absolute_error: 1.0320 - val_loss: 18.4404 - val_mean_absolute_error: 3.0392\n",
            "Epoch 175/200\n",
            " - 0s - loss: 1.9360 - mean_absolute_error: 0.9736 - val_loss: 18.2174 - val_mean_absolute_error: 2.8497\n",
            "Epoch 176/200\n",
            " - 0s - loss: 2.2748 - mean_absolute_error: 1.0369 - val_loss: 21.5893 - val_mean_absolute_error: 3.1338\n",
            "Epoch 177/200\n",
            " - 0s - loss: 1.9446 - mean_absolute_error: 1.0101 - val_loss: 17.0965 - val_mean_absolute_error: 2.7230\n",
            "Epoch 178/200\n",
            " - 0s - loss: 1.9095 - mean_absolute_error: 1.0167 - val_loss: 25.7845 - val_mean_absolute_error: 3.3108\n",
            "Epoch 179/200\n",
            " - 0s - loss: 1.9824 - mean_absolute_error: 0.9989 - val_loss: 24.7247 - val_mean_absolute_error: 3.3039\n",
            "Epoch 180/200\n",
            " - 0s - loss: 1.8177 - mean_absolute_error: 0.9653 - val_loss: 22.9549 - val_mean_absolute_error: 3.1171\n",
            "Epoch 181/200\n",
            " - 0s - loss: 1.8395 - mean_absolute_error: 0.9962 - val_loss: 16.6107 - val_mean_absolute_error: 2.7320\n",
            "Epoch 182/200\n",
            " - 0s - loss: 1.9839 - mean_absolute_error: 1.0147 - val_loss: 22.6528 - val_mean_absolute_error: 3.0377\n",
            "Epoch 183/200\n",
            " - 0s - loss: 1.8161 - mean_absolute_error: 0.9963 - val_loss: 17.6969 - val_mean_absolute_error: 3.0664\n",
            "Epoch 184/200\n",
            " - 0s - loss: 1.8556 - mean_absolute_error: 0.9767 - val_loss: 19.1359 - val_mean_absolute_error: 2.9342\n",
            "Epoch 185/200\n",
            " - 0s - loss: 1.9809 - mean_absolute_error: 1.0110 - val_loss: 26.0157 - val_mean_absolute_error: 3.3797\n",
            "Epoch 186/200\n",
            " - 0s - loss: 1.9250 - mean_absolute_error: 0.9946 - val_loss: 23.4303 - val_mean_absolute_error: 3.1951\n",
            "Epoch 187/200\n",
            " - 0s - loss: 2.0483 - mean_absolute_error: 0.9860 - val_loss: 29.3521 - val_mean_absolute_error: 3.4273\n",
            "Epoch 188/200\n",
            " - 0s - loss: 1.8561 - mean_absolute_error: 0.9801 - val_loss: 23.3481 - val_mean_absolute_error: 3.1773\n",
            "Epoch 189/200\n",
            " - 0s - loss: 1.7345 - mean_absolute_error: 0.9554 - val_loss: 21.6267 - val_mean_absolute_error: 3.0966\n",
            "Epoch 190/200\n",
            " - 0s - loss: 1.9644 - mean_absolute_error: 0.9948 - val_loss: 21.2627 - val_mean_absolute_error: 2.9877\n",
            "Epoch 191/200\n",
            " - 0s - loss: 1.7271 - mean_absolute_error: 0.9617 - val_loss: 21.9408 - val_mean_absolute_error: 3.1218\n",
            "Epoch 192/200\n",
            " - 0s - loss: 1.8282 - mean_absolute_error: 0.9916 - val_loss: 18.3928 - val_mean_absolute_error: 2.9379\n",
            "Epoch 193/200\n",
            " - 0s - loss: 1.7933 - mean_absolute_error: 0.9693 - val_loss: 21.1238 - val_mean_absolute_error: 3.0060\n",
            "Epoch 194/200\n",
            " - 0s - loss: 1.7122 - mean_absolute_error: 1.0042 - val_loss: 19.8124 - val_mean_absolute_error: 2.8901\n",
            "Epoch 195/200\n",
            " - 0s - loss: 1.9064 - mean_absolute_error: 0.9922 - val_loss: 27.2997 - val_mean_absolute_error: 3.4406\n",
            "Epoch 196/200\n",
            " - 0s - loss: 1.7987 - mean_absolute_error: 0.9909 - val_loss: 16.9337 - val_mean_absolute_error: 2.8284\n",
            "Epoch 197/200\n",
            " - 0s - loss: 1.5964 - mean_absolute_error: 0.9404 - val_loss: 31.7324 - val_mean_absolute_error: 3.5072\n",
            "Epoch 198/200\n",
            " - 0s - loss: 1.7863 - mean_absolute_error: 0.9752 - val_loss: 24.6477 - val_mean_absolute_error: 3.4828\n",
            "Epoch 199/200\n",
            " - 0s - loss: 1.6865 - mean_absolute_error: 0.9444 - val_loss: 23.1200 - val_mean_absolute_error: 2.9550\n",
            "Epoch 200/200\n",
            " - 0s - loss: 1.8544 - mean_absolute_error: 0.9529 - val_loss: 22.1601 - val_mean_absolute_error: 2.9945\n",
            "processing fold # 2\n",
            "Train on 303 samples, validate on 101 samples\n",
            "Epoch 1/200\n",
            " - 1s - loss: 192.2093 - mean_absolute_error: 9.9810 - val_loss: 29.3098 - val_mean_absolute_error: 3.6626\n",
            "Epoch 2/200\n",
            " - 0s - loss: 26.5276 - mean_absolute_error: 3.4951 - val_loss: 21.7337 - val_mean_absolute_error: 3.1097\n",
            "Epoch 3/200\n",
            " - 0s - loss: 18.8425 - mean_absolute_error: 2.8502 - val_loss: 19.7867 - val_mean_absolute_error: 2.8747\n",
            "Epoch 4/200\n",
            " - 0s - loss: 15.7000 - mean_absolute_error: 2.6615 - val_loss: 17.7042 - val_mean_absolute_error: 2.6956\n",
            "Epoch 5/200\n",
            " - 0s - loss: 13.3800 - mean_absolute_error: 2.5072 - val_loss: 16.5852 - val_mean_absolute_error: 2.6563\n",
            "Epoch 6/200\n",
            " - 0s - loss: 11.8977 - mean_absolute_error: 2.3795 - val_loss: 16.9366 - val_mean_absolute_error: 2.6457\n",
            "Epoch 7/200\n",
            " - 0s - loss: 11.2927 - mean_absolute_error: 2.3261 - val_loss: 16.6148 - val_mean_absolute_error: 2.6968\n",
            "Epoch 8/200\n",
            " - 0s - loss: 10.5071 - mean_absolute_error: 2.2800 - val_loss: 15.4731 - val_mean_absolute_error: 2.5337\n",
            "Epoch 9/200\n",
            " - 0s - loss: 10.3675 - mean_absolute_error: 2.2253 - val_loss: 15.7269 - val_mean_absolute_error: 2.5863\n",
            "Epoch 10/200\n",
            " - 0s - loss: 9.6364 - mean_absolute_error: 2.1422 - val_loss: 15.1605 - val_mean_absolute_error: 2.5306\n",
            "Epoch 11/200\n",
            " - 0s - loss: 8.8299 - mean_absolute_error: 2.0519 - val_loss: 19.7135 - val_mean_absolute_error: 3.0669\n",
            "Epoch 12/200\n",
            " - 0s - loss: 8.7524 - mean_absolute_error: 2.0284 - val_loss: 16.1138 - val_mean_absolute_error: 2.7802\n",
            "Epoch 13/200\n",
            " - 0s - loss: 8.0231 - mean_absolute_error: 2.0287 - val_loss: 16.7456 - val_mean_absolute_error: 2.7274\n",
            "Epoch 14/200\n",
            " - 0s - loss: 8.0285 - mean_absolute_error: 2.0484 - val_loss: 14.7786 - val_mean_absolute_error: 2.5297\n",
            "Epoch 15/200\n",
            " - 0s - loss: 8.0466 - mean_absolute_error: 1.9964 - val_loss: 17.3404 - val_mean_absolute_error: 2.6595\n",
            "Epoch 16/200\n",
            " - 0s - loss: 7.9245 - mean_absolute_error: 1.9759 - val_loss: 16.3979 - val_mean_absolute_error: 2.6542\n",
            "Epoch 17/200\n",
            " - 0s - loss: 7.2128 - mean_absolute_error: 1.9477 - val_loss: 14.9973 - val_mean_absolute_error: 2.6038\n",
            "Epoch 18/200\n",
            " - 0s - loss: 7.2156 - mean_absolute_error: 1.8625 - val_loss: 15.3868 - val_mean_absolute_error: 2.7221\n",
            "Epoch 19/200\n",
            " - 0s - loss: 7.3976 - mean_absolute_error: 1.8954 - val_loss: 14.4506 - val_mean_absolute_error: 2.4692\n",
            "Epoch 20/200\n",
            " - 0s - loss: 6.6286 - mean_absolute_error: 1.8957 - val_loss: 14.3966 - val_mean_absolute_error: 2.5789\n",
            "Epoch 21/200\n",
            " - 0s - loss: 7.0047 - mean_absolute_error: 1.8483 - val_loss: 15.2653 - val_mean_absolute_error: 2.6397\n",
            "Epoch 22/200\n",
            " - 0s - loss: 6.9889 - mean_absolute_error: 1.8040 - val_loss: 15.5650 - val_mean_absolute_error: 2.6593\n",
            "Epoch 23/200\n",
            " - 0s - loss: 6.8216 - mean_absolute_error: 1.8139 - val_loss: 14.6127 - val_mean_absolute_error: 2.5592\n",
            "Epoch 24/200\n",
            " - 0s - loss: 6.2498 - mean_absolute_error: 1.7164 - val_loss: 17.4338 - val_mean_absolute_error: 2.8071\n",
            "Epoch 25/200\n",
            " - 0s - loss: 6.2295 - mean_absolute_error: 1.7499 - val_loss: 16.4962 - val_mean_absolute_error: 2.6013\n",
            "Epoch 26/200\n",
            " - 0s - loss: 6.5042 - mean_absolute_error: 1.7441 - val_loss: 14.9557 - val_mean_absolute_error: 2.6257\n",
            "Epoch 27/200\n",
            " - 0s - loss: 6.2140 - mean_absolute_error: 1.7616 - val_loss: 14.0974 - val_mean_absolute_error: 2.4862\n",
            "Epoch 28/200\n",
            " - 0s - loss: 6.0955 - mean_absolute_error: 1.7789 - val_loss: 14.2633 - val_mean_absolute_error: 2.4862\n",
            "Epoch 29/200\n",
            " - 0s - loss: 5.8976 - mean_absolute_error: 1.6680 - val_loss: 14.5885 - val_mean_absolute_error: 2.5332\n",
            "Epoch 30/200\n",
            " - 0s - loss: 5.7467 - mean_absolute_error: 1.6493 - val_loss: 15.4174 - val_mean_absolute_error: 2.6328\n",
            "Epoch 31/200\n",
            " - 0s - loss: 5.6246 - mean_absolute_error: 1.6826 - val_loss: 15.5098 - val_mean_absolute_error: 2.5798\n",
            "Epoch 32/200\n",
            " - 0s - loss: 5.8281 - mean_absolute_error: 1.6710 - val_loss: 15.1816 - val_mean_absolute_error: 2.6074\n",
            "Epoch 33/200\n",
            " - 0s - loss: 5.7173 - mean_absolute_error: 1.6745 - val_loss: 16.3345 - val_mean_absolute_error: 2.8394\n",
            "Epoch 34/200\n",
            " - 0s - loss: 5.1844 - mean_absolute_error: 1.6172 - val_loss: 16.8171 - val_mean_absolute_error: 2.6616\n",
            "Epoch 35/200\n",
            " - 0s - loss: 5.4937 - mean_absolute_error: 1.6735 - val_loss: 14.5811 - val_mean_absolute_error: 2.5661\n",
            "Epoch 36/200\n",
            " - 0s - loss: 5.2600 - mean_absolute_error: 1.6359 - val_loss: 15.0057 - val_mean_absolute_error: 2.6264\n",
            "Epoch 37/200\n",
            " - 0s - loss: 5.4423 - mean_absolute_error: 1.6555 - val_loss: 15.1459 - val_mean_absolute_error: 2.6067\n",
            "Epoch 38/200\n",
            " - 0s - loss: 5.1709 - mean_absolute_error: 1.6287 - val_loss: 13.7698 - val_mean_absolute_error: 2.5579\n",
            "Epoch 39/200\n",
            " - 0s - loss: 5.6283 - mean_absolute_error: 1.5887 - val_loss: 14.2215 - val_mean_absolute_error: 2.5130\n",
            "Epoch 40/200\n",
            " - 0s - loss: 5.3651 - mean_absolute_error: 1.6288 - val_loss: 15.2554 - val_mean_absolute_error: 2.7000\n",
            "Epoch 41/200\n",
            " - 0s - loss: 5.0625 - mean_absolute_error: 1.5710 - val_loss: 16.5721 - val_mean_absolute_error: 2.6811\n",
            "Epoch 42/200\n",
            " - 0s - loss: 4.9750 - mean_absolute_error: 1.5959 - val_loss: 13.9615 - val_mean_absolute_error: 2.5104\n",
            "Epoch 43/200\n",
            " - 0s - loss: 5.1402 - mean_absolute_error: 1.5886 - val_loss: 16.0903 - val_mean_absolute_error: 2.6366\n",
            "Epoch 44/200\n",
            " - 0s - loss: 4.9080 - mean_absolute_error: 1.5287 - val_loss: 14.0734 - val_mean_absolute_error: 2.4329\n",
            "Epoch 45/200\n",
            " - 0s - loss: 4.5458 - mean_absolute_error: 1.5201 - val_loss: 16.0479 - val_mean_absolute_error: 2.7505\n",
            "Epoch 46/200\n",
            " - 0s - loss: 5.3888 - mean_absolute_error: 1.6046 - val_loss: 15.9250 - val_mean_absolute_error: 2.7184\n",
            "Epoch 47/200\n",
            " - 0s - loss: 5.0603 - mean_absolute_error: 1.5333 - val_loss: 15.0839 - val_mean_absolute_error: 2.5310\n",
            "Epoch 48/200\n",
            " - 0s - loss: 4.8621 - mean_absolute_error: 1.5075 - val_loss: 15.8538 - val_mean_absolute_error: 2.5332\n",
            "Epoch 49/200\n",
            " - 0s - loss: 4.4998 - mean_absolute_error: 1.4979 - val_loss: 15.4099 - val_mean_absolute_error: 2.7997\n",
            "Epoch 50/200\n",
            " - 0s - loss: 4.3877 - mean_absolute_error: 1.4828 - val_loss: 16.6466 - val_mean_absolute_error: 2.7639\n",
            "Epoch 51/200\n",
            " - 0s - loss: 4.6215 - mean_absolute_error: 1.4733 - val_loss: 14.3369 - val_mean_absolute_error: 2.5537\n",
            "Epoch 52/200\n",
            " - 0s - loss: 4.4989 - mean_absolute_error: 1.4995 - val_loss: 15.9980 - val_mean_absolute_error: 2.6250\n",
            "Epoch 53/200\n",
            " - 0s - loss: 4.4452 - mean_absolute_error: 1.4753 - val_loss: 14.7267 - val_mean_absolute_error: 2.6060\n",
            "Epoch 54/200\n",
            " - 0s - loss: 4.1440 - mean_absolute_error: 1.4065 - val_loss: 15.0102 - val_mean_absolute_error: 2.5471\n",
            "Epoch 55/200\n",
            " - 0s - loss: 4.3516 - mean_absolute_error: 1.5144 - val_loss: 16.2369 - val_mean_absolute_error: 2.5857\n",
            "Epoch 56/200\n",
            " - 0s - loss: 4.2296 - mean_absolute_error: 1.4331 - val_loss: 14.3874 - val_mean_absolute_error: 2.4587\n",
            "Epoch 57/200\n",
            " - 0s - loss: 4.4827 - mean_absolute_error: 1.4679 - val_loss: 16.4280 - val_mean_absolute_error: 2.6602\n",
            "Epoch 58/200\n",
            " - 0s - loss: 3.8410 - mean_absolute_error: 1.4017 - val_loss: 16.4687 - val_mean_absolute_error: 2.6671\n",
            "Epoch 59/200\n",
            " - 0s - loss: 3.9763 - mean_absolute_error: 1.4484 - val_loss: 17.9217 - val_mean_absolute_error: 2.8942\n",
            "Epoch 60/200\n",
            " - 0s - loss: 4.3672 - mean_absolute_error: 1.4829 - val_loss: 15.2809 - val_mean_absolute_error: 2.5517\n",
            "Epoch 61/200\n",
            " - 0s - loss: 3.9209 - mean_absolute_error: 1.4062 - val_loss: 16.3184 - val_mean_absolute_error: 2.6351\n",
            "Epoch 62/200\n",
            " - 0s - loss: 4.2485 - mean_absolute_error: 1.4378 - val_loss: 15.1075 - val_mean_absolute_error: 2.6164\n",
            "Epoch 63/200\n",
            " - 0s - loss: 3.9112 - mean_absolute_error: 1.3702 - val_loss: 14.5862 - val_mean_absolute_error: 2.5590\n",
            "Epoch 64/200\n",
            " - 0s - loss: 4.0765 - mean_absolute_error: 1.4472 - val_loss: 14.5910 - val_mean_absolute_error: 2.5613\n",
            "Epoch 65/200\n",
            " - 0s - loss: 3.7866 - mean_absolute_error: 1.3881 - val_loss: 13.2639 - val_mean_absolute_error: 2.4574\n",
            "Epoch 66/200\n",
            " - 0s - loss: 3.6109 - mean_absolute_error: 1.3648 - val_loss: 14.1016 - val_mean_absolute_error: 2.4138\n",
            "Epoch 67/200\n",
            " - 0s - loss: 3.5420 - mean_absolute_error: 1.3607 - val_loss: 14.6967 - val_mean_absolute_error: 2.5320\n",
            "Epoch 68/200\n",
            " - 0s - loss: 3.8920 - mean_absolute_error: 1.3953 - val_loss: 16.4156 - val_mean_absolute_error: 2.7829\n",
            "Epoch 69/200\n",
            " - 0s - loss: 3.4124 - mean_absolute_error: 1.3465 - val_loss: 14.3777 - val_mean_absolute_error: 2.4999\n",
            "Epoch 70/200\n",
            " - 0s - loss: 3.6336 - mean_absolute_error: 1.3499 - val_loss: 15.0558 - val_mean_absolute_error: 2.6807\n",
            "Epoch 71/200\n",
            " - 0s - loss: 3.6246 - mean_absolute_error: 1.4140 - val_loss: 13.8985 - val_mean_absolute_error: 2.4388\n",
            "Epoch 72/200\n",
            " - 0s - loss: 3.5895 - mean_absolute_error: 1.3274 - val_loss: 15.3778 - val_mean_absolute_error: 2.6705\n",
            "Epoch 73/200\n",
            " - 0s - loss: 3.6015 - mean_absolute_error: 1.3442 - val_loss: 14.3991 - val_mean_absolute_error: 2.6131\n",
            "Epoch 74/200\n",
            " - 0s - loss: 3.7697 - mean_absolute_error: 1.3508 - val_loss: 13.8755 - val_mean_absolute_error: 2.5251\n",
            "Epoch 75/200\n",
            " - 0s - loss: 3.2452 - mean_absolute_error: 1.2718 - val_loss: 15.3843 - val_mean_absolute_error: 2.6832\n",
            "Epoch 76/200\n",
            " - 0s - loss: 3.7049 - mean_absolute_error: 1.3722 - val_loss: 15.0402 - val_mean_absolute_error: 2.6376\n",
            "Epoch 77/200\n",
            " - 0s - loss: 3.4199 - mean_absolute_error: 1.3111 - val_loss: 14.5032 - val_mean_absolute_error: 2.6088\n",
            "Epoch 78/200\n",
            " - 0s - loss: 3.3458 - mean_absolute_error: 1.3107 - val_loss: 14.7369 - val_mean_absolute_error: 2.6227\n",
            "Epoch 79/200\n",
            " - 0s - loss: 3.3055 - mean_absolute_error: 1.3104 - val_loss: 14.4979 - val_mean_absolute_error: 2.5611\n",
            "Epoch 80/200\n",
            " - 0s - loss: 3.1386 - mean_absolute_error: 1.2850 - val_loss: 13.7044 - val_mean_absolute_error: 2.4072\n",
            "Epoch 81/200\n",
            " - 0s - loss: 3.3492 - mean_absolute_error: 1.3359 - val_loss: 16.0820 - val_mean_absolute_error: 2.6277\n",
            "Epoch 82/200\n",
            " - 0s - loss: 3.1732 - mean_absolute_error: 1.2664 - val_loss: 15.6801 - val_mean_absolute_error: 2.7006\n",
            "Epoch 83/200\n",
            " - 0s - loss: 2.8501 - mean_absolute_error: 1.2620 - val_loss: 14.0848 - val_mean_absolute_error: 2.5177\n",
            "Epoch 84/200\n",
            " - 0s - loss: 3.1464 - mean_absolute_error: 1.2966 - val_loss: 15.0608 - val_mean_absolute_error: 2.5671\n",
            "Epoch 85/200\n",
            " - 0s - loss: 3.0942 - mean_absolute_error: 1.2744 - val_loss: 16.6331 - val_mean_absolute_error: 2.7062\n",
            "Epoch 86/200\n",
            " - 0s - loss: 3.0012 - mean_absolute_error: 1.2624 - val_loss: 15.7712 - val_mean_absolute_error: 2.7269\n",
            "Epoch 87/200\n",
            " - 0s - loss: 2.7861 - mean_absolute_error: 1.2425 - val_loss: 14.9662 - val_mean_absolute_error: 2.6796\n",
            "Epoch 88/200\n",
            " - 0s - loss: 3.1072 - mean_absolute_error: 1.2978 - val_loss: 15.0527 - val_mean_absolute_error: 2.5801\n",
            "Epoch 89/200\n",
            " - 0s - loss: 3.0113 - mean_absolute_error: 1.2433 - val_loss: 14.2849 - val_mean_absolute_error: 2.5257\n",
            "Epoch 90/200\n",
            " - 0s - loss: 2.8693 - mean_absolute_error: 1.2504 - val_loss: 15.9381 - val_mean_absolute_error: 2.7788\n",
            "Epoch 91/200\n",
            " - 0s - loss: 3.1264 - mean_absolute_error: 1.3188 - val_loss: 14.0387 - val_mean_absolute_error: 2.4726\n",
            "Epoch 92/200\n",
            " - 0s - loss: 3.0328 - mean_absolute_error: 1.2793 - val_loss: 15.0887 - val_mean_absolute_error: 2.5625\n",
            "Epoch 93/200\n",
            " - 0s - loss: 2.9741 - mean_absolute_error: 1.2295 - val_loss: 13.6328 - val_mean_absolute_error: 2.5208\n",
            "Epoch 94/200\n",
            " - 0s - loss: 2.6436 - mean_absolute_error: 1.2116 - val_loss: 13.4770 - val_mean_absolute_error: 2.4137\n",
            "Epoch 95/200\n",
            " - 0s - loss: 2.7813 - mean_absolute_error: 1.2470 - val_loss: 13.8982 - val_mean_absolute_error: 2.5237\n",
            "Epoch 96/200\n",
            " - 0s - loss: 2.6921 - mean_absolute_error: 1.2451 - val_loss: 16.2925 - val_mean_absolute_error: 2.6444\n",
            "Epoch 97/200\n",
            " - 0s - loss: 2.8778 - mean_absolute_error: 1.2449 - val_loss: 14.5289 - val_mean_absolute_error: 2.5377\n",
            "Epoch 98/200\n",
            " - 0s - loss: 2.6119 - mean_absolute_error: 1.1723 - val_loss: 17.4705 - val_mean_absolute_error: 2.7190\n",
            "Epoch 99/200\n",
            " - 0s - loss: 2.5480 - mean_absolute_error: 1.1839 - val_loss: 16.0748 - val_mean_absolute_error: 2.6517\n",
            "Epoch 100/200\n",
            " - 0s - loss: 2.6161 - mean_absolute_error: 1.1567 - val_loss: 14.9300 - val_mean_absolute_error: 2.6131\n",
            "Epoch 101/200\n",
            " - 0s - loss: 2.6492 - mean_absolute_error: 1.1847 - val_loss: 16.9165 - val_mean_absolute_error: 2.8097\n",
            "Epoch 102/200\n",
            " - 0s - loss: 2.7527 - mean_absolute_error: 1.1881 - val_loss: 14.8836 - val_mean_absolute_error: 2.5869\n",
            "Epoch 103/200\n",
            " - 0s - loss: 2.5933 - mean_absolute_error: 1.1880 - val_loss: 14.7107 - val_mean_absolute_error: 2.6275\n",
            "Epoch 104/200\n",
            " - 0s - loss: 2.5896 - mean_absolute_error: 1.1997 - val_loss: 15.1840 - val_mean_absolute_error: 2.6674\n",
            "Epoch 105/200\n",
            " - 0s - loss: 2.7951 - mean_absolute_error: 1.1974 - val_loss: 17.6440 - val_mean_absolute_error: 2.8390\n",
            "Epoch 106/200\n",
            " - 0s - loss: 2.6834 - mean_absolute_error: 1.1765 - val_loss: 14.4057 - val_mean_absolute_error: 2.5373\n",
            "Epoch 107/200\n",
            " - 0s - loss: 2.5147 - mean_absolute_error: 1.1606 - val_loss: 15.7495 - val_mean_absolute_error: 2.6750\n",
            "Epoch 108/200\n",
            " - 0s - loss: 2.6276 - mean_absolute_error: 1.2191 - val_loss: 15.5139 - val_mean_absolute_error: 2.6042\n",
            "Epoch 109/200\n",
            " - 0s - loss: 2.5642 - mean_absolute_error: 1.1428 - val_loss: 14.0407 - val_mean_absolute_error: 2.5562\n",
            "Epoch 110/200\n",
            " - 0s - loss: 2.4352 - mean_absolute_error: 1.1496 - val_loss: 15.5354 - val_mean_absolute_error: 2.7026\n",
            "Epoch 111/200\n",
            " - 0s - loss: 2.4881 - mean_absolute_error: 1.1865 - val_loss: 14.4583 - val_mean_absolute_error: 2.5589\n",
            "Epoch 112/200\n",
            " - 0s - loss: 2.4883 - mean_absolute_error: 1.1655 - val_loss: 16.8498 - val_mean_absolute_error: 2.8225\n",
            "Epoch 113/200\n",
            " - 0s - loss: 2.5272 - mean_absolute_error: 1.1633 - val_loss: 15.5496 - val_mean_absolute_error: 2.7262\n",
            "Epoch 114/200\n",
            " - 0s - loss: 2.4027 - mean_absolute_error: 1.1152 - val_loss: 14.3751 - val_mean_absolute_error: 2.6105\n",
            "Epoch 115/200\n",
            " - 0s - loss: 2.3420 - mean_absolute_error: 1.1324 - val_loss: 16.2973 - val_mean_absolute_error: 2.8144\n",
            "Epoch 116/200\n",
            " - 0s - loss: 2.1798 - mean_absolute_error: 1.1197 - val_loss: 15.4818 - val_mean_absolute_error: 2.6387\n",
            "Epoch 117/200\n",
            " - 0s - loss: 2.5729 - mean_absolute_error: 1.1850 - val_loss: 15.2595 - val_mean_absolute_error: 2.5656\n",
            "Epoch 118/200\n",
            " - 0s - loss: 2.2848 - mean_absolute_error: 1.1009 - val_loss: 17.5452 - val_mean_absolute_error: 2.8673\n",
            "Epoch 119/200\n",
            " - 0s - loss: 2.3780 - mean_absolute_error: 1.1413 - val_loss: 14.6047 - val_mean_absolute_error: 2.6201\n",
            "Epoch 120/200\n",
            " - 0s - loss: 2.4500 - mean_absolute_error: 1.1323 - val_loss: 15.6576 - val_mean_absolute_error: 2.6340\n",
            "Epoch 121/200\n",
            " - 0s - loss: 2.2590 - mean_absolute_error: 1.1180 - val_loss: 15.9666 - val_mean_absolute_error: 2.7313\n",
            "Epoch 122/200\n",
            " - 0s - loss: 2.3641 - mean_absolute_error: 1.1293 - val_loss: 15.2319 - val_mean_absolute_error: 2.6559\n",
            "Epoch 123/200\n",
            " - 0s - loss: 2.2697 - mean_absolute_error: 1.0994 - val_loss: 16.0210 - val_mean_absolute_error: 2.7020\n",
            "Epoch 124/200\n",
            " - 0s - loss: 2.4068 - mean_absolute_error: 1.1058 - val_loss: 17.1924 - val_mean_absolute_error: 2.8770\n",
            "Epoch 125/200\n",
            " - 0s - loss: 2.1556 - mean_absolute_error: 1.0604 - val_loss: 15.8319 - val_mean_absolute_error: 2.7476\n",
            "Epoch 126/200\n",
            " - 0s - loss: 2.0382 - mean_absolute_error: 1.0619 - val_loss: 15.2685 - val_mean_absolute_error: 2.7615\n",
            "Epoch 127/200\n",
            " - 0s - loss: 2.2558 - mean_absolute_error: 1.1026 - val_loss: 14.8963 - val_mean_absolute_error: 2.5758\n",
            "Epoch 128/200\n",
            " - 0s - loss: 2.0001 - mean_absolute_error: 1.0334 - val_loss: 17.8535 - val_mean_absolute_error: 2.7197\n",
            "Epoch 129/200\n",
            " - 0s - loss: 2.1341 - mean_absolute_error: 1.0845 - val_loss: 15.8965 - val_mean_absolute_error: 2.7078\n",
            "Epoch 130/200\n",
            " - 0s - loss: 2.0681 - mean_absolute_error: 1.0602 - val_loss: 16.6070 - val_mean_absolute_error: 2.7613\n",
            "Epoch 131/200\n",
            " - 0s - loss: 2.0226 - mean_absolute_error: 1.0394 - val_loss: 16.3073 - val_mean_absolute_error: 2.6772\n",
            "Epoch 132/200\n",
            " - 0s - loss: 1.9947 - mean_absolute_error: 1.0040 - val_loss: 15.0531 - val_mean_absolute_error: 2.6413\n",
            "Epoch 133/200\n",
            " - 0s - loss: 2.4194 - mean_absolute_error: 1.0490 - val_loss: 14.6474 - val_mean_absolute_error: 2.5064\n",
            "Epoch 134/200\n",
            " - 0s - loss: 1.9493 - mean_absolute_error: 1.0255 - val_loss: 18.6925 - val_mean_absolute_error: 2.9243\n",
            "Epoch 135/200\n",
            " - 0s - loss: 1.9472 - mean_absolute_error: 1.0210 - val_loss: 16.5372 - val_mean_absolute_error: 2.8063\n",
            "Epoch 136/200\n",
            " - 0s - loss: 2.0220 - mean_absolute_error: 1.0633 - val_loss: 15.3358 - val_mean_absolute_error: 2.8459\n",
            "Epoch 137/200\n",
            " - 0s - loss: 2.1131 - mean_absolute_error: 1.0804 - val_loss: 15.2336 - val_mean_absolute_error: 2.6288\n",
            "Epoch 138/200\n",
            " - 0s - loss: 2.1406 - mean_absolute_error: 1.0865 - val_loss: 14.2660 - val_mean_absolute_error: 2.5858\n",
            "Epoch 139/200\n",
            " - 0s - loss: 1.9450 - mean_absolute_error: 1.0452 - val_loss: 14.3899 - val_mean_absolute_error: 2.6087\n",
            "Epoch 140/200\n",
            " - 0s - loss: 1.8801 - mean_absolute_error: 1.0229 - val_loss: 17.1617 - val_mean_absolute_error: 2.8117\n",
            "Epoch 141/200\n",
            " - 0s - loss: 1.9000 - mean_absolute_error: 1.0253 - val_loss: 14.8187 - val_mean_absolute_error: 2.5950\n",
            "Epoch 142/200\n",
            " - 0s - loss: 2.0276 - mean_absolute_error: 1.0806 - val_loss: 16.1612 - val_mean_absolute_error: 2.7948\n",
            "Epoch 143/200\n",
            " - 0s - loss: 1.9093 - mean_absolute_error: 1.0319 - val_loss: 14.8399 - val_mean_absolute_error: 2.6351\n",
            "Epoch 144/200\n",
            " - 0s - loss: 2.0057 - mean_absolute_error: 1.0668 - val_loss: 15.9367 - val_mean_absolute_error: 2.7298\n",
            "Epoch 145/200\n",
            " - 0s - loss: 1.9744 - mean_absolute_error: 1.0144 - val_loss: 16.2111 - val_mean_absolute_error: 2.7856\n",
            "Epoch 146/200\n",
            " - 0s - loss: 1.8780 - mean_absolute_error: 1.0415 - val_loss: 15.3859 - val_mean_absolute_error: 2.7926\n",
            "Epoch 147/200\n",
            " - 0s - loss: 1.9756 - mean_absolute_error: 1.0307 - val_loss: 15.3872 - val_mean_absolute_error: 2.6617\n",
            "Epoch 148/200\n",
            " - 0s - loss: 2.0243 - mean_absolute_error: 1.0616 - val_loss: 16.0088 - val_mean_absolute_error: 2.7754\n",
            "Epoch 149/200\n",
            " - 0s - loss: 1.8518 - mean_absolute_error: 1.0501 - val_loss: 16.7817 - val_mean_absolute_error: 2.7045\n",
            "Epoch 150/200\n",
            " - 0s - loss: 1.6004 - mean_absolute_error: 0.9487 - val_loss: 14.5604 - val_mean_absolute_error: 2.6151\n",
            "Epoch 151/200\n",
            " - 0s - loss: 1.9134 - mean_absolute_error: 1.0486 - val_loss: 16.3628 - val_mean_absolute_error: 2.6454\n",
            "Epoch 152/200\n",
            " - 0s - loss: 1.7697 - mean_absolute_error: 1.0145 - val_loss: 15.7093 - val_mean_absolute_error: 2.7819\n",
            "Epoch 153/200\n",
            " - 0s - loss: 1.6722 - mean_absolute_error: 0.9531 - val_loss: 16.1259 - val_mean_absolute_error: 2.7708\n",
            "Epoch 154/200\n",
            " - 0s - loss: 1.8389 - mean_absolute_error: 0.9923 - val_loss: 14.7483 - val_mean_absolute_error: 2.6123\n",
            "Epoch 155/200\n",
            " - 0s - loss: 1.9234 - mean_absolute_error: 1.0396 - val_loss: 15.8296 - val_mean_absolute_error: 2.6842\n",
            "Epoch 156/200\n",
            " - 0s - loss: 1.5819 - mean_absolute_error: 0.9593 - val_loss: 17.6412 - val_mean_absolute_error: 2.8930\n",
            "Epoch 157/200\n",
            " - 0s - loss: 1.8301 - mean_absolute_error: 1.0340 - val_loss: 16.0760 - val_mean_absolute_error: 2.8495\n",
            "Epoch 158/200\n",
            " - 0s - loss: 1.9270 - mean_absolute_error: 1.0319 - val_loss: 15.1024 - val_mean_absolute_error: 2.7628\n",
            "Epoch 159/200\n",
            " - 0s - loss: 1.5903 - mean_absolute_error: 0.9737 - val_loss: 16.0931 - val_mean_absolute_error: 2.7933\n",
            "Epoch 160/200\n",
            " - 0s - loss: 1.7835 - mean_absolute_error: 0.9992 - val_loss: 18.2109 - val_mean_absolute_error: 2.9045\n",
            "Epoch 161/200\n",
            " - 0s - loss: 1.6995 - mean_absolute_error: 0.9622 - val_loss: 15.7419 - val_mean_absolute_error: 2.7282\n",
            "Epoch 162/200\n",
            " - 0s - loss: 1.9738 - mean_absolute_error: 1.0016 - val_loss: 15.7994 - val_mean_absolute_error: 2.7834\n",
            "Epoch 163/200\n",
            " - 0s - loss: 1.7659 - mean_absolute_error: 0.9873 - val_loss: 16.9952 - val_mean_absolute_error: 2.7674\n",
            "Epoch 164/200\n",
            " - 0s - loss: 1.5243 - mean_absolute_error: 0.9431 - val_loss: 17.0067 - val_mean_absolute_error: 2.9410\n",
            "Epoch 165/200\n",
            " - 0s - loss: 1.9650 - mean_absolute_error: 1.0462 - val_loss: 15.0707 - val_mean_absolute_error: 2.6389\n",
            "Epoch 166/200\n",
            " - 0s - loss: 1.6974 - mean_absolute_error: 0.9795 - val_loss: 15.8313 - val_mean_absolute_error: 2.7503\n",
            "Epoch 167/200\n",
            " - 0s - loss: 1.6674 - mean_absolute_error: 0.9640 - val_loss: 16.3864 - val_mean_absolute_error: 2.7731\n",
            "Epoch 168/200\n",
            " - 0s - loss: 1.6043 - mean_absolute_error: 0.9241 - val_loss: 18.6060 - val_mean_absolute_error: 2.9358\n",
            "Epoch 169/200\n",
            " - 0s - loss: 1.7538 - mean_absolute_error: 0.9757 - val_loss: 16.0518 - val_mean_absolute_error: 2.7711\n",
            "Epoch 170/200\n",
            " - 0s - loss: 1.6470 - mean_absolute_error: 0.9535 - val_loss: 16.1566 - val_mean_absolute_error: 2.7241\n",
            "Epoch 171/200\n",
            " - 0s - loss: 1.8280 - mean_absolute_error: 1.0258 - val_loss: 15.5114 - val_mean_absolute_error: 2.7516\n",
            "Epoch 172/200\n",
            " - 0s - loss: 1.5775 - mean_absolute_error: 0.9377 - val_loss: 15.6747 - val_mean_absolute_error: 2.6769\n",
            "Epoch 173/200\n",
            " - 0s - loss: 1.6013 - mean_absolute_error: 0.9465 - val_loss: 17.0748 - val_mean_absolute_error: 2.8288\n",
            "Epoch 174/200\n",
            " - 0s - loss: 1.6594 - mean_absolute_error: 0.9528 - val_loss: 18.4781 - val_mean_absolute_error: 2.9975\n",
            "Epoch 175/200\n",
            " - 0s - loss: 1.4740 - mean_absolute_error: 0.9171 - val_loss: 15.9445 - val_mean_absolute_error: 2.7317\n",
            "Epoch 176/200\n",
            " - 0s - loss: 1.5230 - mean_absolute_error: 0.9331 - val_loss: 16.0412 - val_mean_absolute_error: 2.8634\n",
            "Epoch 177/200\n",
            " - 0s - loss: 1.5254 - mean_absolute_error: 0.9337 - val_loss: 16.0272 - val_mean_absolute_error: 2.8848\n",
            "Epoch 178/200\n",
            " - 0s - loss: 1.5870 - mean_absolute_error: 0.9099 - val_loss: 16.2706 - val_mean_absolute_error: 2.8015\n",
            "Epoch 179/200\n",
            " - 0s - loss: 1.5531 - mean_absolute_error: 0.9374 - val_loss: 16.4395 - val_mean_absolute_error: 2.8609\n",
            "Epoch 180/200\n",
            " - 0s - loss: 1.7451 - mean_absolute_error: 0.9414 - val_loss: 15.5362 - val_mean_absolute_error: 2.7790\n",
            "Epoch 181/200\n",
            " - 0s - loss: 1.5493 - mean_absolute_error: 0.9217 - val_loss: 15.5728 - val_mean_absolute_error: 2.7327\n",
            "Epoch 182/200\n",
            " - 0s - loss: 1.5967 - mean_absolute_error: 0.9372 - val_loss: 16.3069 - val_mean_absolute_error: 2.7837\n",
            "Epoch 183/200\n",
            " - 0s - loss: 1.4750 - mean_absolute_error: 0.9110 - val_loss: 15.0649 - val_mean_absolute_error: 2.6404\n",
            "Epoch 184/200\n",
            " - 0s - loss: 1.5473 - mean_absolute_error: 0.8964 - val_loss: 14.7778 - val_mean_absolute_error: 2.6051\n",
            "Epoch 185/200\n",
            " - 0s - loss: 1.6098 - mean_absolute_error: 0.9645 - val_loss: 14.2909 - val_mean_absolute_error: 2.6200\n",
            "Epoch 186/200\n",
            " - 0s - loss: 1.6104 - mean_absolute_error: 0.9298 - val_loss: 15.4194 - val_mean_absolute_error: 2.6607\n",
            "Epoch 187/200\n",
            " - 0s - loss: 1.5077 - mean_absolute_error: 0.8931 - val_loss: 18.8927 - val_mean_absolute_error: 2.9729\n",
            "Epoch 188/200\n",
            " - 0s - loss: 1.4464 - mean_absolute_error: 0.8841 - val_loss: 15.5441 - val_mean_absolute_error: 2.8002\n",
            "Epoch 189/200\n",
            " - 0s - loss: 1.5178 - mean_absolute_error: 0.9352 - val_loss: 15.1944 - val_mean_absolute_error: 2.7049\n",
            "Epoch 190/200\n",
            " - 0s - loss: 1.5335 - mean_absolute_error: 0.8918 - val_loss: 16.3167 - val_mean_absolute_error: 2.7152\n",
            "Epoch 191/200\n",
            " - 0s - loss: 1.5178 - mean_absolute_error: 0.8859 - val_loss: 16.1226 - val_mean_absolute_error: 2.6966\n",
            "Epoch 192/200\n",
            " - 0s - loss: 1.6476 - mean_absolute_error: 0.9526 - val_loss: 15.8634 - val_mean_absolute_error: 2.7417\n",
            "Epoch 193/200\n",
            " - 0s - loss: 1.5813 - mean_absolute_error: 0.9256 - val_loss: 16.7150 - val_mean_absolute_error: 2.7434\n",
            "Epoch 194/200\n",
            " - 0s - loss: 1.3774 - mean_absolute_error: 0.8857 - val_loss: 18.0485 - val_mean_absolute_error: 2.8405\n",
            "Epoch 195/200\n",
            " - 0s - loss: 1.7612 - mean_absolute_error: 0.9448 - val_loss: 16.2043 - val_mean_absolute_error: 2.7660\n",
            "Epoch 196/200\n",
            " - 0s - loss: 1.6249 - mean_absolute_error: 0.9332 - val_loss: 16.8032 - val_mean_absolute_error: 2.8022\n",
            "Epoch 197/200\n",
            " - 0s - loss: 1.5010 - mean_absolute_error: 0.9190 - val_loss: 16.1307 - val_mean_absolute_error: 2.7829\n",
            "Epoch 198/200\n",
            " - 0s - loss: 1.6512 - mean_absolute_error: 0.9097 - val_loss: 16.0622 - val_mean_absolute_error: 2.7221\n",
            "Epoch 199/200\n",
            " - 0s - loss: 1.4064 - mean_absolute_error: 0.8670 - val_loss: 16.9736 - val_mean_absolute_error: 2.8734\n",
            "Epoch 200/200\n",
            " - 0s - loss: 1.4154 - mean_absolute_error: 0.8743 - val_loss: 17.1731 - val_mean_absolute_error: 3.0364\n",
            "processing fold # 3\n",
            "Train on 303 samples, validate on 101 samples\n",
            "Epoch 1/200\n",
            " - 1s - loss: 228.2346 - mean_absolute_error: 11.7265 - val_loss: 57.6296 - val_mean_absolute_error: 5.3061\n",
            "Epoch 2/200\n",
            " - 0s - loss: 28.4734 - mean_absolute_error: 3.5396 - val_loss: 34.8490 - val_mean_absolute_error: 3.7761\n",
            "Epoch 3/200\n",
            " - 0s - loss: 19.9698 - mean_absolute_error: 3.0659 - val_loss: 32.2206 - val_mean_absolute_error: 3.5449\n",
            "Epoch 4/200\n",
            " - 0s - loss: 17.5568 - mean_absolute_error: 2.7766 - val_loss: 24.7661 - val_mean_absolute_error: 3.0900\n",
            "Epoch 5/200\n",
            " - 0s - loss: 15.0896 - mean_absolute_error: 2.6171 - val_loss: 21.4812 - val_mean_absolute_error: 2.9625\n",
            "Epoch 6/200\n",
            " - 0s - loss: 13.4379 - mean_absolute_error: 2.4358 - val_loss: 22.0588 - val_mean_absolute_error: 2.9634\n",
            "Epoch 7/200\n",
            " - 0s - loss: 12.2868 - mean_absolute_error: 2.3358 - val_loss: 20.7335 - val_mean_absolute_error: 2.8215\n",
            "Epoch 8/200\n",
            " - 0s - loss: 11.2303 - mean_absolute_error: 2.2713 - val_loss: 21.5249 - val_mean_absolute_error: 2.9575\n",
            "Epoch 9/200\n",
            " - 0s - loss: 11.6237 - mean_absolute_error: 2.2370 - val_loss: 19.4175 - val_mean_absolute_error: 2.7539\n",
            "Epoch 10/200\n",
            " - 0s - loss: 10.7689 - mean_absolute_error: 2.1272 - val_loss: 19.5729 - val_mean_absolute_error: 2.9906\n",
            "Epoch 11/200\n",
            " - 0s - loss: 10.4302 - mean_absolute_error: 2.1276 - val_loss: 18.8522 - val_mean_absolute_error: 2.7968\n",
            "Epoch 12/200\n",
            " - 0s - loss: 10.1151 - mean_absolute_error: 2.1091 - val_loss: 17.2402 - val_mean_absolute_error: 2.7921\n",
            "Epoch 13/200\n",
            " - 0s - loss: 9.5716 - mean_absolute_error: 2.0914 - val_loss: 19.2192 - val_mean_absolute_error: 2.8653\n",
            "Epoch 14/200\n",
            " - 0s - loss: 9.9493 - mean_absolute_error: 2.0655 - val_loss: 18.2140 - val_mean_absolute_error: 2.7891\n",
            "Epoch 15/200\n",
            " - 0s - loss: 9.6936 - mean_absolute_error: 2.0264 - val_loss: 17.5629 - val_mean_absolute_error: 2.7490\n",
            "Epoch 16/200\n",
            " - 0s - loss: 9.1036 - mean_absolute_error: 1.9729 - val_loss: 18.4849 - val_mean_absolute_error: 2.8386\n",
            "Epoch 17/200\n",
            " - 0s - loss: 8.8420 - mean_absolute_error: 2.0043 - val_loss: 15.0791 - val_mean_absolute_error: 2.5221\n",
            "Epoch 18/200\n",
            " - 0s - loss: 8.5249 - mean_absolute_error: 1.8834 - val_loss: 17.4268 - val_mean_absolute_error: 2.7237\n",
            "Epoch 19/200\n",
            " - 0s - loss: 8.5523 - mean_absolute_error: 1.9640 - val_loss: 15.8822 - val_mean_absolute_error: 2.6747\n",
            "Epoch 20/200\n",
            " - 0s - loss: 8.9049 - mean_absolute_error: 1.9125 - val_loss: 16.6436 - val_mean_absolute_error: 2.6650\n",
            "Epoch 21/200\n",
            " - 0s - loss: 8.6015 - mean_absolute_error: 1.9148 - val_loss: 18.0490 - val_mean_absolute_error: 2.9736\n",
            "Epoch 22/200\n",
            " - 0s - loss: 8.3542 - mean_absolute_error: 1.9432 - val_loss: 14.2504 - val_mean_absolute_error: 2.4838\n",
            "Epoch 23/200\n",
            " - 0s - loss: 8.4435 - mean_absolute_error: 1.8917 - val_loss: 14.9011 - val_mean_absolute_error: 2.5916\n",
            "Epoch 24/200\n",
            " - 0s - loss: 7.9060 - mean_absolute_error: 1.8751 - val_loss: 17.0986 - val_mean_absolute_error: 2.7622\n",
            "Epoch 25/200\n",
            " - 0s - loss: 7.6981 - mean_absolute_error: 1.8186 - val_loss: 15.4341 - val_mean_absolute_error: 2.6475\n",
            "Epoch 26/200\n",
            " - 0s - loss: 7.6921 - mean_absolute_error: 1.8481 - val_loss: 16.3212 - val_mean_absolute_error: 2.7051\n",
            "Epoch 27/200\n",
            " - 0s - loss: 7.9578 - mean_absolute_error: 1.8520 - val_loss: 13.9641 - val_mean_absolute_error: 2.5934\n",
            "Epoch 28/200\n",
            " - 0s - loss: 7.7200 - mean_absolute_error: 1.8161 - val_loss: 15.2891 - val_mean_absolute_error: 2.6788\n",
            "Epoch 29/200\n",
            " - 0s - loss: 7.5338 - mean_absolute_error: 1.8276 - val_loss: 16.6669 - val_mean_absolute_error: 2.8048\n",
            "Epoch 30/200\n",
            " - 0s - loss: 7.5529 - mean_absolute_error: 1.7717 - val_loss: 15.6396 - val_mean_absolute_error: 2.7886\n",
            "Epoch 31/200\n",
            " - 0s - loss: 6.7216 - mean_absolute_error: 1.7919 - val_loss: 15.0775 - val_mean_absolute_error: 2.5926\n",
            "Epoch 32/200\n",
            " - 0s - loss: 7.7559 - mean_absolute_error: 1.7768 - val_loss: 14.6346 - val_mean_absolute_error: 2.6689\n",
            "Epoch 33/200\n",
            " - 0s - loss: 7.3098 - mean_absolute_error: 1.7642 - val_loss: 14.2544 - val_mean_absolute_error: 2.5846\n",
            "Epoch 34/200\n",
            " - 0s - loss: 7.1567 - mean_absolute_error: 1.7808 - val_loss: 14.4171 - val_mean_absolute_error: 2.5693\n",
            "Epoch 35/200\n",
            " - 0s - loss: 6.9017 - mean_absolute_error: 1.7663 - val_loss: 13.2204 - val_mean_absolute_error: 2.4245\n",
            "Epoch 36/200\n",
            " - 0s - loss: 7.0588 - mean_absolute_error: 1.7936 - val_loss: 14.5632 - val_mean_absolute_error: 2.5590\n",
            "Epoch 37/200\n",
            " - 0s - loss: 6.8474 - mean_absolute_error: 1.7098 - val_loss: 14.4015 - val_mean_absolute_error: 2.6303\n",
            "Epoch 38/200\n",
            " - 0s - loss: 6.5715 - mean_absolute_error: 1.7671 - val_loss: 15.2202 - val_mean_absolute_error: 2.7207\n",
            "Epoch 39/200\n",
            " - 0s - loss: 6.5991 - mean_absolute_error: 1.7739 - val_loss: 14.6801 - val_mean_absolute_error: 2.6436\n",
            "Epoch 40/200\n",
            " - 0s - loss: 6.2191 - mean_absolute_error: 1.6446 - val_loss: 16.0045 - val_mean_absolute_error: 2.8399\n",
            "Epoch 41/200\n",
            " - 0s - loss: 6.4487 - mean_absolute_error: 1.7294 - val_loss: 13.7274 - val_mean_absolute_error: 2.5531\n",
            "Epoch 42/200\n",
            " - 0s - loss: 6.3432 - mean_absolute_error: 1.6800 - val_loss: 15.5284 - val_mean_absolute_error: 2.8456\n",
            "Epoch 43/200\n",
            " - 0s - loss: 6.6893 - mean_absolute_error: 1.7458 - val_loss: 13.8281 - val_mean_absolute_error: 2.5666\n",
            "Epoch 44/200\n",
            " - 0s - loss: 6.3616 - mean_absolute_error: 1.6589 - val_loss: 15.7558 - val_mean_absolute_error: 2.8265\n",
            "Epoch 45/200\n",
            " - 0s - loss: 6.3490 - mean_absolute_error: 1.7040 - val_loss: 13.8603 - val_mean_absolute_error: 2.5567\n",
            "Epoch 46/200\n",
            " - 0s - loss: 6.2667 - mean_absolute_error: 1.6069 - val_loss: 13.9477 - val_mean_absolute_error: 2.5737\n",
            "Epoch 47/200\n",
            " - 0s - loss: 6.3916 - mean_absolute_error: 1.6469 - val_loss: 13.0502 - val_mean_absolute_error: 2.3931\n",
            "Epoch 48/200\n",
            " - 0s - loss: 6.0929 - mean_absolute_error: 1.5701 - val_loss: 14.2440 - val_mean_absolute_error: 2.5842\n",
            "Epoch 49/200\n",
            " - 0s - loss: 6.6840 - mean_absolute_error: 1.7044 - val_loss: 12.9669 - val_mean_absolute_error: 2.4637\n",
            "Epoch 50/200\n",
            " - 0s - loss: 6.1824 - mean_absolute_error: 1.6544 - val_loss: 14.1621 - val_mean_absolute_error: 2.5557\n",
            "Epoch 51/200\n",
            " - 0s - loss: 6.2394 - mean_absolute_error: 1.6454 - val_loss: 14.7540 - val_mean_absolute_error: 2.7224\n",
            "Epoch 52/200\n",
            " - 0s - loss: 5.6360 - mean_absolute_error: 1.5809 - val_loss: 14.0695 - val_mean_absolute_error: 2.6961\n",
            "Epoch 53/200\n",
            " - 0s - loss: 5.9360 - mean_absolute_error: 1.6239 - val_loss: 13.2947 - val_mean_absolute_error: 2.4511\n",
            "Epoch 54/200\n",
            " - 0s - loss: 5.8661 - mean_absolute_error: 1.6373 - val_loss: 14.5101 - val_mean_absolute_error: 2.7339\n",
            "Epoch 55/200\n",
            " - 0s - loss: 5.3170 - mean_absolute_error: 1.5888 - val_loss: 13.8216 - val_mean_absolute_error: 2.5342\n",
            "Epoch 56/200\n",
            " - 0s - loss: 5.7619 - mean_absolute_error: 1.5821 - val_loss: 13.6270 - val_mean_absolute_error: 2.5862\n",
            "Epoch 57/200\n",
            " - 0s - loss: 5.7131 - mean_absolute_error: 1.6241 - val_loss: 14.0937 - val_mean_absolute_error: 2.5494\n",
            "Epoch 58/200\n",
            " - 0s - loss: 5.4982 - mean_absolute_error: 1.5583 - val_loss: 13.2258 - val_mean_absolute_error: 2.4302\n",
            "Epoch 59/200\n",
            " - 0s - loss: 5.6543 - mean_absolute_error: 1.5793 - val_loss: 14.8133 - val_mean_absolute_error: 2.7713\n",
            "Epoch 60/200\n",
            " - 0s - loss: 5.7268 - mean_absolute_error: 1.5684 - val_loss: 13.1660 - val_mean_absolute_error: 2.4438\n",
            "Epoch 61/200\n",
            " - 0s - loss: 5.8707 - mean_absolute_error: 1.5805 - val_loss: 13.7448 - val_mean_absolute_error: 2.5002\n",
            "Epoch 62/200\n",
            " - 0s - loss: 5.5209 - mean_absolute_error: 1.5580 - val_loss: 13.7537 - val_mean_absolute_error: 2.5534\n",
            "Epoch 63/200\n",
            " - 0s - loss: 5.8595 - mean_absolute_error: 1.5468 - val_loss: 13.1435 - val_mean_absolute_error: 2.4606\n",
            "Epoch 64/200\n",
            " - 0s - loss: 5.6788 - mean_absolute_error: 1.5358 - val_loss: 13.6135 - val_mean_absolute_error: 2.4122\n",
            "Epoch 65/200\n",
            " - 0s - loss: 5.0943 - mean_absolute_error: 1.4339 - val_loss: 14.2885 - val_mean_absolute_error: 2.6466\n",
            "Epoch 66/200\n",
            " - 0s - loss: 5.2763 - mean_absolute_error: 1.4507 - val_loss: 13.5437 - val_mean_absolute_error: 2.4452\n",
            "Epoch 67/200\n",
            " - 0s - loss: 5.4352 - mean_absolute_error: 1.5702 - val_loss: 14.2754 - val_mean_absolute_error: 2.6073\n",
            "Epoch 68/200\n",
            " - 0s - loss: 5.4398 - mean_absolute_error: 1.4600 - val_loss: 14.0231 - val_mean_absolute_error: 2.5492\n",
            "Epoch 69/200\n",
            " - 0s - loss: 5.3922 - mean_absolute_error: 1.4984 - val_loss: 13.9694 - val_mean_absolute_error: 2.5324\n",
            "Epoch 70/200\n",
            " - 0s - loss: 5.0423 - mean_absolute_error: 1.5100 - val_loss: 16.5410 - val_mean_absolute_error: 2.9229\n",
            "Epoch 71/200\n",
            " - 0s - loss: 5.6153 - mean_absolute_error: 1.5417 - val_loss: 12.5086 - val_mean_absolute_error: 2.3592\n",
            "Epoch 72/200\n",
            " - 0s - loss: 5.0872 - mean_absolute_error: 1.4931 - val_loss: 13.1830 - val_mean_absolute_error: 2.5045\n",
            "Epoch 73/200\n",
            " - 0s - loss: 5.0483 - mean_absolute_error: 1.5127 - val_loss: 14.3017 - val_mean_absolute_error: 2.5286\n",
            "Epoch 74/200\n",
            " - 0s - loss: 4.8075 - mean_absolute_error: 1.4527 - val_loss: 15.0654 - val_mean_absolute_error: 2.7117\n",
            "Epoch 75/200\n",
            " - 0s - loss: 5.1405 - mean_absolute_error: 1.4500 - val_loss: 14.3864 - val_mean_absolute_error: 2.5973\n",
            "Epoch 76/200\n",
            " - 0s - loss: 5.1725 - mean_absolute_error: 1.4946 - val_loss: 13.7361 - val_mean_absolute_error: 2.5306\n",
            "Epoch 77/200\n",
            " - 0s - loss: 4.8547 - mean_absolute_error: 1.4533 - val_loss: 15.9182 - val_mean_absolute_error: 2.7541\n",
            "Epoch 78/200\n",
            " - 0s - loss: 5.0088 - mean_absolute_error: 1.4567 - val_loss: 15.1679 - val_mean_absolute_error: 2.7776\n",
            "Epoch 79/200\n",
            " - 0s - loss: 4.7796 - mean_absolute_error: 1.4712 - val_loss: 14.1683 - val_mean_absolute_error: 2.5312\n",
            "Epoch 80/200\n",
            " - 0s - loss: 5.0474 - mean_absolute_error: 1.4936 - val_loss: 13.7053 - val_mean_absolute_error: 2.4594\n",
            "Epoch 81/200\n",
            " - 0s - loss: 4.8067 - mean_absolute_error: 1.4523 - val_loss: 12.6049 - val_mean_absolute_error: 2.3553\n",
            "Epoch 82/200\n",
            " - 0s - loss: 4.8728 - mean_absolute_error: 1.4594 - val_loss: 13.6261 - val_mean_absolute_error: 2.4585\n",
            "Epoch 83/200\n",
            " - 0s - loss: 4.5830 - mean_absolute_error: 1.4226 - val_loss: 16.3785 - val_mean_absolute_error: 2.7736\n",
            "Epoch 84/200\n",
            " - 0s - loss: 4.8005 - mean_absolute_error: 1.4241 - val_loss: 13.5971 - val_mean_absolute_error: 2.4919\n",
            "Epoch 85/200\n",
            " - 0s - loss: 4.5340 - mean_absolute_error: 1.4523 - val_loss: 12.9634 - val_mean_absolute_error: 2.4369\n",
            "Epoch 86/200\n",
            " - 0s - loss: 4.5813 - mean_absolute_error: 1.4302 - val_loss: 15.1298 - val_mean_absolute_error: 2.6467\n",
            "Epoch 87/200\n",
            " - 0s - loss: 4.6729 - mean_absolute_error: 1.3767 - val_loss: 14.2837 - val_mean_absolute_error: 2.4859\n",
            "Epoch 88/200\n",
            " - 0s - loss: 4.4940 - mean_absolute_error: 1.4178 - val_loss: 13.1700 - val_mean_absolute_error: 2.3855\n",
            "Epoch 89/200\n",
            " - 0s - loss: 4.6477 - mean_absolute_error: 1.4297 - val_loss: 16.0679 - val_mean_absolute_error: 2.8348\n",
            "Epoch 90/200\n",
            " - 0s - loss: 4.5239 - mean_absolute_error: 1.4463 - val_loss: 12.7268 - val_mean_absolute_error: 2.3960\n",
            "Epoch 91/200\n",
            " - 0s - loss: 4.3060 - mean_absolute_error: 1.3659 - val_loss: 13.4094 - val_mean_absolute_error: 2.4990\n",
            "Epoch 92/200\n",
            " - 0s - loss: 4.6848 - mean_absolute_error: 1.4254 - val_loss: 15.2986 - val_mean_absolute_error: 2.6730\n",
            "Epoch 93/200\n",
            " - 0s - loss: 4.4613 - mean_absolute_error: 1.3441 - val_loss: 14.9806 - val_mean_absolute_error: 2.6182\n",
            "Epoch 94/200\n",
            " - 0s - loss: 4.3311 - mean_absolute_error: 1.3429 - val_loss: 13.8080 - val_mean_absolute_error: 2.4225\n",
            "Epoch 95/200\n",
            " - 0s - loss: 4.2903 - mean_absolute_error: 1.3974 - val_loss: 13.2079 - val_mean_absolute_error: 2.4181\n",
            "Epoch 96/200\n",
            " - 0s - loss: 4.4120 - mean_absolute_error: 1.3734 - val_loss: 13.0736 - val_mean_absolute_error: 2.4075\n",
            "Epoch 97/200\n",
            " - 0s - loss: 4.3069 - mean_absolute_error: 1.3732 - val_loss: 17.8277 - val_mean_absolute_error: 2.9991\n",
            "Epoch 98/200\n",
            " - 0s - loss: 4.3625 - mean_absolute_error: 1.3599 - val_loss: 13.7229 - val_mean_absolute_error: 2.5559\n",
            "Epoch 99/200\n",
            " - 0s - loss: 4.3007 - mean_absolute_error: 1.3130 - val_loss: 15.5143 - val_mean_absolute_error: 2.6077\n",
            "Epoch 100/200\n",
            " - 0s - loss: 3.9971 - mean_absolute_error: 1.4046 - val_loss: 16.4272 - val_mean_absolute_error: 2.8184\n",
            "Epoch 101/200\n",
            " - 0s - loss: 4.1561 - mean_absolute_error: 1.3700 - val_loss: 14.2040 - val_mean_absolute_error: 2.5283\n",
            "Epoch 102/200\n",
            " - 0s - loss: 4.2449 - mean_absolute_error: 1.3523 - val_loss: 14.3946 - val_mean_absolute_error: 2.5158\n",
            "Epoch 103/200\n",
            " - 0s - loss: 3.9844 - mean_absolute_error: 1.2926 - val_loss: 15.8594 - val_mean_absolute_error: 2.8028\n",
            "Epoch 104/200\n",
            " - 0s - loss: 4.0957 - mean_absolute_error: 1.3814 - val_loss: 14.6746 - val_mean_absolute_error: 2.6919\n",
            "Epoch 105/200\n",
            " - 0s - loss: 4.0477 - mean_absolute_error: 1.2906 - val_loss: 14.2979 - val_mean_absolute_error: 2.5544\n",
            "Epoch 106/200\n",
            " - 0s - loss: 4.1034 - mean_absolute_error: 1.3065 - val_loss: 14.7577 - val_mean_absolute_error: 2.5135\n",
            "Epoch 107/200\n",
            " - 0s - loss: 3.7061 - mean_absolute_error: 1.3425 - val_loss: 15.3539 - val_mean_absolute_error: 2.6831\n",
            "Epoch 108/200\n",
            " - 0s - loss: 4.3229 - mean_absolute_error: 1.3108 - val_loss: 15.4419 - val_mean_absolute_error: 2.8484\n",
            "Epoch 109/200\n",
            " - 0s - loss: 4.0006 - mean_absolute_error: 1.3268 - val_loss: 15.2955 - val_mean_absolute_error: 2.6012\n",
            "Epoch 110/200\n",
            " - 0s - loss: 4.1908 - mean_absolute_error: 1.2801 - val_loss: 14.0210 - val_mean_absolute_error: 2.5377\n",
            "Epoch 111/200\n",
            " - 0s - loss: 3.8501 - mean_absolute_error: 1.2765 - val_loss: 13.6823 - val_mean_absolute_error: 2.6642\n",
            "Epoch 112/200\n",
            " - 0s - loss: 3.6585 - mean_absolute_error: 1.3298 - val_loss: 15.9598 - val_mean_absolute_error: 2.7038\n",
            "Epoch 113/200\n",
            " - 0s - loss: 3.9582 - mean_absolute_error: 1.3316 - val_loss: 14.7336 - val_mean_absolute_error: 2.5904\n",
            "Epoch 114/200\n",
            " - 0s - loss: 3.7099 - mean_absolute_error: 1.2613 - val_loss: 13.5806 - val_mean_absolute_error: 2.4580\n",
            "Epoch 115/200\n",
            " - 0s - loss: 3.7854 - mean_absolute_error: 1.3202 - val_loss: 15.4061 - val_mean_absolute_error: 2.8069\n",
            "Epoch 116/200\n",
            " - 0s - loss: 4.0326 - mean_absolute_error: 1.2872 - val_loss: 14.5081 - val_mean_absolute_error: 2.6230\n",
            "Epoch 117/200\n",
            " - 0s - loss: 3.6942 - mean_absolute_error: 1.2481 - val_loss: 14.4953 - val_mean_absolute_error: 2.5960\n",
            "Epoch 118/200\n",
            " - 0s - loss: 3.5891 - mean_absolute_error: 1.2694 - val_loss: 14.2685 - val_mean_absolute_error: 2.5344\n",
            "Epoch 119/200\n",
            " - 0s - loss: 3.6830 - mean_absolute_error: 1.2658 - val_loss: 16.9817 - val_mean_absolute_error: 2.7707\n",
            "Epoch 120/200\n",
            " - 0s - loss: 3.7081 - mean_absolute_error: 1.3182 - val_loss: 15.6518 - val_mean_absolute_error: 2.7098\n",
            "Epoch 121/200\n",
            " - 0s - loss: 3.3753 - mean_absolute_error: 1.2449 - val_loss: 17.4084 - val_mean_absolute_error: 2.8450\n",
            "Epoch 122/200\n",
            " - 0s - loss: 3.6777 - mean_absolute_error: 1.2621 - val_loss: 16.3460 - val_mean_absolute_error: 2.7111\n",
            "Epoch 123/200\n",
            " - 0s - loss: 3.5373 - mean_absolute_error: 1.2476 - val_loss: 15.7642 - val_mean_absolute_error: 2.6490\n",
            "Epoch 124/200\n",
            " - 0s - loss: 3.3193 - mean_absolute_error: 1.2320 - val_loss: 15.8659 - val_mean_absolute_error: 2.8292\n",
            "Epoch 125/200\n",
            " - 0s - loss: 3.5472 - mean_absolute_error: 1.2946 - val_loss: 15.0136 - val_mean_absolute_error: 2.6069\n",
            "Epoch 126/200\n",
            " - 0s - loss: 3.6740 - mean_absolute_error: 1.2484 - val_loss: 14.3551 - val_mean_absolute_error: 2.5406\n",
            "Epoch 127/200\n",
            " - 0s - loss: 3.5075 - mean_absolute_error: 1.2725 - val_loss: 15.6648 - val_mean_absolute_error: 2.6822\n",
            "Epoch 128/200\n",
            " - 0s - loss: 3.4797 - mean_absolute_error: 1.2561 - val_loss: 15.0443 - val_mean_absolute_error: 2.5080\n",
            "Epoch 129/200\n",
            " - 0s - loss: 3.3508 - mean_absolute_error: 1.2297 - val_loss: 15.0872 - val_mean_absolute_error: 2.6829\n",
            "Epoch 130/200\n",
            " - 0s - loss: 3.6124 - mean_absolute_error: 1.1968 - val_loss: 14.7392 - val_mean_absolute_error: 2.5470\n",
            "Epoch 131/200\n",
            " - 0s - loss: 3.3663 - mean_absolute_error: 1.2583 - val_loss: 14.2223 - val_mean_absolute_error: 2.5176\n",
            "Epoch 132/200\n",
            " - 0s - loss: 3.3681 - mean_absolute_error: 1.1959 - val_loss: 15.0096 - val_mean_absolute_error: 2.7672\n",
            "Epoch 133/200\n",
            " - 0s - loss: 3.4421 - mean_absolute_error: 1.2256 - val_loss: 17.2594 - val_mean_absolute_error: 2.8465\n",
            "Epoch 134/200\n",
            " - 0s - loss: 3.2544 - mean_absolute_error: 1.2219 - val_loss: 15.8689 - val_mean_absolute_error: 2.6031\n",
            "Epoch 135/200\n",
            " - 0s - loss: 3.2588 - mean_absolute_error: 1.1856 - val_loss: 15.1596 - val_mean_absolute_error: 2.5708\n",
            "Epoch 136/200\n",
            " - 0s - loss: 3.4835 - mean_absolute_error: 1.2246 - val_loss: 14.9875 - val_mean_absolute_error: 2.6206\n",
            "Epoch 137/200\n",
            " - 0s - loss: 3.1097 - mean_absolute_error: 1.1926 - val_loss: 15.4134 - val_mean_absolute_error: 2.7170\n",
            "Epoch 138/200\n",
            " - 0s - loss: 3.1656 - mean_absolute_error: 1.1809 - val_loss: 15.2287 - val_mean_absolute_error: 2.8770\n",
            "Epoch 139/200\n",
            " - 0s - loss: 3.4552 - mean_absolute_error: 1.1900 - val_loss: 15.4137 - val_mean_absolute_error: 2.7487\n",
            "Epoch 140/200\n",
            " - 0s - loss: 2.9150 - mean_absolute_error: 1.1537 - val_loss: 15.6406 - val_mean_absolute_error: 2.7038\n",
            "Epoch 141/200\n",
            " - 0s - loss: 3.5176 - mean_absolute_error: 1.2369 - val_loss: 14.5802 - val_mean_absolute_error: 2.6169\n",
            "Epoch 142/200\n",
            " - 0s - loss: 3.2797 - mean_absolute_error: 1.2324 - val_loss: 13.3017 - val_mean_absolute_error: 2.5022\n",
            "Epoch 143/200\n",
            " - 0s - loss: 2.8775 - mean_absolute_error: 1.1716 - val_loss: 15.8742 - val_mean_absolute_error: 2.7598\n",
            "Epoch 144/200\n",
            " - 0s - loss: 2.9847 - mean_absolute_error: 1.1606 - val_loss: 16.6543 - val_mean_absolute_error: 2.8874\n",
            "Epoch 145/200\n",
            " - 0s - loss: 3.0786 - mean_absolute_error: 1.1693 - val_loss: 15.2723 - val_mean_absolute_error: 2.6843\n",
            "Epoch 146/200\n",
            " - 0s - loss: 3.0301 - mean_absolute_error: 1.1987 - val_loss: 14.9942 - val_mean_absolute_error: 2.6660\n",
            "Epoch 147/200\n",
            " - 0s - loss: 3.1556 - mean_absolute_error: 1.1429 - val_loss: 14.1024 - val_mean_absolute_error: 2.5745\n",
            "Epoch 148/200\n",
            " - 0s - loss: 3.1034 - mean_absolute_error: 1.1513 - val_loss: 15.1246 - val_mean_absolute_error: 2.7796\n",
            "Epoch 149/200\n",
            " - 0s - loss: 3.0708 - mean_absolute_error: 1.1924 - val_loss: 14.5906 - val_mean_absolute_error: 2.6751\n",
            "Epoch 150/200\n",
            " - 0s - loss: 2.9313 - mean_absolute_error: 1.1623 - val_loss: 16.5319 - val_mean_absolute_error: 2.9304\n",
            "Epoch 151/200\n",
            " - 0s - loss: 3.0889 - mean_absolute_error: 1.1778 - val_loss: 14.1089 - val_mean_absolute_error: 2.5394\n",
            "Epoch 152/200\n",
            " - 0s - loss: 2.8940 - mean_absolute_error: 1.1421 - val_loss: 15.1751 - val_mean_absolute_error: 2.6524\n",
            "Epoch 153/200\n",
            " - 0s - loss: 3.0808 - mean_absolute_error: 1.1474 - val_loss: 15.1666 - val_mean_absolute_error: 2.6428\n",
            "Epoch 154/200\n",
            " - 0s - loss: 2.8116 - mean_absolute_error: 1.1683 - val_loss: 14.3771 - val_mean_absolute_error: 2.6735\n",
            "Epoch 155/200\n",
            " - 0s - loss: 2.6582 - mean_absolute_error: 1.1355 - val_loss: 15.0294 - val_mean_absolute_error: 2.6324\n",
            "Epoch 156/200\n",
            " - 0s - loss: 2.7342 - mean_absolute_error: 1.1453 - val_loss: 14.5726 - val_mean_absolute_error: 2.7098\n",
            "Epoch 157/200\n",
            " - 0s - loss: 2.8962 - mean_absolute_error: 1.1244 - val_loss: 15.2449 - val_mean_absolute_error: 2.6612\n",
            "Epoch 158/200\n",
            " - 0s - loss: 3.0259 - mean_absolute_error: 1.1431 - val_loss: 14.1606 - val_mean_absolute_error: 2.6526\n",
            "Epoch 159/200\n",
            " - 0s - loss: 2.7007 - mean_absolute_error: 1.1288 - val_loss: 15.2605 - val_mean_absolute_error: 2.7393\n",
            "Epoch 160/200\n",
            " - 0s - loss: 2.7764 - mean_absolute_error: 1.1779 - val_loss: 14.0823 - val_mean_absolute_error: 2.4626\n",
            "Epoch 161/200\n",
            " - 0s - loss: 2.6953 - mean_absolute_error: 1.1255 - val_loss: 14.1788 - val_mean_absolute_error: 2.6298\n",
            "Epoch 162/200\n",
            " - 0s - loss: 2.8117 - mean_absolute_error: 1.1125 - val_loss: 14.5849 - val_mean_absolute_error: 2.5951\n",
            "Epoch 163/200\n",
            " - 0s - loss: 2.8652 - mean_absolute_error: 1.1987 - val_loss: 14.7627 - val_mean_absolute_error: 2.7102\n",
            "Epoch 164/200\n",
            " - 0s - loss: 2.6313 - mean_absolute_error: 1.1304 - val_loss: 14.7541 - val_mean_absolute_error: 2.5397\n",
            "Epoch 165/200\n",
            " - 0s - loss: 2.7855 - mean_absolute_error: 1.1391 - val_loss: 14.5241 - val_mean_absolute_error: 2.6319\n",
            "Epoch 166/200\n",
            " - 0s - loss: 2.3959 - mean_absolute_error: 1.0824 - val_loss: 16.4837 - val_mean_absolute_error: 2.7564\n",
            "Epoch 167/200\n",
            " - 0s - loss: 2.7278 - mean_absolute_error: 1.1445 - val_loss: 16.8257 - val_mean_absolute_error: 2.7891\n",
            "Epoch 168/200\n",
            " - 0s - loss: 2.6797 - mean_absolute_error: 1.1169 - val_loss: 15.1396 - val_mean_absolute_error: 2.6074\n",
            "Epoch 169/200\n",
            " - 0s - loss: 2.7419 - mean_absolute_error: 1.1463 - val_loss: 13.9004 - val_mean_absolute_error: 2.5835\n",
            "Epoch 170/200\n",
            " - 0s - loss: 2.5167 - mean_absolute_error: 1.0894 - val_loss: 14.3133 - val_mean_absolute_error: 2.6179\n",
            "Epoch 171/200\n",
            " - 0s - loss: 2.6633 - mean_absolute_error: 1.1340 - val_loss: 15.9432 - val_mean_absolute_error: 2.7051\n",
            "Epoch 172/200\n",
            " - 0s - loss: 2.3177 - mean_absolute_error: 1.1026 - val_loss: 18.0185 - val_mean_absolute_error: 2.9211\n",
            "Epoch 173/200\n",
            " - 0s - loss: 2.6757 - mean_absolute_error: 1.1336 - val_loss: 14.4769 - val_mean_absolute_error: 2.5740\n",
            "Epoch 174/200\n",
            " - 0s - loss: 2.7999 - mean_absolute_error: 1.1164 - val_loss: 16.0000 - val_mean_absolute_error: 2.7358\n",
            "Epoch 175/200\n",
            " - 0s - loss: 2.8099 - mean_absolute_error: 1.1294 - val_loss: 16.6436 - val_mean_absolute_error: 2.9927\n",
            "Epoch 176/200\n",
            " - 0s - loss: 2.6402 - mean_absolute_error: 1.1097 - val_loss: 15.8474 - val_mean_absolute_error: 2.6364\n",
            "Epoch 177/200\n",
            " - 0s - loss: 2.4022 - mean_absolute_error: 1.0880 - val_loss: 13.3559 - val_mean_absolute_error: 2.5163\n",
            "Epoch 178/200\n",
            " - 0s - loss: 2.5248 - mean_absolute_error: 1.0797 - val_loss: 15.1323 - val_mean_absolute_error: 2.7491\n",
            "Epoch 179/200\n",
            " - 0s - loss: 2.7882 - mean_absolute_error: 1.1436 - val_loss: 16.4621 - val_mean_absolute_error: 2.6578\n",
            "Epoch 180/200\n",
            " - 0s - loss: 2.3835 - mean_absolute_error: 1.0907 - val_loss: 13.4158 - val_mean_absolute_error: 2.4620\n",
            "Epoch 181/200\n",
            " - 0s - loss: 2.5974 - mean_absolute_error: 1.0724 - val_loss: 14.5618 - val_mean_absolute_error: 2.5235\n",
            "Epoch 182/200\n",
            " - 0s - loss: 2.4099 - mean_absolute_error: 1.0623 - val_loss: 15.0873 - val_mean_absolute_error: 2.7409\n",
            "Epoch 183/200\n",
            " - 0s - loss: 2.2429 - mean_absolute_error: 1.0595 - val_loss: 14.5050 - val_mean_absolute_error: 2.6125\n",
            "Epoch 184/200\n",
            " - 0s - loss: 2.5793 - mean_absolute_error: 1.1102 - val_loss: 15.8535 - val_mean_absolute_error: 2.9549\n",
            "Epoch 185/200\n",
            " - 0s - loss: 2.4142 - mean_absolute_error: 1.0610 - val_loss: 14.2046 - val_mean_absolute_error: 2.4949\n",
            "Epoch 186/200\n",
            " - 0s - loss: 2.5469 - mean_absolute_error: 1.1203 - val_loss: 15.5443 - val_mean_absolute_error: 2.7343\n",
            "Epoch 187/200\n",
            " - 0s - loss: 2.1997 - mean_absolute_error: 1.0332 - val_loss: 16.1831 - val_mean_absolute_error: 2.8317\n",
            "Epoch 188/200\n",
            " - 0s - loss: 2.6096 - mean_absolute_error: 1.0951 - val_loss: 14.7142 - val_mean_absolute_error: 2.5328\n",
            "Epoch 189/200\n",
            " - 0s - loss: 2.4057 - mean_absolute_error: 1.0436 - val_loss: 13.0689 - val_mean_absolute_error: 2.4254\n",
            "Epoch 190/200\n",
            " - 0s - loss: 2.3226 - mean_absolute_error: 1.0636 - val_loss: 16.1665 - val_mean_absolute_error: 2.7012\n",
            "Epoch 191/200\n",
            " - 0s - loss: 2.4048 - mean_absolute_error: 1.0982 - val_loss: 14.1549 - val_mean_absolute_error: 2.6055\n",
            "Epoch 192/200\n",
            " - 0s - loss: 2.2663 - mean_absolute_error: 1.0608 - val_loss: 14.8584 - val_mean_absolute_error: 2.7494\n",
            "Epoch 193/200\n",
            " - 0s - loss: 2.2888 - mean_absolute_error: 1.0612 - val_loss: 14.9132 - val_mean_absolute_error: 2.7848\n",
            "Epoch 194/200\n",
            " - 0s - loss: 2.2270 - mean_absolute_error: 1.0297 - val_loss: 15.0195 - val_mean_absolute_error: 2.7052\n",
            "Epoch 195/200\n",
            " - 0s - loss: 2.1834 - mean_absolute_error: 1.0274 - val_loss: 14.2124 - val_mean_absolute_error: 2.5982\n",
            "Epoch 196/200\n",
            " - 0s - loss: 1.9241 - mean_absolute_error: 0.9825 - val_loss: 15.4895 - val_mean_absolute_error: 2.7571\n",
            "Epoch 197/200\n",
            " - 0s - loss: 2.1395 - mean_absolute_error: 1.0581 - val_loss: 14.7265 - val_mean_absolute_error: 2.6212\n",
            "Epoch 198/200\n",
            " - 0s - loss: 2.2383 - mean_absolute_error: 1.0614 - val_loss: 14.2294 - val_mean_absolute_error: 2.6205\n",
            "Epoch 199/200\n",
            " - 0s - loss: 2.5794 - mean_absolute_error: 1.1487 - val_loss: 17.1392 - val_mean_absolute_error: 2.8836\n",
            "Epoch 200/200\n",
            " - 0s - loss: 2.3142 - mean_absolute_error: 1.0420 - val_loss: 16.0432 - val_mean_absolute_error: 2.7781\n"
          ],
          "name": "stdout"
        }
      ]
    },
    {
      "cell_type": "code",
      "metadata": {
        "colab_type": "code",
        "id": "g1EJEG6a9Ew-",
        "colab": {
          "base_uri": "https://localhost:8080/",
          "height": 501
        },
        "outputId": "6cca2bcb-0a72-42bb-e074-74be17387f9c"
      },
      "source": [
        "plt.plot(all_mae_histories[0])\n",
        "plt.plot(all_mae_histories[1])\n",
        "plt.plot(all_mae_histories[2])\n",
        "plt.plot(all_mae_histories[3])\n",
        "plt.title('Validation loss')\n",
        "plt.ylabel('loss')\n",
        "plt.xlabel('epoch')\n",
        "plt.legend(['fold1', 'fold2', 'fold3', 'fold4'], loc = 'best')\n",
        "plt.show()"
      ],
      "execution_count": 48,
      "outputs": [
        {
          "output_type": "display_data",
          "data": {
            "image/png": "[encoded data removed]",
            "text/plain": [
              "<Figure size 750x500 with 1 Axes>"
            ]
          },
          "metadata": {
            "tags": []
          }
        }
      ]
    },
    {
      "cell_type": "markdown",
      "metadata": {
        "id": "Jt4ktkKeNjBO",
        "colab_type": "text"
      },
      "source": [
        "From the graph we can see that for all the folds loss initially decreases drastically after it oscillates up and down within a limited range without any drastic increase or decrease. Loss of other folds oscillate less compared to fold2 which changes more than others. Fold1 has the best loss compares to other folds."
      ]
    },
    {
      "cell_type": "markdown",
      "metadata": {
        "colab_type": "text",
        "id": "ARqVvyMX9ExF"
      },
      "source": [
        "#### Takeaways\n",
        "* Regression is usually done using MSE loss and MAE for evaluation\n",
        "* Input data should always be scaled (independent from the test set)\n",
        "* Small datasets:\n",
        "    - Use cross-validation\n",
        "    - Use simple (non-deep) networks\n",
        "    - Smaller batches, more epochs"
      ]
    }
  ]
}